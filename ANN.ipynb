{
 "cells": [
  {
   "cell_type": "markdown",
   "id": "57bb0b6c-ba59-43e9-b5df-532c411a683e",
   "metadata": {},
   "source": [
    "# Artificial Neural Network for Apt Pricing Prediction"
   ]
  },
  {
   "cell_type": "code",
   "execution_count": 21,
   "id": "6a3a012c-27c2-4a73-999e-936c6a0d15a6",
   "metadata": {},
   "outputs": [],
   "source": [
    "import numpy as np\n",
    "import pandas as pd\n",
    "import matplotlib.pyplot as plt\n",
    "from sklearn.model_selection import train_test_split\n",
    "import math\n",
    "from sklearn.metrics import mean_squared_error"
   ]
  },
  {
   "cell_type": "code",
   "execution_count": 111,
   "id": "3d3d66c9-e2af-4a93-9589-d48ae007c620",
   "metadata": {},
   "outputs": [
    {
     "data": {
      "text/html": [
       "<div>\n",
       "<style scoped>\n",
       "    .dataframe tbody tr th:only-of-type {\n",
       "        vertical-align: middle;\n",
       "    }\n",
       "\n",
       "    .dataframe tbody tr th {\n",
       "        vertical-align: top;\n",
       "    }\n",
       "\n",
       "    .dataframe thead th {\n",
       "        text-align: right;\n",
       "    }\n",
       "</style>\n",
       "<table border=\"1\" class=\"dataframe\">\n",
       "  <thead>\n",
       "    <tr style=\"text-align: right;\">\n",
       "      <th></th>\n",
       "      <th>scaled_y</th>\n",
       "      <th>y</th>\n",
       "      <th>scaled_x1</th>\n",
       "      <th>scaled_x2</th>\n",
       "      <th>scaled_x3</th>\n",
       "      <th>scaled_x4</th>\n",
       "      <th>x_2_dumm</th>\n",
       "      <th>x_3_dumm</th>\n",
       "      <th>x_4_dumm</th>\n",
       "      <th>x1</th>\n",
       "    </tr>\n",
       "  </thead>\n",
       "  <tbody>\n",
       "    <tr>\n",
       "      <th>0</th>\n",
       "      <td>-0.053227</td>\n",
       "      <td>139.0000</td>\n",
       "      <td>-0.143087</td>\n",
       "      <td>-0.087855</td>\n",
       "      <td>-0.096478</td>\n",
       "      <td>-0.089952</td>\n",
       "      <td>0</td>\n",
       "      <td>0</td>\n",
       "      <td>0</td>\n",
       "      <td>58.00</td>\n",
       "    </tr>\n",
       "    <tr>\n",
       "      <th>1</th>\n",
       "      <td>-0.034211</td>\n",
       "      <td>233.2596</td>\n",
       "      <td>-0.119559</td>\n",
       "      <td>-0.087855</td>\n",
       "      <td>-0.096478</td>\n",
       "      <td>-0.089952</td>\n",
       "      <td>0</td>\n",
       "      <td>0</td>\n",
       "      <td>0</td>\n",
       "      <td>79.34</td>\n",
       "    </tr>\n",
       "    <tr>\n",
       "      <th>2</th>\n",
       "      <td>-0.052016</td>\n",
       "      <td>145.0000</td>\n",
       "      <td>-0.105601</td>\n",
       "      <td>-0.087855</td>\n",
       "      <td>-0.096478</td>\n",
       "      <td>-0.089952</td>\n",
       "      <td>0</td>\n",
       "      <td>0</td>\n",
       "      <td>0</td>\n",
       "      <td>92.00</td>\n",
       "    </tr>\n",
       "    <tr>\n",
       "      <th>3</th>\n",
       "      <td>-0.057463</td>\n",
       "      <td>118.0000</td>\n",
       "      <td>-0.134267</td>\n",
       "      <td>-0.087855</td>\n",
       "      <td>-0.096478</td>\n",
       "      <td>-0.089952</td>\n",
       "      <td>0</td>\n",
       "      <td>0</td>\n",
       "      <td>0</td>\n",
       "      <td>66.00</td>\n",
       "    </tr>\n",
       "    <tr>\n",
       "      <th>4</th>\n",
       "      <td>-0.056051</td>\n",
       "      <td>125.0000</td>\n",
       "      <td>-0.128754</td>\n",
       "      <td>-0.087855</td>\n",
       "      <td>-0.096478</td>\n",
       "      <td>-0.089952</td>\n",
       "      <td>0</td>\n",
       "      <td>0</td>\n",
       "      <td>0</td>\n",
       "      <td>71.00</td>\n",
       "    </tr>\n",
       "  </tbody>\n",
       "</table>\n",
       "</div>"
      ],
      "text/plain": [
       "   scaled_y         y  scaled_x1  scaled_x2  scaled_x3  scaled_x4  x_2_dumm  \\\n",
       "0 -0.053227  139.0000  -0.143087  -0.087855  -0.096478  -0.089952         0   \n",
       "1 -0.034211  233.2596  -0.119559  -0.087855  -0.096478  -0.089952         0   \n",
       "2 -0.052016  145.0000  -0.105601  -0.087855  -0.096478  -0.089952         0   \n",
       "3 -0.057463  118.0000  -0.134267  -0.087855  -0.096478  -0.089952         0   \n",
       "4 -0.056051  125.0000  -0.128754  -0.087855  -0.096478  -0.089952         0   \n",
       "\n",
       "   x_3_dumm  x_4_dumm     x1  \n",
       "0         0         0  58.00  \n",
       "1         0         0  79.34  \n",
       "2         0         0  92.00  \n",
       "3         0         0  66.00  \n",
       "4         0         0  71.00  "
      ]
     },
     "execution_count": 111,
     "metadata": {},
     "output_type": "execute_result"
    }
   ],
   "source": [
    "df = pd.read_csv(\"data/data_scaled.csv\")\n",
    "df.head()"
   ]
  },
  {
   "cell_type": "code",
   "execution_count": 112,
   "id": "6e662809-11cc-448a-be1e-8f2ccbfa4268",
   "metadata": {},
   "outputs": [],
   "source": [
    "y = df['scaled_y']\n",
    "X = df.drop(columns=['y', 'x_2_dumm', 'x_3_dumm', 'x_4_dumm', 'x1', 'scaled_y'])"
   ]
  },
  {
   "cell_type": "code",
   "execution_count": 113,
   "id": "231869dc-e234-470b-8ee5-7f4210b490bf",
   "metadata": {},
   "outputs": [],
   "source": [
    "# y = df['scaled_y']\n",
    "# X = df.drop(columns=['y', 'scaled_x2', 'scaled_x3', 'scaled_x4', 'x1', 'scaled_y'])"
   ]
  },
  {
   "cell_type": "code",
   "execution_count": 114,
   "id": "7224fe66-2bbd-4aa9-bbc1-9de106297fa5",
   "metadata": {},
   "outputs": [],
   "source": [
    "X_train, X_test_cross, y_train, y_test_cross = train_test_split(X, y, test_size=0.4, random_state=101)"
   ]
  },
  {
   "cell_type": "code",
   "execution_count": 115,
   "id": "8b7612ef-5775-4a8c-ace8-374955081cfd",
   "metadata": {},
   "outputs": [],
   "source": [
    "X_test, X_cross, y_test, y_cross = train_test_split(X_test_cross, y_test_cross, test_size=0.5,random_state=100)"
   ]
  },
  {
   "cell_type": "code",
   "execution_count": 103,
   "id": "d183dfdd-391a-4fdf-a47f-4cdeeebcf89b",
   "metadata": {},
   "outputs": [],
   "source": [
    "# !pip install tensorflow"
   ]
  },
  {
   "cell_type": "code",
   "execution_count": 15,
   "id": "37c7ae76-0f15-40aa-911f-16ec623bd27d",
   "metadata": {},
   "outputs": [],
   "source": [
    "import tensorflow as tf\n",
    "from tensorflow.keras.models import Sequential\n",
    "from tensorflow.keras.layers import Dense, Dropout\n",
    "from tensorflow.keras.activations import relu,linear"
   ]
  },
  {
   "cell_type": "code",
   "execution_count": 18,
   "id": "53d89245-e9f5-47d6-a297-491f4698e444",
   "metadata": {},
   "outputs": [],
   "source": [
    "from tensorflow.keras.losses import SparseCategoricalCrossentropy\n",
    "from tensorflow.keras.optimizers import Adam\n",
    "\n",
    "from tensorflow.keras.losses import MeanSquaredLogarithmicError"
   ]
  },
  {
   "cell_type": "code",
   "execution_count": 116,
   "id": "61e2d596-affc-4d2c-9d54-6a807e605807",
   "metadata": {},
   "outputs": [],
   "source": [
    "hidden_units1 = 4\n",
    "hidden_units2 = 6\n",
    "hidden_units3 = 2\n",
    "learning_rate = 0.01\n",
    "# Creating model using the Sequential in tensorflow\n",
    "def build_model_using_sequential():\n",
    "  model = Sequential([\n",
    "    Dense(hidden_units1, kernel_initializer='normal', activation='relu'),\n",
    "    Dropout(0.2),\n",
    "    Dense(hidden_units2, kernel_initializer='normal', activation='relu'),\n",
    "    Dropout(0.2),\n",
    "    Dense(hidden_units3, kernel_initializer='normal', activation='relu'),\n",
    "    Dense(1, kernel_initializer='normal', activation='linear')\n",
    "  ])\n",
    "  return model\n",
    "# build the model\n",
    "model = build_model_using_sequential()"
   ]
  },
  {
   "cell_type": "code",
   "execution_count": 117,
   "id": "f97689f5-555e-4b59-a48d-09bb880657f4",
   "metadata": {},
   "outputs": [
    {
     "name": "stdout",
     "output_type": "stream",
     "text": [
      "Epoch 1/5\n",
      "71/71 [==============================] - 2s 7ms/step - loss: 0.0023 - mean_squared_logarithmic_error: 0.0023 - val_loss: 9.8784e-04 - val_mean_squared_logarithmic_error: 9.7832e-04\n",
      "Epoch 2/5\n",
      "71/71 [==============================] - 0s 4ms/step - loss: 0.0014 - mean_squared_logarithmic_error: 0.0014 - val_loss: 7.7217e-04 - val_mean_squared_logarithmic_error: 7.6281e-04\n",
      "Epoch 3/5\n",
      "71/71 [==============================] - 0s 5ms/step - loss: 0.0014 - mean_squared_logarithmic_error: 0.0014 - val_loss: 6.5904e-04 - val_mean_squared_logarithmic_error: 6.4839e-04\n",
      "Epoch 4/5\n",
      "71/71 [==============================] - 0s 4ms/step - loss: 0.0013 - mean_squared_logarithmic_error: 0.0013 - val_loss: 6.6414e-04 - val_mean_squared_logarithmic_error: 6.5347e-04\n",
      "Epoch 5/5\n",
      "71/71 [==============================] - 0s 3ms/step - loss: 0.0013 - mean_squared_logarithmic_error: 0.0013 - val_loss: 7.7690e-04 - val_mean_squared_logarithmic_error: 7.6421e-04\n"
     ]
    }
   ],
   "source": [
    "# loss function\n",
    "msle = MeanSquaredLogarithmicError()\n",
    "model.compile(\n",
    "    loss=msle, \n",
    "    optimizer=Adam(learning_rate=learning_rate), \n",
    "    metrics=[msle]\n",
    ")\n",
    "# train the model\n",
    "history = model.fit(\n",
    "    X_train.values, \n",
    "    y_train.values, \n",
    "    epochs=5, \n",
    "    batch_size=64,\n",
    "    validation_split=0.2\n",
    ")"
   ]
  },
  {
   "cell_type": "code",
   "execution_count": 118,
   "id": "24c307ef-69e8-44c1-8a11-6cfa8ef0711f",
   "metadata": {},
   "outputs": [
    {
     "data": {
      "image/png": "[encoded data removed]",
      "text/plain": [
       "<Figure size 432x288 with 1 Axes>"
      ]
     },
     "metadata": {
      "needs_background": "light"
     },
     "output_type": "display_data"
    }
   ],
   "source": [
    "def plot_history(history, key):\n",
    "  plt.plot(history.history[key])\n",
    "  plt.plot(history.history['val_'+key])\n",
    "  plt.xlabel(\"Epochs\")\n",
    "  plt.ylabel(key)\n",
    "  plt.legend([key, 'val_'+key])\n",
    "  plt.show()\n",
    "# Plot the history\n",
    "plot_history(history, 'mean_squared_logarithmic_error')"
   ]
  },
  {
   "cell_type": "code",
   "execution_count": 119,
   "id": "88199305-1360-4c52-a4ab-fc23ffdd2d57",
   "metadata": {},
   "outputs": [
    {
     "name": "stdout",
     "output_type": "stream",
     "text": [
      "Model: \"sequential_10\"\n",
      "_________________________________________________________________\n",
      " Layer (type)                Output Shape              Param #   \n",
      "=================================================================\n",
      " dense_41 (Dense)            (None, 4)                 20        \n",
      "                                                                 \n",
      " dropout_20 (Dropout)        (None, 4)                 0         \n",
      "                                                                 \n",
      " dense_42 (Dense)            (None, 6)                 30        \n",
      "                                                                 \n",
      " dropout_21 (Dropout)        (None, 6)                 0         \n",
      "                                                                 \n",
      " dense_43 (Dense)            (None, 2)                 14        \n",
      "                                                                 \n",
      " dense_44 (Dense)            (None, 1)                 3         \n",
      "                                                                 \n",
      "=================================================================\n",
      "Total params: 67\n",
      "Trainable params: 67\n",
      "Non-trainable params: 0\n",
      "_________________________________________________________________\n"
     ]
    }
   ],
   "source": [
    "# BEGIN UNIT TEST\n",
    "model.summary()"
   ]
  },
  {
   "cell_type": "code",
   "execution_count": 120,
   "id": "576a9e3c-3c88-40ca-92aa-4fb249704af0",
   "metadata": {},
   "outputs": [
    {
     "name": "stdout",
     "output_type": "stream",
     "text": [
      "59/59 [==============================] - 0s 1ms/step\n"
     ]
    }
   ],
   "source": [
    "yhat = model.predict(X_test)"
   ]
  },
  {
   "cell_type": "code",
   "execution_count": 121,
   "id": "e256ca57-73f2-47b9-b3f3-93ed06b1723f",
   "metadata": {},
   "outputs": [
    {
     "name": "stdout",
     "output_type": "stream",
     "text": [
      "MSE test data: 0.002753912103436228\n"
     ]
    }
   ],
   "source": [
    "mse = mean_squared_error(y_test, yhat)\n",
    "print('MSE test data: {}'.format(mse))"
   ]
  },
  {
   "cell_type": "code",
   "execution_count": 110,
   "id": "9500e8ce-c625-44d8-81a8-79c3513e2214",
   "metadata": {},
   "outputs": [
    {
     "data": {
      "text/plain": [
       "<matplotlib.collections.PathCollection at 0x1cd0cb9f108>"
      ]
     },
     "execution_count": 110,
     "metadata": {},
     "output_type": "execute_result"
    },
    {
     "data": {
      "image/png": "[encoded data removed]",
      "text/plain": [
       "<Figure size 432x288 with 1 Axes>"
      ]
     },
     "metadata": {
      "needs_background": "light"
     },
     "output_type": "display_data"
    }
   ],
   "source": [
    "plt.scatter(X_test['scaled_x1'], y_test, label='test data')\n",
    "plt.scatter(X_test['scaled_x1'], yhat, label='prediction')"
   ]
  },
  {
   "cell_type": "code",
   "execution_count": null,
   "id": "9e778787-68ac-4005-b5bc-06d15483e057",
   "metadata": {},
   "outputs": [],
   "source": []
  }
 ],
 "metadata": {
  "kernelspec": {
   "display_name": "Python 3 (ipykernel)",
   "language": "python",
   "name": "python3"
  },
  "language_info": {
   "codemirror_mode": {
    "name": "ipython",
    "version": 3
   },
   "file_extension": ".py",
   "mimetype": "text/x-python",
   "name": "python",
   "nbconvert_exporter": "python",
   "pygments_lexer": "ipython3",
   "version": "3.7.9"
  }
 },
 "nbformat": 4,
 "nbformat_minor": 5
}
