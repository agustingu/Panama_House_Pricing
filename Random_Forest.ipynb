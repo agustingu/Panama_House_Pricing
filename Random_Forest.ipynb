{
 "cells": [
  {
   "cell_type": "code",
   "execution_count": 1,
   "id": "f844c082-0253-46f7-9a60-5a3b4c4903bd",
   "metadata": {},
   "outputs": [],
   "source": [
    "import numpy as np\n",
    "import pandas as pd\n",
    "import matplotlib.pyplot as plt\n",
    "from sklearn.model_selection import train_test_split\n",
    "from sklearn.ensemble import RandomForestRegressor\n",
    "import seaborn as sns\n",
    "import math\n",
    "from sklearn.metrics import mean_squared_error"
   ]
  },
  {
   "cell_type": "markdown",
   "id": "2e2cacc0-b304-471d-9e84-63c1e04102c5",
   "metadata": {},
   "source": [
    "## The data"
   ]
  },
  {
   "cell_type": "code",
   "execution_count": 2,
   "id": "36954056-b002-4860-9525-a90e8a7d730c",
   "metadata": {},
   "outputs": [
    {
     "data": {
      "text/html": [
       "<div>\n",
       "<style scoped>\n",
       "    .dataframe tbody tr th:only-of-type {\n",
       "        vertical-align: middle;\n",
       "    }\n",
       "\n",
       "    .dataframe tbody tr th {\n",
       "        vertical-align: top;\n",
       "    }\n",
       "\n",
       "    .dataframe thead th {\n",
       "        text-align: right;\n",
       "    }\n",
       "</style>\n",
       "<table border=\"1\" class=\"dataframe\">\n",
       "  <thead>\n",
       "    <tr style=\"text-align: right;\">\n",
       "      <th></th>\n",
       "      <th>scaled_y</th>\n",
       "      <th>y</th>\n",
       "      <th>scaled_x1</th>\n",
       "      <th>scaled_x2</th>\n",
       "      <th>scaled_x3</th>\n",
       "      <th>scaled_x4</th>\n",
       "      <th>x_2_dumm</th>\n",
       "      <th>x_3_dumm</th>\n",
       "      <th>x_4_dumm</th>\n",
       "      <th>x1</th>\n",
       "    </tr>\n",
       "  </thead>\n",
       "  <tbody>\n",
       "    <tr>\n",
       "      <th>0</th>\n",
       "      <td>-0.053227</td>\n",
       "      <td>139.0000</td>\n",
       "      <td>-0.143087</td>\n",
       "      <td>-0.087855</td>\n",
       "      <td>-0.096478</td>\n",
       "      <td>-0.089952</td>\n",
       "      <td>0</td>\n",
       "      <td>0</td>\n",
       "      <td>0</td>\n",
       "      <td>58.00</td>\n",
       "    </tr>\n",
       "    <tr>\n",
       "      <th>1</th>\n",
       "      <td>-0.034211</td>\n",
       "      <td>233.2596</td>\n",
       "      <td>-0.119559</td>\n",
       "      <td>-0.087855</td>\n",
       "      <td>-0.096478</td>\n",
       "      <td>-0.089952</td>\n",
       "      <td>0</td>\n",
       "      <td>0</td>\n",
       "      <td>0</td>\n",
       "      <td>79.34</td>\n",
       "    </tr>\n",
       "    <tr>\n",
       "      <th>2</th>\n",
       "      <td>-0.052016</td>\n",
       "      <td>145.0000</td>\n",
       "      <td>-0.105601</td>\n",
       "      <td>-0.087855</td>\n",
       "      <td>-0.096478</td>\n",
       "      <td>-0.089952</td>\n",
       "      <td>0</td>\n",
       "      <td>0</td>\n",
       "      <td>0</td>\n",
       "      <td>92.00</td>\n",
       "    </tr>\n",
       "    <tr>\n",
       "      <th>3</th>\n",
       "      <td>-0.057463</td>\n",
       "      <td>118.0000</td>\n",
       "      <td>-0.134267</td>\n",
       "      <td>-0.087855</td>\n",
       "      <td>-0.096478</td>\n",
       "      <td>-0.089952</td>\n",
       "      <td>0</td>\n",
       "      <td>0</td>\n",
       "      <td>0</td>\n",
       "      <td>66.00</td>\n",
       "    </tr>\n",
       "    <tr>\n",
       "      <th>4</th>\n",
       "      <td>-0.056051</td>\n",
       "      <td>125.0000</td>\n",
       "      <td>-0.128754</td>\n",
       "      <td>-0.087855</td>\n",
       "      <td>-0.096478</td>\n",
       "      <td>-0.089952</td>\n",
       "      <td>0</td>\n",
       "      <td>0</td>\n",
       "      <td>0</td>\n",
       "      <td>71.00</td>\n",
       "    </tr>\n",
       "  </tbody>\n",
       "</table>\n",
       "</div>"
      ],
      "text/plain": [
       "   scaled_y         y  scaled_x1  scaled_x2  scaled_x3  scaled_x4  x_2_dumm  \\\n",
       "0 -0.053227  139.0000  -0.143087  -0.087855  -0.096478  -0.089952         0   \n",
       "1 -0.034211  233.2596  -0.119559  -0.087855  -0.096478  -0.089952         0   \n",
       "2 -0.052016  145.0000  -0.105601  -0.087855  -0.096478  -0.089952         0   \n",
       "3 -0.057463  118.0000  -0.134267  -0.087855  -0.096478  -0.089952         0   \n",
       "4 -0.056051  125.0000  -0.128754  -0.087855  -0.096478  -0.089952         0   \n",
       "\n",
       "   x_3_dumm  x_4_dumm     x1  \n",
       "0         0         0  58.00  \n",
       "1         0         0  79.34  \n",
       "2         0         0  92.00  \n",
       "3         0         0  66.00  \n",
       "4         0         0  71.00  "
      ]
     },
     "execution_count": 2,
     "metadata": {},
     "output_type": "execute_result"
    }
   ],
   "source": [
    "df = pd.read_csv(\"data/data_scaled.csv\")\n",
    "df.head()"
   ]
  },
  {
   "cell_type": "markdown",
   "id": "074d4f80-8d67-4ac9-8922-b6b75a2ef3ac",
   "metadata": {},
   "source": [
    "### Data Spliting"
   ]
  },
  {
   "cell_type": "code",
   "execution_count": 3,
   "id": "6387d21e-1848-4f0d-954a-a856da98ea15",
   "metadata": {},
   "outputs": [],
   "source": [
    "y = df['scaled_y']\n",
    "X = df.drop(columns=['y', 'x_2_dumm', 'x_3_dumm', 'x_4_dumm', 'x1', 'scaled_y'])"
   ]
  },
  {
   "cell_type": "code",
   "execution_count": 4,
   "id": "d861f208-c99c-4c55-a652-0502f7891a21",
   "metadata": {},
   "outputs": [],
   "source": [
    "X_train, X_test_cross, y_train, y_test_cross = train_test_split(X, y, test_size=0.4, random_state=101)"
   ]
  },
  {
   "cell_type": "code",
   "execution_count": 5,
   "id": "b9f27119-47ee-40a2-8eb9-1857e9781e52",
   "metadata": {},
   "outputs": [],
   "source": [
    "X_test, X_cross, y_test, y_cross = train_test_split(X_test_cross, y_test_cross, test_size=0.5,random_state=100)"
   ]
  },
  {
   "cell_type": "code",
   "execution_count": 6,
   "id": "58a0e222-a6ee-41ed-8dd6-2a69ea60c957",
   "metadata": {},
   "outputs": [
    {
     "name": "stdout",
     "output_type": "stream",
     "text": [
      "y train vector size (5646,)\n",
      "X train matrix size (5646, 4)\n",
      "- - * --- - * --- - * --\n",
      "y test vector size (1882,)\n",
      "X test matrix size (1882, 4)\n",
      "- - * --- - * --- - * --\n",
      "y cross vector size (1882,)\n",
      "X cross matrix size (1882, 4)\n"
     ]
    }
   ],
   "source": [
    "print('y train vector size',  y_train.shape)\n",
    "print('X train matrix size', X_train.shape)\n",
    "print('- - * --'*3)\n",
    "print('y test vector size',  y_test.shape)\n",
    "print('X test matrix size', X_test.shape)\n",
    "print('- - * --'*3)\n",
    "print('y cross vector size',  y_cross.shape)\n",
    "print('X cross matrix size', X_cross.shape)"
   ]
  },
  {
   "cell_type": "markdown",
   "id": "93c33806-2521-48c9-a3a3-54f794bca718",
   "metadata": {},
   "source": [
    "## Training"
   ]
  },
  {
   "cell_type": "code",
   "execution_count": 7,
   "id": "174e078f-d623-4498-a7ba-65c581addd6d",
   "metadata": {},
   "outputs": [],
   "source": [
    "rf = RandomForestRegressor(n_estimators = 100, random_state = 42)"
   ]
  },
  {
   "cell_type": "code",
   "execution_count": 8,
   "id": "1de61580-4e76-4ee9-b01c-14591a0c8429",
   "metadata": {},
   "outputs": [],
   "source": [
    "# Train the model on training data\n",
    "rf.fit(X_train, y_train);"
   ]
  },
  {
   "cell_type": "markdown",
   "id": "396d45cf-b344-49cb-ad11-2dd3bb9d86ee",
   "metadata": {},
   "source": [
    "## Testing"
   ]
  },
  {
   "cell_type": "code",
   "execution_count": 9,
   "id": "2297bce7-1a69-4445-ac7d-feffe457ad3c",
   "metadata": {},
   "outputs": [],
   "source": [
    "yhat = rf.predict(X_test)"
   ]
  },
  {
   "cell_type": "code",
   "execution_count": 10,
   "id": "3cc62fd4-4153-4a6a-8b5b-b3ff698e61df",
   "metadata": {},
   "outputs": [],
   "source": [
    "mse = mean_squared_error(y_test, yhat)"
   ]
  },
  {
   "cell_type": "code",
   "execution_count": 11,
   "id": "3be96ef5-09a3-41da-93aa-2b2c7ff2ec95",
   "metadata": {},
   "outputs": [
    {
     "data": {
      "text/plain": [
       "0.0013583096829836393"
      ]
     },
     "execution_count": 11,
     "metadata": {},
     "output_type": "execute_result"
    }
   ],
   "source": [
    "mse"
   ]
  },
  {
   "cell_type": "markdown",
   "id": "faed0aae-2658-45ec-ab5f-d3c8059f4620",
   "metadata": {},
   "source": [
    "#### Variable Importance"
   ]
  },
  {
   "cell_type": "code",
   "execution_count": 12,
   "id": "4e8f81ab-aa7c-49db-a988-1d47c8948323",
   "metadata": {},
   "outputs": [],
   "source": [
    "feature_list = list(X_train.columns)"
   ]
  },
  {
   "cell_type": "code",
   "execution_count": 13,
   "id": "0af6e383-ac2c-4d2e-a7f9-8d8b8bb1bae4",
   "metadata": {},
   "outputs": [
    {
     "name": "stdout",
     "output_type": "stream",
     "text": [
      "Variable: scaled_x1            Importance: 0.91\n",
      "Variable: scaled_x3            Importance: 0.04\n",
      "Variable: scaled_x4            Importance: 0.04\n",
      "Variable: scaled_x2            Importance: 0.02\n"
     ]
    }
   ],
   "source": [
    "# Get numerical feature importances\n",
    "importances = list(rf.feature_importances_)\n",
    "# # List of tuples with variable and importance\n",
    "feature_importances = [(feature, round(importance, 2)) for feature, importance in zip(feature_list, importances)]\n",
    "# # Sort the feature importances by most important first\n",
    "feature_importances = sorted(feature_importances, key = lambda x: x[1], reverse = True)\n",
    "# # Print out the feature and importances \n",
    "[print('Variable: {:20} Importance: {}'.format(*pair)) for pair in feature_importances];"
   ]
  },
  {
   "cell_type": "code",
   "execution_count": 14,
   "id": "5cda737b-a6ce-4c08-9e11-ca9b36876051",
   "metadata": {},
   "outputs": [
    {
     "data": {
      "image/png": "[encoded data removed]",
      "text/plain": [
       "<Figure size 432x288 with 1 Axes>"
      ]
     },
     "metadata": {
      "needs_background": "light"
     },
     "output_type": "display_data"
    }
   ],
   "source": [
    "# Set the style\n",
    "# plt.style.use('fivethirtyeight')\n",
    "# list of x locations for plotting\n",
    "x_values = list(range(len(importances)))\n",
    "# Make a bar chart\n",
    "plt.bar(x_values, importances, orientation = 'vertical')\n",
    "# Tick labels for x axis\n",
    "plt.xticks(x_values, feature_list, rotation='vertical')\n",
    "# Axis labels and title\n",
    "plt.ylabel('Importance'); plt.xlabel('Variable'); plt.title('Variable Importances');"
   ]
  },
  {
   "cell_type": "markdown",
   "id": "0b1621bf-cf16-4c09-814e-091a3397c9c5",
   "metadata": {},
   "source": [
    "________\n",
    "## Hyperparameter Tunning"
   ]
  },
  {
   "cell_type": "markdown",
   "id": "70341bab-8f2d-44b6-9d0d-13b46ee808eb",
   "metadata": {},
   "source": [
    "https://towardsdatascience.com/hyperparameter-tuning-the-random-forest-in-python-using-scikit-learn-28d2aa77dd74 "
   ]
  },
  {
   "cell_type": "markdown",
   "id": "732f873f-3e90-4aaa-9d98-f49608d823d0",
   "metadata": {},
   "source": [
    "https://towardsdatascience.com/random-forest-in-python-24d0893d51c0"
   ]
  },
  {
   "cell_type": "markdown",
   "id": "ca1170ea-6f77-438d-9a47-52870d6cdfad",
   "metadata": {},
   "source": [
    "https://www.kaggle.com/code/jnikhilsai/cross-validation-with-linear-regression"
   ]
  },
  {
   "cell_type": "code",
   "execution_count": 23,
   "id": "f0e7aebb-fc4e-4679-93bb-d6e13cc95b1c",
   "metadata": {},
   "outputs": [],
   "source": [
    "# # Import tools needed for visualization\n",
    "# from sklearn.tree import export_graphviz\n",
    "# import pydot\n",
    "# # Pull out one tree from the forest\n",
    "# tree = rf.estimators_[5]\n",
    "# # Import tools needed for visualization\n",
    "# from sklearn.tree import export_graphviz\n",
    "# import pydot\n",
    "# # Pull out one tree from the forest\n",
    "# tree = rf.estimators_[5]\n",
    "# # Export the image to a dot file\n",
    "# export_graphviz(tree, out_file = 'tree.dot', feature_names = feature_list, rounded = True, precision = 1)\n",
    "# # Use dot file to create a graph\n",
    "# (graph, ) = pydot.graph_from_dot_file('tree.dot')\n",
    "# # Write graph to a png file\n",
    "# graph.write_png('tree.png')"
   ]
  },
  {
   "cell_type": "code",
   "execution_count": 24,
   "id": "1f2cfba5-dabf-4486-91f9-648d914fe863",
   "metadata": {},
   "outputs": [
    {
     "name": "stdout",
     "output_type": "stream",
     "text": [
      "Parameters currently in use:\n",
      "\n",
      "{'bootstrap': True,\n",
      " 'ccp_alpha': 0.0,\n",
      " 'criterion': 'squared_error',\n",
      " 'max_depth': None,\n",
      " 'max_features': 'auto',\n",
      " 'max_leaf_nodes': None,\n",
      " 'max_samples': None,\n",
      " 'min_impurity_decrease': 0.0,\n",
      " 'min_samples_leaf': 1,\n",
      " 'min_samples_split': 2,\n",
      " 'min_weight_fraction_leaf': 0.0,\n",
      " 'n_estimators': 100,\n",
      " 'n_jobs': None,\n",
      " 'oob_score': False,\n",
      " 'random_state': 42,\n",
      " 'verbose': 0,\n",
      " 'warm_start': False}\n"
     ]
    }
   ],
   "source": [
    "rf = RandomForestRegressor(random_state = 42)\n",
    "from pprint import pprint\n",
    "# Look at parameters used by our current forest\n",
    "print('Parameters currently in use:\\n')\n",
    "pprint(rf.get_params())"
   ]
  },
  {
   "cell_type": "markdown",
   "id": "c192a50a-d2ae-4140-ba99-357b274af3a9",
   "metadata": {},
   "source": [
    "### Random Hyperparameter Grid"
   ]
  },
  {
   "cell_type": "code",
   "execution_count": 39,
   "id": "17fb5ab6-3299-458b-9d1a-074b6cb46a15",
   "metadata": {},
   "outputs": [
    {
     "name": "stdout",
     "output_type": "stream",
     "text": [
      "{'bootstrap': [True, False],\n",
      " 'max_depth': [10, 20, 30, 40, 50, 60, 70, 80, 90, 100, None],\n",
      " 'max_features': ['auto', 'sqrt'],\n",
      " 'min_samples_leaf': [1, 2, 4],\n",
      " 'min_samples_split': [2, 5, 10],\n",
      " 'n_estimators': [60, 66, 73, 80, 86, 93, 100, 106, 113, 120]}\n"
     ]
    }
   ],
   "source": [
    "from sklearn.model_selection import RandomizedSearchCV\n",
    "# Number of trees in random forest\n",
    "n_estimators = [int(x) for x in np.linspace(start = 60, stop = 120, num = 10)]\n",
    "# Number of features to consider at every split\n",
    "max_features = ['auto', 'sqrt']\n",
    "# Maximum number of levels in tree\n",
    "max_depth = [int(x) for x in np.linspace(10, 100, num = 10)]\n",
    "max_depth.append(None)\n",
    "# Minimum number of samples required to split a node\n",
    "min_samples_split = [2, 5, 10]\n",
    "# Minimum number of samples required at each leaf node\n",
    "min_samples_leaf = [1, 2, 4]\n",
    "# Method of selecting samples for training each tree\n",
    "bootstrap = [True, False]\n",
    "# Create the random grid\n",
    "random_grid = {'n_estimators': n_estimators,\n",
    "               'max_features': max_features,\n",
    "               'max_depth': max_depth,\n",
    "               'min_samples_split': min_samples_split,\n",
    "               'min_samples_leaf': min_samples_leaf,\n",
    "               'bootstrap': bootstrap}\n",
    "pprint(random_grid)"
   ]
  },
  {
   "cell_type": "markdown",
   "id": "cdb7deb8-88fc-4335-9212-91b2c915edce",
   "metadata": {},
   "source": [
    "### Random Search Training"
   ]
  },
  {
   "cell_type": "code",
   "execution_count": 41,
   "id": "9aad27f0-f4d8-41e1-8b32-d4d96e2140f5",
   "metadata": {},
   "outputs": [
    {
     "name": "stdout",
     "output_type": "stream",
     "text": [
      "Fitting 3 folds for each of 100 candidates, totalling 300 fits\n"
     ]
    },
    {
     "data": {
      "text/plain": [
       "RandomizedSearchCV(cv=3, estimator=RandomForestRegressor(), n_iter=100,\n",
       "                   n_jobs=-1,\n",
       "                   param_distributions={'bootstrap': [True, False],\n",
       "                                        'max_depth': [10, 20, 30, 40, 50, 60,\n",
       "                                                      70, 80, 90, 100, None],\n",
       "                                        'max_features': ['auto', 'sqrt'],\n",
       "                                        'min_samples_leaf': [1, 2, 4],\n",
       "                                        'min_samples_split': [2, 5, 10],\n",
       "                                        'n_estimators': [60, 66, 73, 80, 86, 93,\n",
       "                                                         100, 106, 113, 120]},\n",
       "                   random_state=42, verbose=2)"
      ]
     },
     "execution_count": 41,
     "metadata": {},
     "output_type": "execute_result"
    }
   ],
   "source": [
    "# Use the random grid to search for best hyperparameters\n",
    "# First create the base model to tune\n",
    "rf = RandomForestRegressor()\n",
    "# Random search of parameters, using 3 fold cross validation, \n",
    "# search across 100 different combinations, and use all available cores\n",
    "rf_random = RandomizedSearchCV(estimator = rf, param_distributions = random_grid, n_iter = 100, cv = 3, verbose=2, random_state=42, n_jobs = -1)\n",
    "# Fit the random search model\n",
    "rf_random.fit(X_train, y_train)"
   ]
  },
  {
   "cell_type": "code",
   "execution_count": 42,
   "id": "aff39e08-c57f-4557-9957-b49095d42d47",
   "metadata": {},
   "outputs": [
    {
     "data": {
      "text/plain": [
       "{'n_estimators': 120,\n",
       " 'min_samples_split': 10,\n",
       " 'min_samples_leaf': 4,\n",
       " 'max_features': 'sqrt',\n",
       " 'max_depth': 10,\n",
       " 'bootstrap': False}"
      ]
     },
     "execution_count": 42,
     "metadata": {},
     "output_type": "execute_result"
    }
   ],
   "source": [
    "rf_random.best_params_"
   ]
  },
  {
   "cell_type": "code",
   "execution_count": 47,
   "id": "469433d0-3ad5-48a3-b7ce-30a6cf7b0cdb",
   "metadata": {},
   "outputs": [
    {
     "name": "stdout",
     "output_type": "stream",
     "text": [
      "Model Performance\n",
      "Average Error: 0.0014 degrees.\n",
      "Accuracy = 100.00%.\n"
     ]
    }
   ],
   "source": [
    "def evaluate(base_model, X_test, y_test):\n",
    "    yhat = base_model.predict(X_test)\n",
    "    mse = mean_squared_error(y_test, yhat)\n",
    "    accuracy = 100 - mse\n",
    "    print('Model Performance')\n",
    "    print('Average Error: {:0.4f} degrees.'.format(np.mean(mse)))\n",
    "    print('Accuracy = {:0.2f}%.'.format(accuracy))\n",
    "    \n",
    "    return accuracy\n",
    "base_model = RandomForestRegressor(n_estimators = 100, random_state = 42)\n",
    "base_model.fit(X_train, y_train)\n",
    "base_accuracy = evaluate(base_model, X_test, y_test)"
   ]
  },
  {
   "cell_type": "code",
   "execution_count": 48,
   "id": "4728268b-12ad-4f81-b432-a3961e64ae25",
   "metadata": {},
   "outputs": [
    {
     "name": "stdout",
     "output_type": "stream",
     "text": [
      "Model Performance\n",
      "Average Error: 0.0012 degrees.\n",
      "Accuracy = 100.00%.\n"
     ]
    }
   ],
   "source": [
    "best_random = rf_random.best_estimator_\n",
    "random_accuracy = evaluate(best_random, X_test, y_test)"
   ]
  },
  {
   "cell_type": "code",
   "execution_count": 49,
   "id": "daddec68-a326-4986-b10e-a908bfc8f3a5",
   "metadata": {},
   "outputs": [
    {
     "name": "stdout",
     "output_type": "stream",
     "text": [
      "Improvement of 0.00%.\n"
     ]
    }
   ],
   "source": [
    "print('Improvement of {:0.2f}%.'.format( 100 * (random_accuracy - base_accuracy) / base_accuracy))"
   ]
  },
  {
   "cell_type": "markdown",
   "id": "04e8b6c6-eddc-43a0-a41c-3a039f638447",
   "metadata": {},
   "source": [
    "### Grid Search with CV"
   ]
  },
  {
   "cell_type": "code",
   "execution_count": 51,
   "id": "54d99057-257f-47b2-8af0-195b4eb542ea",
   "metadata": {},
   "outputs": [],
   "source": [
    "from sklearn.model_selection import GridSearchCV"
   ]
  },
  {
   "cell_type": "code",
   "execution_count": 52,
   "id": "c8641dcf-46d2-454d-ab41-e4e8b159e3fe",
   "metadata": {},
   "outputs": [],
   "source": [
    "# Create the parameter grid based on the results of random search \n",
    "param_grid = {\n",
    "    'bootstrap': [False],\n",
    "    'max_depth': [15, 20, 30],\n",
    "    'max_features': [2, 3],\n",
    "    'min_samples_leaf': [3, 4, 5],\n",
    "    'min_samples_split': [8, 10, 12],\n",
    "    'n_estimators': [100, 120, 150]\n",
    "}\n",
    "# Create a based model\n",
    "rf = RandomForestRegressor()\n",
    "# Instantiate the grid search model\n",
    "grid_search = GridSearchCV(estimator = rf, param_grid = param_grid, \n",
    "                          cv = 3, n_jobs = -1, verbose = 2)"
   ]
  },
  {
   "cell_type": "code",
   "execution_count": 53,
   "id": "18455a11-7dc2-43fd-8e43-409c76d87a7c",
   "metadata": {},
   "outputs": [
    {
     "name": "stdout",
     "output_type": "stream",
     "text": [
      "Fitting 3 folds for each of 162 candidates, totalling 486 fits\n"
     ]
    },
    {
     "data": {
      "text/plain": [
       "{'bootstrap': False,\n",
       " 'max_depth': 15,\n",
       " 'max_features': 2,\n",
       " 'min_samples_leaf': 3,\n",
       " 'min_samples_split': 10,\n",
       " 'n_estimators': 100}"
      ]
     },
     "execution_count": 53,
     "metadata": {},
     "output_type": "execute_result"
    }
   ],
   "source": [
    "# Fit the grid search to the data\n",
    "grid_search.fit(X_train, y_train)\n",
    "grid_search.best_params_"
   ]
  },
  {
   "cell_type": "code",
   "execution_count": 54,
   "id": "a3dae595-4bfa-408a-b434-e96dbeaff4a6",
   "metadata": {},
   "outputs": [
    {
     "name": "stdout",
     "output_type": "stream",
     "text": [
      "Model Performance\n",
      "Average Error: 0.0012 degrees.\n",
      "Accuracy = 100.00%.\n"
     ]
    }
   ],
   "source": [
    "best_grid = grid_search.best_estimator_\n",
    "grid_accuracy = evaluate(best_grid, X_test, y_test)"
   ]
  },
  {
   "cell_type": "code",
   "execution_count": 55,
   "id": "594760a1-d534-4ab8-a409-00726c26efbf",
   "metadata": {},
   "outputs": [
    {
     "name": "stdout",
     "output_type": "stream",
     "text": [
      "Improvement of 0.00%.\n"
     ]
    }
   ],
   "source": [
    "print('Improvement of {:0.2f}%.'.format( 100 * (grid_accuracy - base_accuracy) / base_accuracy))"
   ]
  },
  {
   "cell_type": "markdown",
   "id": "e1b025cf-7a8c-4637-9e02-af0c340e783b",
   "metadata": {},
   "source": [
    "## Tunned Model"
   ]
  },
  {
   "cell_type": "code",
   "execution_count": 56,
   "id": "d3a5bec4-dc84-4b43-8d5d-9a681328e792",
   "metadata": {},
   "outputs": [],
   "source": [
    "rf_final = RandomForestRegressor(n_estimators=100, random_state=42,\n",
    "                                 max_depth=15,\n",
    "                                 bootstrap=False,\n",
    "                                 max_features=2,\n",
    "                                 min_samples_split=10,\n",
    "                                 min_samples_leaf=3,)"
   ]
  },
  {
   "cell_type": "code",
   "execution_count": 83,
   "id": "69bf0f2f-0cbe-4f64-be89-299c08bb88f3",
   "metadata": {},
   "outputs": [],
   "source": [
    "X_train, X_test, y_train, y_test = train_test_split(X, y, test_size=0.3, random_state=101)"
   ]
  },
  {
   "cell_type": "code",
   "execution_count": 84,
   "id": "5657e0d1-7d21-4ca2-9463-637158dc08a0",
   "metadata": {},
   "outputs": [
    {
     "name": "stdout",
     "output_type": "stream",
     "text": [
      "y train vector size (6587,)\n",
      "X train matrix size (6587, 4)\n",
      "- - * --- - * --- - * --\n",
      "y test vector size (2823,)\n",
      "X test matrix size (2823, 4)\n"
     ]
    }
   ],
   "source": [
    "print('y train vector size',  y_train.shape)\n",
    "print('X train matrix size', X_train.shape)\n",
    "print('- - * --'*3)\n",
    "print('y test vector size',  y_test.shape)\n",
    "print('X test matrix size', X_test.shape)"
   ]
  },
  {
   "cell_type": "code",
   "execution_count": 88,
   "id": "9d88c2a7-56b8-4ee1-892c-43e648351a5d",
   "metadata": {},
   "outputs": [],
   "source": [
    "# Train the model on training data\n",
    "rf_final.fit(X_train, y_train);"
   ]
  },
  {
   "cell_type": "code",
   "execution_count": 78,
   "id": "b2f86db8-9221-44a9-bb09-1b323ced0a6e",
   "metadata": {},
   "outputs": [],
   "source": [
    "yhat_final = rf_final.predict(X_test)"
   ]
  },
  {
   "cell_type": "code",
   "execution_count": 79,
   "id": "30fce9cd-5ee4-4c60-9208-24a0b9cafa56",
   "metadata": {},
   "outputs": [],
   "source": [
    "mse_final = mean_squared_error(y_test, yhat_final)"
   ]
  },
  {
   "cell_type": "code",
   "execution_count": 80,
   "id": "e83d2412-c063-412b-b0f9-43cc2c9c53cd",
   "metadata": {},
   "outputs": [
    {
     "data": {
      "text/plain": [
       "0.0013573956591243048"
      ]
     },
     "execution_count": 80,
     "metadata": {},
     "output_type": "execute_result"
    }
   ],
   "source": [
    "mse_final"
   ]
  },
  {
   "cell_type": "code",
   "execution_count": 86,
   "id": "9fcbca7e-ccbc-4a76-b1c6-91e2bbb0236a",
   "metadata": {},
   "outputs": [
    {
     "data": {
      "text/plain": [
       "<matplotlib.collections.PathCollection at 0x13237651888>"
      ]
     },
     "execution_count": 86,
     "metadata": {},
     "output_type": "execute_result"
    },
    {
     "data": {
      "image/png": "[encoded data removed]",
      "text/plain": [
       "<Figure size 432x288 with 1 Axes>"
      ]
     },
     "metadata": {
      "needs_background": "light"
     },
     "output_type": "display_data"
    }
   ],
   "source": [
    "plt.scatter(X_test['scaled_x1'], y_test, label='test data')\n",
    "plt.scatter(X_test['scaled_x1'], yhat_final, label = 'yhat')\n",
    "# plt.scatter(X_cross['scaled_x1'], y_cross, label = 'cv')"
   ]
  },
  {
   "cell_type": "code",
   "execution_count": 89,
   "id": "449408e8-008b-4541-982f-04b336e425f4",
   "metadata": {},
   "outputs": [
    {
     "data": {
      "text/plain": [
       "<matplotlib.collections.PathCollection at 0x132391a5848>"
      ]
     },
     "execution_count": 89,
     "metadata": {},
     "output_type": "execute_result"
    },
    {
     "data": {
      "image/png": "[encoded data removed]",
      "text/plain": [
       "<Figure size 432x288 with 1 Axes>"
      ]
     },
     "metadata": {
      "needs_background": "light"
     },
     "output_type": "display_data"
    }
   ],
   "source": [
    "plt.scatter(yhat_final, y_test, label='test data')"
   ]
  },
  {
   "cell_type": "code",
   "execution_count": 94,
   "id": "88941c94-c069-4d48-9bcf-c7a6adab0ec1",
   "metadata": {},
   "outputs": [
    {
     "data": {
      "text/plain": [
       "<bound method Series.count of 2360   -0.027808\n",
       "2993    0.225727\n",
       "6076   -0.002793\n",
       "7716    0.019599\n",
       "1139    0.307389\n",
       "          ...   \n",
       "3007   -0.023774\n",
       "1443    0.045129\n",
       "5773   -0.062103\n",
       "5670   -0.015704\n",
       "8809   -0.001986\n",
       "Name: scaled_y, Length: 2823, dtype: float64>"
      ]
     },
     "execution_count": 94,
     "metadata": {},
     "output_type": "execute_result"
    }
   ],
   "source": [
    "y_test.count"
   ]
  },
  {
   "cell_type": "code",
   "execution_count": null,
   "id": "514651ae-8fd8-4042-ac45-55a6a45ad0df",
   "metadata": {},
   "outputs": [],
   "source": []
  }
 ],
 "metadata": {
  "kernelspec": {
   "display_name": "Python 3 (ipykernel)",
   "language": "python",
   "name": "python3"
  },
  "language_info": {
   "codemirror_mode": {
    "name": "ipython",
    "version": 3
   },
   "file_extension": ".py",
   "mimetype": "text/x-python",
   "name": "python",
   "nbconvert_exporter": "python",
   "pygments_lexer": "ipython3",
   "version": "3.7.9"
  }
 },
 "nbformat": 4,
 "nbformat_minor": 5
}
