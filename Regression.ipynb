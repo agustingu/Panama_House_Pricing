{
 "cells": [
  {
   "cell_type": "markdown",
   "id": "2d1280c7-ecd5-40e2-a249-d7786b90bb04",
   "metadata": {},
   "source": [
    "# Linear Regression\n",
    "This notebook aims to evaluate different version of the linear regression to predict apartment pricing in Panama. To be precise:\n",
    "- Simple Linear Regression\n",
    "- Polynomial Regression\n",
    "- Multiple Linear Regression"
   ]
  },
  {
   "cell_type": "code",
   "execution_count": 6,
   "id": "fd647c38-84a2-48fc-b53f-109b7ae9283f",
   "metadata": {},
   "outputs": [],
   "source": [
    "import numpy as np\n",
    "import pandas as pd\n",
    "import matplotlib.pyplot as plt\n",
    "from sklearn.model_selection import train_test_split\n",
    "from sklearn.linear_model import LinearRegression\n",
    "from sklearn.preprocessing import PolynomialFeatures\n",
    "import seaborn as sns\n",
    "import math\n",
    "from sklearn.metrics import mean_squared_error"
   ]
  },
  {
   "cell_type": "markdown",
   "id": "8a3fbb9f-8b6a-45c1-9253-c94bf2ed8d7d",
   "metadata": {},
   "source": [
    "## The data"
   ]
  },
  {
   "cell_type": "code",
   "execution_count": 7,
   "id": "2f48afea-97aa-42a3-8e62-03af68cd68e9",
   "metadata": {},
   "outputs": [
    {
     "data": {
      "text/html": [
       "<div>\n",
       "<style scoped>\n",
       "    .dataframe tbody tr th:only-of-type {\n",
       "        vertical-align: middle;\n",
       "    }\n",
       "\n",
       "    .dataframe tbody tr th {\n",
       "        vertical-align: top;\n",
       "    }\n",
       "\n",
       "    .dataframe thead th {\n",
       "        text-align: right;\n",
       "    }\n",
       "</style>\n",
       "<table border=\"1\" class=\"dataframe\">\n",
       "  <thead>\n",
       "    <tr style=\"text-align: right;\">\n",
       "      <th></th>\n",
       "      <th>scaled_y</th>\n",
       "      <th>y</th>\n",
       "      <th>scaled_x1</th>\n",
       "      <th>scaled_x2</th>\n",
       "      <th>scaled_x3</th>\n",
       "      <th>scaled_x4</th>\n",
       "      <th>x_2_dumm</th>\n",
       "      <th>x_3_dumm</th>\n",
       "      <th>x_4_dumm</th>\n",
       "      <th>x1</th>\n",
       "    </tr>\n",
       "  </thead>\n",
       "  <tbody>\n",
       "    <tr>\n",
       "      <th>0</th>\n",
       "      <td>-0.053227</td>\n",
       "      <td>139.0000</td>\n",
       "      <td>-0.143087</td>\n",
       "      <td>-0.087855</td>\n",
       "      <td>-0.096478</td>\n",
       "      <td>-0.089952</td>\n",
       "      <td>0</td>\n",
       "      <td>0</td>\n",
       "      <td>0</td>\n",
       "      <td>58.00</td>\n",
       "    </tr>\n",
       "    <tr>\n",
       "      <th>1</th>\n",
       "      <td>-0.034211</td>\n",
       "      <td>233.2596</td>\n",
       "      <td>-0.119559</td>\n",
       "      <td>-0.087855</td>\n",
       "      <td>-0.096478</td>\n",
       "      <td>-0.089952</td>\n",
       "      <td>0</td>\n",
       "      <td>0</td>\n",
       "      <td>0</td>\n",
       "      <td>79.34</td>\n",
       "    </tr>\n",
       "    <tr>\n",
       "      <th>2</th>\n",
       "      <td>-0.052016</td>\n",
       "      <td>145.0000</td>\n",
       "      <td>-0.105601</td>\n",
       "      <td>-0.087855</td>\n",
       "      <td>-0.096478</td>\n",
       "      <td>-0.089952</td>\n",
       "      <td>0</td>\n",
       "      <td>0</td>\n",
       "      <td>0</td>\n",
       "      <td>92.00</td>\n",
       "    </tr>\n",
       "    <tr>\n",
       "      <th>3</th>\n",
       "      <td>-0.057463</td>\n",
       "      <td>118.0000</td>\n",
       "      <td>-0.134267</td>\n",
       "      <td>-0.087855</td>\n",
       "      <td>-0.096478</td>\n",
       "      <td>-0.089952</td>\n",
       "      <td>0</td>\n",
       "      <td>0</td>\n",
       "      <td>0</td>\n",
       "      <td>66.00</td>\n",
       "    </tr>\n",
       "    <tr>\n",
       "      <th>4</th>\n",
       "      <td>-0.056051</td>\n",
       "      <td>125.0000</td>\n",
       "      <td>-0.128754</td>\n",
       "      <td>-0.087855</td>\n",
       "      <td>-0.096478</td>\n",
       "      <td>-0.089952</td>\n",
       "      <td>0</td>\n",
       "      <td>0</td>\n",
       "      <td>0</td>\n",
       "      <td>71.00</td>\n",
       "    </tr>\n",
       "  </tbody>\n",
       "</table>\n",
       "</div>"
      ],
      "text/plain": [
       "   scaled_y         y  scaled_x1  scaled_x2  scaled_x3  scaled_x4  x_2_dumm  \\\n",
       "0 -0.053227  139.0000  -0.143087  -0.087855  -0.096478  -0.089952         0   \n",
       "1 -0.034211  233.2596  -0.119559  -0.087855  -0.096478  -0.089952         0   \n",
       "2 -0.052016  145.0000  -0.105601  -0.087855  -0.096478  -0.089952         0   \n",
       "3 -0.057463  118.0000  -0.134267  -0.087855  -0.096478  -0.089952         0   \n",
       "4 -0.056051  125.0000  -0.128754  -0.087855  -0.096478  -0.089952         0   \n",
       "\n",
       "   x_3_dumm  x_4_dumm     x1  \n",
       "0         0         0  58.00  \n",
       "1         0         0  79.34  \n",
       "2         0         0  92.00  \n",
       "3         0         0  66.00  \n",
       "4         0         0  71.00  "
      ]
     },
     "execution_count": 54,
     "metadata": {},
     "output_type": "execute_result"
    }
   ],
   "source": [
    "df = pd.read_csv(\"data/data_scaled.csv\")\n",
    "df.head()"
   ]
  },
  {
   "cell_type": "code",
   "execution_count": 8,
   "id": "992e3186-1cee-40ed-ba88-178704d2852f",
   "metadata": {},
   "outputs": [],
   "source": [
    "y = df['scaled_y']\n",
    "X = df[['scaled_x1', 'x_2_dumm', 'x_3_dumm', 'x_4_dumm']]"
   ]
  },
  {
   "cell_type": "code",
   "execution_count": 9,
   "id": "2e1c4485-bdf2-4e03-b20f-65de9ff3152e",
   "metadata": {},
   "outputs": [],
   "source": [
    "X_train, X_test_cross, y_train, y_test_cross = train_test_split(X, y, test_size=0.4, random_state=101)"
   ]
  },
  {
   "cell_type": "code",
   "execution_count": 10,
   "id": "9d88a79e-e7a3-43a4-98d6-9b14f29d054c",
   "metadata": {},
   "outputs": [],
   "source": [
    "X_test, X_cross, y_test, y_cross = train_test_split(X_test_cross, y_test_cross, test_size=0.5,random_state=100)"
   ]
  },
  {
   "cell_type": "code",
   "execution_count": 11,
   "id": "4bb943be-0d4b-42b0-88ed-4e30e0dbfca1",
   "metadata": {},
   "outputs": [
    {
     "name": "stdout",
     "output_type": "stream",
     "text": [
      "y train vector size (5646,)\n",
      "X train matrix size (5646, 4)\n",
      "- - * --- - * --- - * --\n",
      "y test vector size (1882,)\n",
      "X test matrix size (1882, 4)\n",
      "- - * --- - * --- - * --\n",
      "y cross vector size (1882,)\n",
      "X cross matrix size (1882, 4)\n"
     ]
    }
   ],
   "source": [
    "print('y train vector size',  y_train.shape)\n",
    "print('X train matrix size', X_train.shape)\n",
    "print('- - * --'*3)\n",
    "print('y test vector size',  y_test.shape)\n",
    "print('X test matrix size', X_test.shape)\n",
    "print('- - * --'*3)\n",
    "print('y cross vector size',  y_cross.shape)\n",
    "print('X cross matrix size', X_cross.shape)"
   ]
  },
  {
   "cell_type": "code",
   "execution_count": 12,
   "id": "ae43616e-0ac1-4680-81dc-fb3c3518aa1e",
   "metadata": {},
   "outputs": [
    {
     "data": {
      "text/plain": [
       "array([ 0.06308693, -0.05267933,  0.11821372, ..., -0.11552388,\n",
       "       -0.08134526, -0.13867713])"
      ]
     },
     "execution_count": 59,
     "metadata": {},
     "output_type": "execute_result"
    }
   ],
   "source": [
    "np.array(X_train['scaled_x1'])"
   ]
  },
  {
   "cell_type": "code",
   "execution_count": 13,
   "id": "86c092b1-c44e-4183-8277-420ceb2cd201",
   "metadata": {},
   "outputs": [
    {
     "data": {
      "text/plain": [
       "array([ 0.00346063, -0.01933541,  0.05167528, ..., -0.05705984,\n",
       "       -0.01873021, -0.05336809])"
      ]
     },
     "execution_count": 60,
     "metadata": {},
     "output_type": "execute_result"
    }
   ],
   "source": [
    "np.array(y_train)"
   ]
  },
  {
   "cell_type": "markdown",
   "id": "9e66e667-c254-4a93-b11a-5224bce60a6e",
   "metadata": {},
   "source": [
    "____________________________\n",
    "# Linear Regression\n",
    "Using 1 feature only ($y=wx+b$), where $x$ = scaled_x1"
   ]
  },
  {
   "cell_type": "markdown",
   "id": "2c6ffe8e-5173-443e-a3cf-80526eaee376",
   "metadata": {},
   "source": [
    "#### Training"
   ]
  },
  {
   "cell_type": "code",
   "execution_count": 14,
   "id": "c006b8ba-45fd-4091-aca7-468197a32406",
   "metadata": {},
   "outputs": [],
   "source": [
    "linear_model = LinearRegression()"
   ]
  },
  {
   "cell_type": "code",
   "execution_count": 15,
   "id": "f1fac5c0-0643-4912-bc8f-a1fc47551a52",
   "metadata": {},
   "outputs": [
    {
     "data": {
      "text/plain": [
       "LinearRegression()"
      ]
     },
     "execution_count": 15,
     "metadata": {},
     "output_type": "execute_result"
    }
   ],
   "source": [
    "linear_model.fit(np.array(X_train['scaled_x1']).reshape(-1,1),\n",
    "                 y_train)"
   ]
  },
  {
   "cell_type": "code",
   "execution_count": 16,
   "id": "d8ff8a3a-3948-470f-abe9-7c73673e5cce",
   "metadata": {},
   "outputs": [
    {
     "name": "stdout",
     "output_type": "stream",
     "text": [
      "intercept:  -0.00046807267499079794 coeff:  [0.43003871]\n"
     ]
    }
   ],
   "source": [
    "print('intercept: ', linear_model.intercept_, 'coeff: ', linear_model.coef_)"
   ]
  },
  {
   "cell_type": "markdown",
   "id": "0a7a3b33-0cc1-4aa3-922c-95974e5ab175",
   "metadata": {},
   "source": [
    "#### Predictions and Errors"
   ]
  },
  {
   "cell_type": "code",
   "execution_count": 96,
   "id": "e0971e00-ef29-403b-8786-4960d4bdef46",
   "metadata": {},
   "outputs": [],
   "source": [
    "yhat = linear_model.predict(np.array(X_test['scaled_x1']).reshape(-1,1))\n",
    "yhat_cv = linear_model.predict(np.array(X_cross['scaled_x1']).reshape(-1,1))"
   ]
  },
  {
   "cell_type": "code",
   "execution_count": 18,
   "id": "6906866e-cc02-4d70-8f15-ed8946bcc892",
   "metadata": {},
   "outputs": [
    {
     "data": {
      "text/plain": [
       "<matplotlib.legend.Legend at 0x2156b3e0988>"
      ]
     },
     "execution_count": 18,
     "metadata": {},
     "output_type": "execute_result"
    },
    {
     "data": {
      "image/png": "[encoded data removed]",
      "text/plain": [
       "<Figure size 432x288 with 1 Axes>"
      ]
     },
     "metadata": {
      "needs_background": "light"
     },
     "output_type": "display_data"
    }
   ],
   "source": [
    "plt.scatter(X_test['scaled_x1'], y_test, label = 'test data')\n",
    "plt.scatter(X_test['scaled_x1'], yhat, label = 'yhat')\n",
    "plt.legend()"
   ]
  },
  {
   "cell_type": "markdown",
   "id": "771fcb8f-7aca-4d75-9616-0f0afeedc8d5",
   "metadata": {},
   "source": [
    "### Error"
   ]
  },
  {
   "cell_type": "code",
   "execution_count": 99,
   "id": "bb38253a-9f88-49e0-af0e-7b6326d05e0c",
   "metadata": {},
   "outputs": [
    {
     "name": "stdout",
     "output_type": "stream",
     "text": [
      "MSE test data: 0.0013244814554887164\n",
      "       MSE CV: 0.001785002539784452\n"
     ]
    }
   ],
   "source": [
    "mse = mean_squared_error(y_test, yhat)\n",
    "print('MSE test data: {}'.format(mse))\n",
    "mse = mean_squared_error(y_cross, yhat_cv)\n",
    "print('       MSE CV: {}'.format(mse))"
   ]
  },
  {
   "cell_type": "markdown",
   "id": "940610d2-6728-498a-8a2f-de5f803c6f20",
   "metadata": {},
   "source": [
    "_____________"
   ]
  },
  {
   "cell_type": "markdown",
   "id": "b8784c1f-5562-4ffd-8ec4-2b0953f7023e",
   "metadata": {},
   "source": [
    "## Polynomial Regression"
   ]
  },
  {
   "cell_type": "code",
   "execution_count": 109,
   "id": "0a06064d-01d2-4ed3-8f41-d2fd74d354de",
   "metadata": {},
   "outputs": [],
   "source": [
    "def get_optim_poly_degree(deg_i, deg_f, X_train, y_train, X_test, y_test, X_cross, y_cross): \n",
    "    '''This function train a polynomial regression model from deg_i to deg_f. Also, it plots the cv, train, and test errors and\n",
    "        returns a list of predictions by each degree\n",
    "    '''\n",
    "    # define list of error\n",
    "    test_error = []\n",
    "    # cv error\n",
    "    cv_error = []\n",
    "    # training error\n",
    "    train_error = []\n",
    "    \n",
    "    # set max number of degree of polynomial we want to evaluate\n",
    "    deg_ = list(range(deg_i,deg_f + 1))\n",
    "    \n",
    "    pred_list_by_deg = []\n",
    "    \n",
    "    for i in deg_:\n",
    "        # define features according to he degree of the polynomial\n",
    "        poly = PolynomialFeatures(degree=i, include_bias=False)\n",
    "        # import pdb; pdb.set_trace()\n",
    "        # Get transofrmation of features according to the degree of the polynomial\n",
    "        X_poly_features = poly.fit_transform(np.array(X_train['scaled_x1']).reshape(-1,1))\n",
    "        \n",
    "        # instantiate the class lin reg\n",
    "        polynomial_model = LinearRegression()\n",
    "        # train/fit polynomial regression\n",
    "        polynomial_model.fit(X_poly_features, y_train)\n",
    "\n",
    "        # reshape cross and test data\n",
    "        X_test_r = poly.fit_transform(np.array(X_test['scaled_x1']).reshape(-1,1))\n",
    "        X_cross_r = poly.fit_transform(np.array(X_cross['scaled_x1']).reshape(-1,1))\n",
    "        \n",
    "        # get predictions\n",
    "        yhat_test = polynomial_model.predict(X_test_r)\n",
    "        yhat_cross = polynomial_model.predict(X_cross_r)\n",
    "        yhat_train = polynomial_model.predict(X_poly_features)\n",
    "        # print('degree: ', i, ' intercept: ', polynomial_model.intercept_, 'coeff: ', polynomial_model.coef_)\n",
    "        \n",
    "        \n",
    "        # store predictions by deg\n",
    "        pred_list_by_deg.append({i : yhat_test})\n",
    "\n",
    "        # get mse\n",
    "        mse_test = mean_squared_error(y_test, yhat_test)\n",
    "        mse_cross = mean_squared_error(y_cross, yhat_cross)\n",
    "        mse_train = mean_squared_error(y_train, yhat_train)\n",
    "        print('Degree {} -> MSE: {}'.format(i, mse_test))\n",
    "        print('       CV -> MSE: {}'.format(mse_cross))\n",
    "        \n",
    "        test_error.append(mse_test)\n",
    "        cv_error.append(mse_cross)\n",
    "        train_error.append(mse_train)\n",
    "    # print(deg_, '\\n', test_error, '\\n', cv_error)\n",
    "    plt.plot(deg_, test_error, label='Test Error')\n",
    "    plt.plot(deg_, cv_error, label = 'Cross Validation Error')\n",
    "    plt.plot(deg_, train_error, label = 'Train Error')\n",
    "    plt.tight_layout()\n",
    "    plt.legend(loc='upper center')\n",
    "    \n",
    "    \n",
    "    return pred_list_by_deg          "
   ]
  },
  {
   "cell_type": "markdown",
   "id": "9bdbf8ca-ac3c-43eb-a7c8-b1fc257b914a",
   "metadata": {},
   "source": [
    "### Training Prediction and Error"
   ]
  },
  {
   "cell_type": "code",
   "execution_count": 108,
   "id": "3a474e0b-387c-43db-b6d6-f5bf4ad3faaf",
   "metadata": {},
   "outputs": [
    {
     "name": "stdout",
     "output_type": "stream",
     "text": [
      "Degree 2 -> MSE: 0.0013239555666913377\n",
      "       CV -> MSE: 0.0017768527447176502\n",
      "Degree 3 -> MSE: 0.0013129230382199905\n",
      "       CV -> MSE: 0.0017860120076157427\n",
      "Degree 4 -> MSE: 0.0013127211468822175\n",
      "       CV -> MSE: 0.001783191010303294\n",
      "Degree 5 -> MSE: 0.0013128191798986234\n",
      "       CV -> MSE: 0.0017849272985788352\n",
      "Degree 6 -> MSE: 0.001308980754754342\n",
      "       CV -> MSE: 0.0017917031347589412\n",
      "Degree 7 -> MSE: 0.0013097955772416858\n",
      "       CV -> MSE: 0.0017869451415814153\n",
      "Degree 8 -> MSE: 0.0013109485141257727\n",
      "       CV -> MSE: 0.0017890002268020075\n",
      "Degree 9 -> MSE: 0.0013056202900842498\n",
      "       CV -> MSE: 0.001725846279994075\n",
      "Degree 10 -> MSE: 0.0013031708378799412\n",
      "       CV -> MSE: 0.0017127663100853494\n"
     ]
    },
    {
     "data": {
      "image/png": "[encoded data removed]",
      "text/plain": [
       "<Figure size 432x288 with 1 Axes>"
      ]
     },
     "metadata": {
      "needs_background": "light"
     },
     "output_type": "display_data"
    }
   ],
   "source": [
    "# Run Polynomial Regression Function\n",
    "pred_list_by_deg = get_optim_poly_degree(2, 10, X_train, y_train, X_test, y_test, X_cross, y_cross)"
   ]
  },
  {
   "cell_type": "code",
   "execution_count": 106,
   "id": "d17218d6-317d-4ad0-b0d9-912271cbf736",
   "metadata": {},
   "outputs": [
    {
     "data": {
      "text/plain": [
       "<matplotlib.legend.Legend at 0x21502ff4988>"
      ]
     },
     "execution_count": 106,
     "metadata": {},
     "output_type": "execute_result"
    },
    {
     "data": {
      "image/png": "[encoded data removed]",
      "text/plain": [
       "<Figure size 432x288 with 1 Axes>"
      ]
     },
     "metadata": {
      "needs_background": "light"
     },
     "output_type": "display_data"
    }
   ],
   "source": [
    "# Eval prediction of area vs price for different degrees of polynomial\n",
    "plt.scatter(X_test['scaled_x1'], y_test, label = 'test data')\n",
    "for j in pred_list_by_deg:\n",
    "    plt.scatter(X_test['scaled_x1'], j.values(), label=list(j.keys()))\n",
    "# plt.legend()\n",
    "plt.legend(loc=(1.04, 0))"
   ]
  },
  {
   "cell_type": "markdown",
   "id": "0552cc4f-c5a1-432e-ae08-d068e32acf06",
   "metadata": {},
   "source": [
    "Evaluating the prediction it seems that after degree = 3 there is no significant change. However, it seems the flexibility of the model increases drastically and it start to learn the noise in the data. For this model and only using area as explanatory variable, I would recommend going with simpe linear gression at must 2nd degree polynomial"
   ]
  },
  {
   "cell_type": "markdown",
   "id": "71d52249-7d7a-4043-be4c-a17de843c9a0",
   "metadata": {},
   "source": [
    "____"
   ]
  },
  {
   "cell_type": "markdown",
   "id": "d89814e8-b926-499d-8b8c-33dc3e465bae",
   "metadata": {},
   "source": [
    "## Multiple Linear Regression"
   ]
  },
  {
   "cell_type": "code",
   "execution_count": 75,
   "id": "eac5f802-87fa-49b4-97fe-ecbe20cfeecd",
   "metadata": {},
   "outputs": [],
   "source": [
    "ml = LinearRegression()"
   ]
  },
  {
   "cell_type": "markdown",
   "id": "601c42e7-c170-4323-9816-9175b1535559",
   "metadata": {},
   "source": [
    "### Training"
   ]
  },
  {
   "cell_type": "code",
   "execution_count": 76,
   "id": "f8d9e948-fc81-46d8-a05b-e5e82a6972d4",
   "metadata": {},
   "outputs": [
    {
     "data": {
      "text/plain": [
       "LinearRegression()"
      ]
     },
     "execution_count": 76,
     "metadata": {},
     "output_type": "execute_result"
    }
   ],
   "source": [
    "ml.fit(X_train, y_train)"
   ]
  },
  {
   "cell_type": "markdown",
   "id": "25d03df7-e493-4902-acd9-a55eef4afce1",
   "metadata": {},
   "source": [
    "### Predictions and Error"
   ]
  },
  {
   "cell_type": "code",
   "execution_count": 77,
   "id": "a2468cb2-885e-400c-9cb8-26b272185c4f",
   "metadata": {},
   "outputs": [],
   "source": [
    "yhat_ml = ml.predict(X_test)"
   ]
  },
  {
   "cell_type": "code",
   "execution_count": 86,
   "id": "a0cd10e4-95d5-488f-9342-424cd08d49eb",
   "metadata": {},
   "outputs": [],
   "source": [
    "yhat_ml_cross = ml.predict(X_cross)"
   ]
  },
  {
   "cell_type": "code",
   "execution_count": 97,
   "id": "733c4145-f34b-4914-87bf-f02b759812b9",
   "metadata": {},
   "outputs": [
    {
     "name": "stdout",
     "output_type": "stream",
     "text": [
      "MSE test data: 0.001334450219449617\n",
      "MSE cross-v: 0.0017887709493486733\n"
     ]
    }
   ],
   "source": [
    "mse_ml = mean_squared_error(y_test, yhat_ml)\n",
    "print('MSE test data: {}'.format(mse_ml))\n",
    "mse_ml_cross = mean_squared_error(y_cross, yhat_ml_cross)\n",
    "print('MSE cross-v: {}'.format(mse_ml_cross))"
   ]
  },
  {
   "cell_type": "markdown",
   "id": "bb238b05-2b72-457a-8bdc-19d8306c7db8",
   "metadata": {},
   "source": [
    "There is no significant improvement in the test prediction using all the other features"
   ]
  },
  {
   "cell_type": "markdown",
   "id": "66f8b735-83a6-420e-9373-3385cabc66ff",
   "metadata": {},
   "source": [
    "___\n",
    "# Conclusion\n",
    "It seems the more interpretable model provide a good estimation of the apartement pricing compare to the more complex model using linear regression approach. However as the application it's about money I suggest going with Polynomial regression at the 2nd degree as it provides lower error than the simple linear regression and miltiple regression\n",
    "\n",
    "$$y=w_1x_1^2+w_2x_2+b $$\n",
    "$$or$$\n",
    "$$\\vec{y}=\\vec{w}\\vec{x}+b$$\n"
   ]
  }
 ],
 "metadata": {
  "kernelspec": {
   "display_name": "Python 3 (ipykernel)",
   "language": "python",
   "name": "python3"
  },
  "language_info": {
   "codemirror_mode": {
    "name": "ipython",
    "version": 3
   },
   "file_extension": ".py",
   "mimetype": "text/x-python",
   "name": "python",
   "nbconvert_exporter": "python",
   "pygments_lexer": "ipython3",
   "version": "3.7.9"
  }
 },
 "nbformat": 4,
 "nbformat_minor": 5
}
