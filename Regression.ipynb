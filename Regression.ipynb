{
 "cells": [
  {
   "cell_type": "code",
   "execution_count": 57,
   "id": "fd647c38-84a2-48fc-b53f-109b7ae9283f",
   "metadata": {},
   "outputs": [],
   "source": [
    "import numpy as np\n",
    "import pandas as pd\n",
    "import matplotlib.pyplot as plt\n",
    "from sklearn.model_selection import train_test_split\n",
    "from sklearn.linear_model import LinearRegression\n",
    "from sklearn.preprocessing import PolynomialFeatures\n",
    "import seaborn as sns\n",
    "import math\n",
    "from sklearn.metrics import mean_squared_error"
   ]
  },
  {
   "cell_type": "markdown",
   "id": "8a3fbb9f-8b6a-45c1-9253-c94bf2ed8d7d",
   "metadata": {},
   "source": [
    "### The data"
   ]
  },
  {
   "cell_type": "code",
   "execution_count": 36,
   "id": "2f48afea-97aa-42a3-8e62-03af68cd68e9",
   "metadata": {},
   "outputs": [
    {
     "data": {
      "text/html": [
       "<div>\n",
       "<style scoped>\n",
       "    .dataframe tbody tr th:only-of-type {\n",
       "        vertical-align: middle;\n",
       "    }\n",
       "\n",
       "    .dataframe tbody tr th {\n",
       "        vertical-align: top;\n",
       "    }\n",
       "\n",
       "    .dataframe thead th {\n",
       "        text-align: right;\n",
       "    }\n",
       "</style>\n",
       "<table border=\"1\" class=\"dataframe\">\n",
       "  <thead>\n",
       "    <tr style=\"text-align: right;\">\n",
       "      <th></th>\n",
       "      <th>scaled_y</th>\n",
       "      <th>y</th>\n",
       "      <th>scaled_x1</th>\n",
       "      <th>scaled_x2</th>\n",
       "      <th>scaled_x3</th>\n",
       "      <th>scaled_x4</th>\n",
       "      <th>x_2_dumm</th>\n",
       "      <th>x_3_dumm</th>\n",
       "      <th>x_4_dumm</th>\n",
       "      <th>x1</th>\n",
       "    </tr>\n",
       "  </thead>\n",
       "  <tbody>\n",
       "    <tr>\n",
       "      <th>0</th>\n",
       "      <td>-0.053227</td>\n",
       "      <td>139.0000</td>\n",
       "      <td>-0.143087</td>\n",
       "      <td>-0.087855</td>\n",
       "      <td>-0.096478</td>\n",
       "      <td>-0.089952</td>\n",
       "      <td>0</td>\n",
       "      <td>0</td>\n",
       "      <td>0</td>\n",
       "      <td>58.00</td>\n",
       "    </tr>\n",
       "    <tr>\n",
       "      <th>1</th>\n",
       "      <td>-0.034211</td>\n",
       "      <td>233.2596</td>\n",
       "      <td>-0.119559</td>\n",
       "      <td>-0.087855</td>\n",
       "      <td>-0.096478</td>\n",
       "      <td>-0.089952</td>\n",
       "      <td>0</td>\n",
       "      <td>0</td>\n",
       "      <td>0</td>\n",
       "      <td>79.34</td>\n",
       "    </tr>\n",
       "    <tr>\n",
       "      <th>2</th>\n",
       "      <td>-0.052016</td>\n",
       "      <td>145.0000</td>\n",
       "      <td>-0.105601</td>\n",
       "      <td>-0.087855</td>\n",
       "      <td>-0.096478</td>\n",
       "      <td>-0.089952</td>\n",
       "      <td>0</td>\n",
       "      <td>0</td>\n",
       "      <td>0</td>\n",
       "      <td>92.00</td>\n",
       "    </tr>\n",
       "    <tr>\n",
       "      <th>3</th>\n",
       "      <td>-0.057463</td>\n",
       "      <td>118.0000</td>\n",
       "      <td>-0.134267</td>\n",
       "      <td>-0.087855</td>\n",
       "      <td>-0.096478</td>\n",
       "      <td>-0.089952</td>\n",
       "      <td>0</td>\n",
       "      <td>0</td>\n",
       "      <td>0</td>\n",
       "      <td>66.00</td>\n",
       "    </tr>\n",
       "    <tr>\n",
       "      <th>4</th>\n",
       "      <td>-0.056051</td>\n",
       "      <td>125.0000</td>\n",
       "      <td>-0.128754</td>\n",
       "      <td>-0.087855</td>\n",
       "      <td>-0.096478</td>\n",
       "      <td>-0.089952</td>\n",
       "      <td>0</td>\n",
       "      <td>0</td>\n",
       "      <td>0</td>\n",
       "      <td>71.00</td>\n",
       "    </tr>\n",
       "  </tbody>\n",
       "</table>\n",
       "</div>"
      ],
      "text/plain": [
       "   scaled_y         y  scaled_x1  scaled_x2  scaled_x3  scaled_x4  x_2_dumm  \\\n",
       "0 -0.053227  139.0000  -0.143087  -0.087855  -0.096478  -0.089952         0   \n",
       "1 -0.034211  233.2596  -0.119559  -0.087855  -0.096478  -0.089952         0   \n",
       "2 -0.052016  145.0000  -0.105601  -0.087855  -0.096478  -0.089952         0   \n",
       "3 -0.057463  118.0000  -0.134267  -0.087855  -0.096478  -0.089952         0   \n",
       "4 -0.056051  125.0000  -0.128754  -0.087855  -0.096478  -0.089952         0   \n",
       "\n",
       "   x_3_dumm  x_4_dumm     x1  \n",
       "0         0         0  58.00  \n",
       "1         0         0  79.34  \n",
       "2         0         0  92.00  \n",
       "3         0         0  66.00  \n",
       "4         0         0  71.00  "
      ]
     },
     "execution_count": 36,
     "metadata": {},
     "output_type": "execute_result"
    }
   ],
   "source": [
    "df = pd.read_csv(\"data/data_scaled.csv\")\n",
    "df.head()"
   ]
  },
  {
   "cell_type": "code",
   "execution_count": 154,
   "id": "992e3186-1cee-40ed-ba88-178704d2852f",
   "metadata": {},
   "outputs": [],
   "source": [
    "y = df['scaled_y']\n",
    "X = df[['scaled_x1', 'x_2_dumm', 'x_3_dumm', 'x_4_dumm']]"
   ]
  },
  {
   "cell_type": "code",
   "execution_count": 155,
   "id": "2e1c4485-bdf2-4e03-b20f-65de9ff3152e",
   "metadata": {},
   "outputs": [],
   "source": [
    "X_train, X_test_cross, y_train, y_test_cross = train_test_split(X, y, test_size=0.4, random_state=101)"
   ]
  },
  {
   "cell_type": "code",
   "execution_count": 156,
   "id": "9d88a79e-e7a3-43a4-98d6-9b14f29d054c",
   "metadata": {},
   "outputs": [],
   "source": [
    "X_test, X_cross, y_test, y_cross = train_test_split(X_test_cross, y_test_cross, test_size=0.5,random_state=100)"
   ]
  },
  {
   "cell_type": "code",
   "execution_count": 157,
   "id": "4bb943be-0d4b-42b0-88ed-4e30e0dbfca1",
   "metadata": {},
   "outputs": [
    {
     "name": "stdout",
     "output_type": "stream",
     "text": [
      "y train vector size (5646,)\n",
      "X train matrix size (5646, 4)\n",
      "- - * --- - * --- - * --\n",
      "y test vector size (1882,)\n",
      "X test matrix size (1882, 4)\n",
      "- - * --- - * --- - * --\n",
      "y cross vector size (1882,)\n",
      "X cross matrix size (1882, 4)\n"
     ]
    }
   ],
   "source": [
    "print('y train vector size',  y_train.shape)\n",
    "print('X train matrix size', X_train.shape)\n",
    "print('- - * --'*3)\n",
    "print('y test vector size',  y_test.shape)\n",
    "print('X test matrix size', X_test.shape)\n",
    "print('- - * --'*3)\n",
    "print('y cross vector size',  y_cross.shape)\n",
    "print('X cross matrix size', X_cross.shape)"
   ]
  },
  {
   "cell_type": "code",
   "execution_count": 41,
   "id": "ae43616e-0ac1-4680-81dc-fb3c3518aa1e",
   "metadata": {},
   "outputs": [
    {
     "data": {
      "text/plain": [
       "array([ 0.06308693, -0.05267933,  0.11821372, ..., -0.11552388,\n",
       "       -0.08134526, -0.13867713])"
      ]
     },
     "execution_count": 246,
     "metadata": {},
     "output_type": "execute_result"
    }
   ],
   "source": [
    "np.array(X_train['scaled_x1'])"
   ]
  },
  {
   "cell_type": "code",
   "execution_count": 42,
   "id": "86c092b1-c44e-4183-8277-420ceb2cd201",
   "metadata": {},
   "outputs": [
    {
     "data": {
      "text/plain": [
       "array([420. , 307. , 659. , ..., 120. , 310. , 138.3])"
      ]
     },
     "execution_count": 247,
     "metadata": {},
     "output_type": "execute_result"
    }
   ],
   "source": [
    "np.array(y_train)"
   ]
  },
  {
   "cell_type": "markdown",
   "id": "9e66e667-c254-4a93-b11a-5224bce60a6e",
   "metadata": {},
   "source": [
    "____________________________\n",
    "# Linear Regression\n",
    "Using 1 feature only ($y=wx+b$), where $x$ = scaled_x1"
   ]
  },
  {
   "cell_type": "markdown",
   "id": "2c6ffe8e-5173-443e-a3cf-80526eaee376",
   "metadata": {},
   "source": [
    "#### Training"
   ]
  },
  {
   "cell_type": "code",
   "execution_count": 43,
   "id": "c006b8ba-45fd-4091-aca7-468197a32406",
   "metadata": {},
   "outputs": [],
   "source": [
    "linear_model = LinearRegression()"
   ]
  },
  {
   "cell_type": "code",
   "execution_count": 44,
   "id": "f1fac5c0-0643-4912-bc8f-a1fc47551a52",
   "metadata": {},
   "outputs": [
    {
     "data": {
      "text/plain": [
       "LinearRegression()"
      ]
     },
     "execution_count": 44,
     "metadata": {},
     "output_type": "execute_result"
    }
   ],
   "source": [
    "linear_model.fit(np.array(X_train['scaled_x1']).reshape(-1,1),\n",
    "                 y_train)"
   ]
  },
  {
   "cell_type": "code",
   "execution_count": 82,
   "id": "d8ff8a3a-3948-470f-abe9-7c73673e5cce",
   "metadata": {},
   "outputs": [
    {
     "name": "stdout",
     "output_type": "stream",
     "text": [
      "intercept:  -0.00046807267499079794 coeff:  [0.43003871]\n"
     ]
    }
   ],
   "source": [
    "print('intercept: ', linear_model.intercept_, 'coeff: ', linear_model.coef_)"
   ]
  },
  {
   "cell_type": "markdown",
   "id": "0a7a3b33-0cc1-4aa3-922c-95974e5ab175",
   "metadata": {},
   "source": [
    "## Predictions"
   ]
  },
  {
   "cell_type": "code",
   "execution_count": 47,
   "id": "e0971e00-ef29-403b-8786-4960d4bdef46",
   "metadata": {},
   "outputs": [],
   "source": [
    "yhat = linear_model.predict(np.array(X_test['scaled_x1']).reshape(-1,1))"
   ]
  },
  {
   "cell_type": "code",
   "execution_count": 48,
   "id": "645a1b88-8c3b-4d3b-9549-bc950bab627c",
   "metadata": {},
   "outputs": [
    {
     "name": "stderr",
     "output_type": "stream",
     "text": [
      "c:\\users\\a-gue\\onedrive\\documentos\\python_projects\\panama_apt_pricing\\lib\\site-packages\\seaborn\\_decorators.py:43: FutureWarning: Pass the following variables as keyword args: x, y. From version 0.12, the only valid positional argument will be `data`, and passing other arguments without an explicit keyword will result in an error or misinterpretation.\n",
      "  FutureWarning\n"
     ]
    },
    {
     "data": {
      "text/plain": [
       "<AxesSubplot:xlabel='scaled_y'>"
      ]
     },
     "execution_count": 48,
     "metadata": {},
     "output_type": "execute_result"
    },
    {
     "data": {
      "image/png": "[encoded data removed]",
      "text/plain": [
       "<Figure size 432x288 with 1 Axes>"
      ]
     },
     "metadata": {
      "needs_background": "light"
     },
     "output_type": "display_data"
    }
   ],
   "source": [
    "sns.regplot(y_test, yhat) # Predcition vs Observations"
   ]
  },
  {
   "cell_type": "code",
   "execution_count": 49,
   "id": "bb38253a-9f88-49e0-af0e-7b6326d05e0c",
   "metadata": {},
   "outputs": [
    {
     "name": "stdout",
     "output_type": "stream",
     "text": [
      "MSE: 0.0013244814554887164\n"
     ]
    }
   ],
   "source": [
    "mse = mean_squared_error(y_test, yhat)\n",
    "print('MSE: {}'.format(mse))"
   ]
  },
  {
   "cell_type": "markdown",
   "id": "940610d2-6728-498a-8a2f-de5f803c6f20",
   "metadata": {},
   "source": [
    "_____________"
   ]
  },
  {
   "cell_type": "markdown",
   "id": "b8784c1f-5562-4ffd-8ec4-2b0953f7023e",
   "metadata": {},
   "source": [
    "## Polynomial Regression"
   ]
  },
  {
   "cell_type": "code",
   "execution_count": 317,
   "id": "0a06064d-01d2-4ed3-8f41-d2fd74d354de",
   "metadata": {},
   "outputs": [],
   "source": [
    "def get_optim_poly_degree(deg_, X_train, y_train, X_test, y_test, X_cross, y_cross): \n",
    "    # define list of error\n",
    "    test_error = []\n",
    "    # cv error\n",
    "    cv_error = []\n",
    "    # training error\n",
    "    train_error = []\n",
    "    \n",
    "    deg_ = list(range(2,deg_ + 1))\n",
    "    \n",
    "    for i in deg_:\n",
    "        # define features according to he degree of the polynomial\n",
    "        poly = PolynomialFeatures(degree=i, include_bias=False)\n",
    "        # import pdb; pdb.set_trace()\n",
    "        # Get transofrmation of features according to the degree of the polynomial\n",
    "        X_poly_features = poly.fit_transform(np.array(X_train['scaled_x1']).reshape(-1,1))\n",
    "        \n",
    "        # instantiate the class lin reg\n",
    "        polynomial_model = LinearRegression()\n",
    "        # train/fit polynomial regression\n",
    "        polynomial_model.fit(X_poly_features, y_train)\n",
    "\n",
    "        \n",
    "        \n",
    "        X_test_r = poly.fit_transform(np.array(X_test['scaled_x1']).reshape(-1,1))\n",
    "        X_cross_r = poly.fit_transform(np.array(X_cross['scaled_x1']).reshape(-1,1))\n",
    "        \n",
    "        yhat_test = polynomial_model.predict(X_test_r)\n",
    "        yhat_cross = polynomial_model.predict(X_cross_r)\n",
    "        yhat_train = polynomial_model.predict(X_poly_features)\n",
    "        # print('intercept: ', polynomial_model.intercept_, 'coeff: ', polynomial_model.coef_)\n",
    "\n",
    "        # get mse\n",
    "        mse_test = mean_squared_error(y_test, yhat_test)\n",
    "        mse_cross = mean_squared_error(y_cross, yhat_cross)\n",
    "        mse_train = mean_squared_error(y_train, yhat_train)\n",
    "        # print('Degree {} -> MSE: {}'.format(i, mse_test))\n",
    "        \n",
    "        test_error.append(mse_test)\n",
    "        cv_error.append(mse_cross)\n",
    "        train_error.append(mse_train)\n",
    "    # print(deg_, '\\n', test_error, '\\n', cv_error)\n",
    "    plt.plot(deg_, test_error, label='Test Error')\n",
    "    plt.plot(deg_, cv_error, label = 'Cross Validation Error')\n",
    "    plt.plot(deg_, train_error, label = 'Train Error')\n",
    "    plt.tight_layout()\n",
    "    plt.legend(loc='upper center')\n",
    "        "
   ]
  },
  {
   "cell_type": "code",
   "execution_count": 318,
   "id": "3a474e0b-387c-43db-b6d6-f5bf4ad3faaf",
   "metadata": {},
   "outputs": [
    {
     "data": {
      "image/png": "[encoded data removed]",
      "text/plain": [
       "<Figure size 432x288 with 1 Axes>"
      ]
     },
     "metadata": {
      "needs_background": "light"
     },
     "output_type": "display_data"
    }
   ],
   "source": [
    "get_optim_poly_degree(40, X_train, y_train, X_test, y_test, X_cross, y_cross)"
   ]
  },
  {
   "cell_type": "code",
   "execution_count": 163,
   "id": "c7b7444f-9819-4bb4-bd9c-c7b41df9c326",
   "metadata": {},
   "outputs": [
    {
     "name": "stderr",
     "output_type": "stream",
     "text": [
      "c:\\users\\a-gue\\onedrive\\documentos\\python_projects\\panama_apt_pricing\\lib\\site-packages\\seaborn\\_decorators.py:43: FutureWarning: Pass the following variables as keyword args: x, y. From version 0.12, the only valid positional argument will be `data`, and passing other arguments without an explicit keyword will result in an error or misinterpretation.\n",
      "  FutureWarning\n"
     ]
    },
    {
     "data": {
      "text/plain": [
       "<AxesSubplot:xlabel='y'>"
      ]
     },
     "execution_count": 254,
     "metadata": {},
     "output_type": "execute_result"
    },
    {
     "data": {
      "image/png": "[encoded data removed]",
      "text/plain": [
       "<Figure size 432x288 with 1 Axes>"
      ]
     },
     "metadata": {
      "needs_background": "light"
     },
     "output_type": "display_data"
    }
   ],
   "source": [
    "sns.regplot(y_test, yhat_pol) # Predcition vs Observations"
   ]
  },
  {
   "cell_type": "code",
   "execution_count": null,
   "id": "d17218d6-317d-4ad0-b0d9-912271cbf736",
   "metadata": {},
   "outputs": [],
   "source": []
  }
 ],
 "metadata": {
  "kernelspec": {
   "display_name": "Python 3 (ipykernel)",
   "language": "python",
   "name": "python3"
  },
  "language_info": {
   "codemirror_mode": {
    "name": "ipython",
    "version": 3
   },
   "file_extension": ".py",
   "mimetype": "text/x-python",
   "name": "python",
   "nbconvert_exporter": "python",
   "pygments_lexer": "ipython3",
   "version": "3.7.9"
  }
 },
 "nbformat": 4,
 "nbformat_minor": 5
}
