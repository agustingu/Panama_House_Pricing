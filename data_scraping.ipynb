{
 "cells": [
  {
   "cell_type": "markdown",
   "id": "735e9394-6031-4024-be4f-c8f6bc1bdec6",
   "metadata": {},
   "source": [
    "# Panama Apartments Pricing | Data Scraping Notebook\n",
    "This notebook uses the Selenium library to scrap apartments pricing in Panama (price in dollars $\\$$) with their respective features. The features used in this notebook are:\n",
    "- area or $m^2$ of construction\n",
    "- number of bedrooms\n",
    "- number of bathrooms\n",
    "- number of parkings\n",
    "\n",
    "The add posting website used in this notebook can be found [here](https://www.encuentra24.com/panama-en/classifieds). The extracted data is dumped into a .csv file for preposecing."
   ]
  },
  {
   "cell_type": "code",
   "execution_count": 39,
   "id": "b0e9a981-bef1-41c4-9f87-7c049f23028c",
   "metadata": {},
   "outputs": [],
   "source": [
    "import pandas as pd\n",
    "import time\n",
    "from selenium import webdriver\n",
    "from webdriver_manager.chrome import ChromeDriverManager \n",
    "from selenium.webdriver.common.by import By\n",
    "\n",
    "from selenium.common.exceptions import NoSuchElementException\n",
    "from selenium.common.exceptions import StaleElementReferenceException\n",
    "from selenium.webdriver.support.ui import WebDriverWait\n",
    "from selenium.webdriver.support import expected_conditions"
   ]
  },
  {
   "cell_type": "code",
   "execution_count": 2,
   "id": "5632256a-68ed-40b3-8a0d-fde08a0c900e",
   "metadata": {},
   "outputs": [
    {
     "name": "stderr",
     "output_type": "stream",
     "text": [
      "c:\\users\\a-gue\\onedrive\\documentos\\python_projects\\panama_apt_pricing\\lib\\site-packages\\ipykernel_launcher.py:3: DeprecationWarning: executable_path has been deprecated, please pass in a Service object\n",
      "  This is separate from the ipykernel package so we can avoid doing imports until\n",
      "c:\\users\\a-gue\\onedrive\\documentos\\python_projects\\panama_apt_pricing\\lib\\site-packages\\ipykernel_launcher.py:3: DeprecationWarning: use options instead of chrome_options\n",
      "  This is separate from the ipykernel package so we can avoid doing imports until\n"
     ]
    }
   ],
   "source": [
    "options = webdriver.ChromeOptions()\n",
    "options.binary_location = \"C:\\Program Files\\Google\\Chrome Beta\\Application\\chrome.exe\"\n",
    "driver = webdriver.Chrome(executable_path=r'C:\\Users\\a-gue\\.wdm\\drivers\\chromedriver\\win32\\104.0.5112.20\\chromedriver.exe', chrome_options=options)"
   ]
  },
  {
   "cell_type": "code",
   "execution_count": 3,
   "id": "191f1cce-1dd6-4f77-b6f6-bd984d4a4a62",
   "metadata": {},
   "outputs": [],
   "source": [
    "# page_url = \"https://www.encuentra24.com/panama-en/real-estate-for-sale-apartments-condos?q=number.50\"\n",
    "page_url = \"https://www.encuentra24.com/panama-en/real-estate-for-sale-apartments-condos/prov-panama?q=withcat.real-estate-for-sale-apartments-condos|number.50\""
   ]
  },
  {
   "cell_type": "code",
   "execution_count": 4,
   "id": "1297894e-8a10-4b71-997d-e4e20b003508",
   "metadata": {},
   "outputs": [],
   "source": [
    "driver.get(page_url)"
   ]
  },
  {
   "cell_type": "markdown",
   "id": "b172a1b7-5524-42c3-aa90-599b87aef873",
   "metadata": {},
   "source": [
    "__________________"
   ]
  },
  {
   "cell_type": "markdown",
   "id": "cc35ae91-5c2b-4db9-80be-837fc9afa943",
   "metadata": {
    "tags": []
   },
   "source": [
    "## Get url by Add\n",
    "### Start Here | Get link per pages:\n",
    "First we need to identify how many pages of adds do we have. This can be check online. \n",
    "With the number of pages, we then can pass to a function that will loop over each page and get each add url.\n",
    "\n",
    "**Run this when data.csv file for individual add is not up to date**\n",
    "\n"
   ]
  },
  {
   "cell_type": "code",
   "execution_count": 41,
   "id": "38ade585-eb8c-46e5-8176-172cfd2d4711",
   "metadata": {
    "tags": []
   },
   "outputs": [],
   "source": [
    "def get_links_of_pages(pages_num):\n",
    "    '''Get the links of the number of pages on encuentra 24 main for panama new apartaments\n",
    "    - pages_num: number of pages that we will scrapt\n",
    "    '''\n",
    "    url_list = []\n",
    "    for i in range(pages_num):\n",
    "\n",
    "        # _url_decomposed = \"https://www.encuentra24.com/panama-en/real-estate-for-sale-apartments-condos.\" + str(i+1) + \"?q=number.50\"\n",
    "        _url_decomposed = \"https://www.encuentra24.com/panama-en/real-estate-for-sale-apartments-condos/prov-panama.\" + str(i+1) + \"?q=withcat.real-estate-for-sale-apartments-condos|number.50\"\n",
    "        url_list.append(_url_decomposed)\n",
    "    return url_list"
   ]
  },
  {
   "cell_type": "code",
   "execution_count": 42,
   "id": "02fa5717-4369-44c1-b938-4157d9824716",
   "metadata": {
    "tags": []
   },
   "outputs": [],
   "source": [
    "url_list = get_links_of_pages(247)"
   ]
  },
  {
   "cell_type": "markdown",
   "id": "bc205e75-d72e-4bde-b9c7-ed6596edab23",
   "metadata": {
    "tags": []
   },
   "source": [
    "### Get Individual Links per Add"
   ]
  },
  {
   "cell_type": "code",
   "execution_count": 153,
   "id": "54056e1d-558a-4d43-8ab3-0fa1d89a4d55",
   "metadata": {
    "tags": []
   },
   "outputs": [],
   "source": [
    "def get_url_by_add(driver, url_list):\n",
    "    '''Gets url list by each individual add\n",
    "    - return: list of url of each add\n",
    "    '''\n",
    "    url_by_add = []\n",
    "    # iterate over link pages\n",
    "    for i in url_list:\n",
    "        # get url on driver\n",
    "        driver.get(i)\n",
    "        time.sleep(3)\n",
    "        # find all box details\n",
    "        box_details = driver.find_elements(By.XPATH, \"//div[@class='ann-box-details']/a\")\n",
    "\n",
    "        for j in box_details:\n",
    "            url_by_add.append(j.get_attribute(\"href\"))\n",
    "    return url_by_add"
   ]
  },
  {
   "cell_type": "code",
   "execution_count": 154,
   "id": "286e2e7e-f830-4e00-8d93-188e5e62d2b8",
   "metadata": {
    "tags": []
   },
   "outputs": [],
   "source": [
    "url_by_add = get_url_by_add(driver, url_list)"
   ]
  },
  {
   "cell_type": "code",
   "execution_count": 43,
   "id": "5e130225-47bf-4a85-83ed-fd257db74919",
   "metadata": {
    "tags": []
   },
   "outputs": [],
   "source": [
    "# save to csv all urls\n",
    "df_by_add = pd.DataFrame(url_by_add, columns=[\"url_by_add\"])\n",
    "df_by_add.to_csv(\"data/url_by_add.csv\")"
   ]
  },
  {
   "cell_type": "markdown",
   "id": "1710c34a-660c-451b-988e-0a644730d0ab",
   "metadata": {},
   "source": [
    "_________________\n",
    "## Get Attributes "
   ]
  },
  {
   "cell_type": "markdown",
   "id": "909cbc2c-c974-4365-b219-701a9ff306a5",
   "metadata": {
    "tags": []
   },
   "source": [
    "### Get area per add"
   ]
  },
  {
   "cell_type": "code",
   "execution_count": 46,
   "id": "0d1ee404-1693-407b-a5ec-47c27851b9dc",
   "metadata": {
    "tags": []
   },
   "outputs": [],
   "source": [
    "def get_area(labels_in_add, values_in_add):\n",
    "    '''Return area of Apartment if present; NaN otherwise\n",
    "    - labels_in_add: labels of full description\n",
    "    - values_in_add: values of full description\n",
    "    '''\n",
    "    # eval if key word for price is present\n",
    "    if 'M²' in labels_in_add:\n",
    "        indx = labels_in_add.index('M²')\n",
    "    elif 'M² of construction' in labels_in_add:\n",
    "        indx = labels_in_add.index('M² of construction')\n",
    "    elif 'M²:' in labels_in_add:\n",
    "        indx = labels_in_add.index('M²:')\n",
    "    elif 'M² of construction:' in labels_in_add:\n",
    "        indx = labels_in_add.index('M² of construction:')\n",
    "    else:\n",
    "        indx = None\n",
    "        \n",
    "    # if keyword for area not present use nan\n",
    "    if indx != None:\n",
    "        area = values_in_add[indx]\n",
    "    else:  \n",
    "         area = 'NaN'\n",
    "    \n",
    "    return area\n",
    "    "
   ]
  },
  {
   "cell_type": "markdown",
   "id": "b93e222a-3327-45af-a411-d8a0a0726da2",
   "metadata": {
    "tags": []
   },
   "source": [
    "### Get Price per add"
   ]
  },
  {
   "cell_type": "code",
   "execution_count": 6,
   "id": "0b64ff2a-6e82-4972-b542-fd469a1fca7c",
   "metadata": {
    "tags": []
   },
   "outputs": [],
   "source": [
    "def get_price(labels_in_add, values_in_add, driver):\n",
    "    '''Return Price of Apartment if present; NaN otherwise\n",
    "    - labels_in_add: labels of full description\n",
    "    - values_in_add: values of full description\n",
    "    '''\n",
    "\n",
    "    # eval if key word for price is present\n",
    "    if 'Price' in labels_in_add:\n",
    "        indx = labels_in_add.index('Price')\n",
    "        \n",
    "    elif 'Precio' in labels_in_add:\n",
    "        indx = labels_in_add.index('Precio')\n",
    "        \n",
    "    elif 'Price:' in labels_in_add:\n",
    "        indx = labels_in_add.index('Price:')\n",
    "        \n",
    "    elif 'Precio:' in labels_in_add:\n",
    "        indx = labels_in_add.index('Precio:')\n",
    "    else:\n",
    "        indx = None\n",
    "        \n",
    "    # if keyword for price not present use selenium xpath\n",
    "    if indx == None:\n",
    "        try:\n",
    "            price = driver.find_element(By.XPATH, \"//div/div[@class='d3-property-headline__text-element d3-property-headline__text-element--price']\").text\n",
    "        except:\n",
    "            price = 'NaN'\n",
    "    else:\n",
    "        \n",
    "        price = values_in_add[indx]\n",
    "    \n",
    "    return price"
   ]
  },
  {
   "cell_type": "markdown",
   "id": "9e783698-7391-4b57-b8ad-fd2e585a622a",
   "metadata": {
    "tags": []
   },
   "source": [
    "### Get Bathrooms per add"
   ]
  },
  {
   "cell_type": "code",
   "execution_count": 47,
   "id": "7a0609bb-96cd-48a5-9ca0-49f115930969",
   "metadata": {},
   "outputs": [],
   "source": [
    "def get_bath(labels_in_add, values_in_add):\n",
    "    '''Return number of bathrooms of Apartment if present; NaN otherwise\n",
    "    - labels_in_add: labels of full description\n",
    "    - values_in_add: values of full description\n",
    "    '''\n",
    "    \n",
    "    # eval if key word for bathroom is present\n",
    "    if 'Bathrooms' in labels_in_add:\n",
    "        indx = labels_in_add.index('Bathrooms')\n",
    "        \n",
    "    elif 'Bathrooms:' in labels_in_add:\n",
    "        indx = labels_in_add.index('Bathrooms:')\n",
    "\n",
    "    else:\n",
    "        indx = None\n",
    "        \n",
    "    # if keyword for area not present use nan\n",
    "    if indx != None:\n",
    "        bath = values_in_add[indx]\n",
    "    else:  \n",
    "         bath = 'NaN'\n",
    "    \n",
    "    return bath"
   ]
  },
  {
   "cell_type": "markdown",
   "id": "7b174945-f1bb-49fb-a66a-0f2f31e5a45a",
   "metadata": {
    "tags": []
   },
   "source": [
    "### Get Bedrooms per add"
   ]
  },
  {
   "cell_type": "code",
   "execution_count": 48,
   "id": "07fbdce8-20b2-4d53-9141-6d392bf1298e",
   "metadata": {},
   "outputs": [],
   "source": [
    "def get_bed(labels_in_add, values_in_add):\n",
    "    '''Return number of bedrooms of Apartment if present; NaN otherwise\n",
    "    - labels_in_add: labels of full description\n",
    "    - values_in_add: values of full description\n",
    "    '''\n",
    "    \n",
    "    # eval if key word for bedroom is present\n",
    "    if 'Bedrooms' in labels_in_add:\n",
    "        indx = labels_in_add.index('Bedrooms')\n",
    "        \n",
    "    elif 'Bedrooms:' in labels_in_add:\n",
    "        indx = labels_in_add.index('Bedrooms:')\n",
    "\n",
    "    else:\n",
    "        indx = None\n",
    "        \n",
    "    # if keyword for bedroom not present use nan\n",
    "    if indx != None:\n",
    "        bed = values_in_add[indx]\n",
    "    else:  \n",
    "         bed = 'NaN'\n",
    "    \n",
    "    return bed"
   ]
  },
  {
   "cell_type": "markdown",
   "id": "a4c8910b-16ff-4b89-a4f5-9d701119f607",
   "metadata": {
    "tags": []
   },
   "source": [
    "### Get Parkings per add"
   ]
  },
  {
   "cell_type": "code",
   "execution_count": 49,
   "id": "dee597d8-a205-4c99-a4f2-0bd83eeee957",
   "metadata": {},
   "outputs": [],
   "source": [
    "def get_park(labels_in_add, values_in_add):\n",
    "    '''Return number of parkings of Apartment if present; NaN otherwise\n",
    "    - labels_in_add: labels of full description\n",
    "    - values_in_add: values of full description\n",
    "    '''\n",
    "    \n",
    "    # eval if key word for parking is present\n",
    "    if 'Parking' in labels_in_add:\n",
    "        indx = labels_in_add.index('Parking')\n",
    "        \n",
    "    elif 'Parking:' in labels_in_add:\n",
    "        indx = labels_in_add.index('Parking:')\n",
    "\n",
    "    else:\n",
    "        indx = None\n",
    "        \n",
    "    # if keyword for parking not present use nan\n",
    "    if indx != None:\n",
    "        park = values_in_add[indx]\n",
    "    else:  \n",
    "         park = 'NaN'\n",
    "    \n",
    "    return park"
   ]
  },
  {
   "cell_type": "markdown",
   "id": "7975a91b-7366-4445-9fdb-f3e6396a1839",
   "metadata": {
    "tags": []
   },
   "source": [
    "# Get full description per add"
   ]
  },
  {
   "cell_type": "code",
   "execution_count": 50,
   "id": "979d6125-94b5-4352-8a18-ec72846f7b6f",
   "metadata": {},
   "outputs": [],
   "source": [
    "# Case 3\n",
    "def get_attributes_case_3(driver, add_price,  \n",
    "                          add_area_val, add_bed_val,\n",
    "                          add_bath_val, add_park_val):\n",
    "    '''\n",
    "    Get the attributes and append to respective list in case of different formating on the add. This is not efficient method as it adds another for loop.\n",
    "    - driver: browser object\n",
    "    - remaining params are list to append the data\n",
    "    '''\n",
    "    \n",
    "    full_desc_labl = driver.find_elements(By.XPATH, \"//div[@class='col-800']/ul/li/span[@class='info-name']\")\n",
    "    full_desc_val = driver.find_elements(By.XPATH, \"//div[@class='col-800']/ul/li/span[@class='info-value']\")\n",
    "    \n",
    "    if len(full_desc_labl) == 0:\n",
    "        print(\"initial link to all descriptions did not work, Use the alternative full description\")\n",
    "        \n",
    "        full_desc_labl = driver.find_elements(By.XPATH, \"//dl/dt[@class='d3-property-insight__attribute-title']\")\n",
    "        full_desc_val = driver.find_elements(By.XPATH, \"//dl/dd[@class='d3-property-insight__attribute-value']\")\n",
    "        \n",
    "        if len(full_desc_labl) == 0:\n",
    "            print(\"find a new way to get attributtes\")\n",
    "            raise NotImplementedError\n",
    "        \n",
    "    labels_in_add = []\n",
    "    values_in_add = []\n",
    "    for i in range(len(full_desc_labl)):\n",
    "\n",
    "        # print(i, full_desc_labl[i].text, full_desc_val[i].text, '<< These are the label and value at each index on the description')\n",
    "        \n",
    "        labels_in_add.append(full_desc_labl[i].text)\n",
    "        values_in_add.append(full_desc_val[i].text)\n",
    "    \n",
    "    \n",
    "\n",
    "    # get price\n",
    "    price_val = get_price(labels_in_add, values_in_add, driver)\n",
    "\n",
    "    # get area\n",
    "    area_val = get_area(labels_in_add, values_in_add)\n",
    "    \n",
    "    # get bath    \n",
    "    bath_val = get_bath(labels_in_add, values_in_add)\n",
    "     \n",
    "    # get bed\n",
    "    bed_val = get_bed(labels_in_add, values_in_add)\n",
    "\n",
    " \n",
    "    # get park\n",
    "    park_val = get_park(labels_in_add, values_in_add)\n",
    "\n",
    "\n",
    "    # append values to lists accordingly\n",
    "    add_price.append(price_val)\n",
    "\n",
    "    add_area_val.append(area_val)\n",
    "\n",
    "    add_bed_val.append(bed_val)\n",
    "\n",
    "    add_bath_val.append(bath_val)\n",
    "\n",
    "    add_park_val.append(park_val)\n",
    "\n",
    "    "
   ]
  },
  {
   "cell_type": "markdown",
   "id": "8c852f52-7778-45fc-9114-0c50dea4efec",
   "metadata": {},
   "source": [
    "_________________________________________________________"
   ]
  },
  {
   "cell_type": "markdown",
   "id": "1fb54de3-df61-4e5f-999a-36537f8ab6ae",
   "metadata": {},
   "source": [
    "# Data Extraction\n"
   ]
  },
  {
   "cell_type": "code",
   "execution_count": 12,
   "id": "42241dac-056b-43af-ba4a-b528cb9fc644",
   "metadata": {},
   "outputs": [],
   "source": [
    "df = pd.read_csv(\"data/url_by_add.csv\")"
   ]
  },
  {
   "cell_type": "code",
   "execution_count": 38,
   "id": "3103d5ca-9901-4053-a436-a8e107ce5c10",
   "metadata": {},
   "outputs": [
    {
     "name": "stdout",
     "output_type": "stream",
     "text": [
      "Title =  Panama Viejo Residences, en Panama Viejo\n",
      "initial link to all descriptions did not work, Use the alternative full description\n"
     ]
    }
   ],
   "source": [
    "url_by_add = df['url_by_add']\n",
    "\n",
    "add_title = []\n",
    "add_price = []\n",
    "add_area_val = []\n",
    "add_bed_val = []\n",
    "add_bath_val = []\n",
    "add_park_val = []\n",
    "\n",
    "# iterate over links\n",
    "for url in url_by_add[0:2139]: # 2139 for testing\n",
    "    # print(url)\n",
    "    # get url on driver\n",
    "    driver.get(url)\n",
    "    # sleep 10 seconds just in case\n",
    "    time.sleep(0.25)\n",
    "    \n",
    "    \n",
    "    # get add and append\n",
    "    try:\n",
    "        title = driver.find_element(By.XPATH, \"//div/div/h1\").text\n",
    "    \n",
    "        add_title.append(title)\n",
    "        print(\"Title = \", title)\n",
    "\n",
    "        get_attributes_case_3(driver, add_price,  \n",
    "                              add_area_val, add_bed_val,\n",
    "                              add_bath_val, add_park_val)     \n",
    "    except NoSuchElementException:\n",
    "        pass\n"
   ]
  },
  {
   "cell_type": "markdown",
   "id": "f92a86ca-f680-459c-bc25-94c497750f27",
   "metadata": {},
   "source": [
    "# Backup storing"
   ]
  },
  {
   "cell_type": "code",
   "execution_count": 35,
   "id": "0d2287e3-fcc9-462a-9a50-8b7b1f7500fa",
   "metadata": {},
   "outputs": [],
   "source": [
    "df_bckp = pd.DataFrame({\"add_title\":add_title, \n",
    "                   \"add_price\": add_price, \n",
    "                   \"add_area_val\": add_area_val,\n",
    "                   \"add_bed_val\": add_bed_val,\n",
    "                   \"add_bath_val\": add_bath_val,\n",
    "                   \"add_park_val\": add_park_val\n",
    "                  })"
   ]
  },
  {
   "cell_type": "code",
   "execution_count": 36,
   "id": "2b6fd415-fb86-4d1a-af00-e3f2f40498e7",
   "metadata": {},
   "outputs": [
    {
     "data": {
      "text/html": [
       "<div>\n",
       "<style scoped>\n",
       "    .dataframe tbody tr th:only-of-type {\n",
       "        vertical-align: middle;\n",
       "    }\n",
       "\n",
       "    .dataframe tbody tr th {\n",
       "        vertical-align: top;\n",
       "    }\n",
       "\n",
       "    .dataframe thead th {\n",
       "        text-align: right;\n",
       "    }\n",
       "</style>\n",
       "<table border=\"1\" class=\"dataframe\">\n",
       "  <thead>\n",
       "    <tr style=\"text-align: right;\">\n",
       "      <th></th>\n",
       "      <th>add_title</th>\n",
       "      <th>add_price</th>\n",
       "      <th>add_area_val</th>\n",
       "      <th>add_bed_val</th>\n",
       "      <th>add_bath_val</th>\n",
       "      <th>add_park_val</th>\n",
       "    </tr>\n",
       "  </thead>\n",
       "  <tbody>\n",
       "    <tr>\n",
       "      <th>0</th>\n",
       "      <td>Apartments in Obarrio | Apartamento - Bella Vi...</td>\n",
       "      <td>B/.259,900.00</td>\n",
       "      <td>210</td>\n",
       "      <td>3</td>\n",
       "      <td>3</td>\n",
       "      <td>2</td>\n",
       "    </tr>\n",
       "    <tr>\n",
       "      <th>1</th>\n",
       "      <td>Apartments in Coco del Mar | Venda de Lujoso A...</td>\n",
       "      <td>B/.485,000.00</td>\n",
       "      <td>224</td>\n",
       "      <td>3</td>\n",
       "      <td>4</td>\n",
       "      <td>2</td>\n",
       "    </tr>\n",
       "    <tr>\n",
       "      <th>2</th>\n",
       "      <td>Apartments in Punta Pacífica | Apartamento - P...</td>\n",
       "      <td>B/.399,999.00</td>\n",
       "      <td>111.46</td>\n",
       "      <td>1</td>\n",
       "      <td>2</td>\n",
       "      <td>1</td>\n",
       "    </tr>\n",
       "    <tr>\n",
       "      <th>3</th>\n",
       "      <td>Apartments in Coco del Mar | Alquiler de apart...</td>\n",
       "      <td>B/.225,000.00</td>\n",
       "      <td>83</td>\n",
       "      <td>2</td>\n",
       "      <td>2</td>\n",
       "      <td>1</td>\n",
       "    </tr>\n",
       "    <tr>\n",
       "      <th>4</th>\n",
       "      <td>Apartments in Marbella | Se vende penthouse ju...</td>\n",
       "      <td>B/.750,000.00\\n (Reduced 5%)</td>\n",
       "      <td>361</td>\n",
       "      <td>4</td>\n",
       "      <td>4</td>\n",
       "      <td>4</td>\n",
       "    </tr>\n",
       "    <tr>\n",
       "      <th>...</th>\n",
       "      <td>...</td>\n",
       "      <td>...</td>\n",
       "      <td>...</td>\n",
       "      <td>...</td>\n",
       "      <td>...</td>\n",
       "      <td>...</td>\n",
       "    </tr>\n",
       "    <tr>\n",
       "      <th>2135</th>\n",
       "      <td>Apartments in Santa María | Edificio Único en ...</td>\n",
       "      <td>B/.305,000.00</td>\n",
       "      <td>96</td>\n",
       "      <td>2</td>\n",
       "      <td>2.5</td>\n",
       "      <td>2</td>\n",
       "    </tr>\n",
       "    <tr>\n",
       "      <th>2136</th>\n",
       "      <td>The Regent Costa del Este venta</td>\n",
       "      <td>B/.380,000.00</td>\n",
       "      <td>95</td>\n",
       "      <td>2</td>\n",
       "      <td>2</td>\n",
       "      <td>NaN</td>\n",
       "    </tr>\n",
       "    <tr>\n",
       "      <th>2137</th>\n",
       "      <td>Apartments in Coco del Mar | Para Inversionist...</td>\n",
       "      <td>B/.274,000.00</td>\n",
       "      <td>79</td>\n",
       "      <td>2</td>\n",
       "      <td>2</td>\n",
       "      <td>2</td>\n",
       "    </tr>\n",
       "    <tr>\n",
       "      <th>2138</th>\n",
       "      <td>Apartments in San Francisco | Sale of reposses...</td>\n",
       "      <td>B/.200,000.00</td>\n",
       "      <td>124</td>\n",
       "      <td>3</td>\n",
       "      <td>2.5</td>\n",
       "      <td>2</td>\n",
       "    </tr>\n",
       "    <tr>\n",
       "      <th>2139</th>\n",
       "      <td>Apartments in Coco del Mar | Se Vende Apartame...</td>\n",
       "      <td>B/.138,000.00</td>\n",
       "      <td>100</td>\n",
       "      <td>2</td>\n",
       "      <td>2</td>\n",
       "      <td>2</td>\n",
       "    </tr>\n",
       "  </tbody>\n",
       "</table>\n",
       "<p>2140 rows × 6 columns</p>\n",
       "</div>"
      ],
      "text/plain": [
       "                                              add_title  \\\n",
       "0     Apartments in Obarrio | Apartamento - Bella Vi...   \n",
       "1     Apartments in Coco del Mar | Venda de Lujoso A...   \n",
       "2     Apartments in Punta Pacífica | Apartamento - P...   \n",
       "3     Apartments in Coco del Mar | Alquiler de apart...   \n",
       "4     Apartments in Marbella | Se vende penthouse ju...   \n",
       "...                                                 ...   \n",
       "2135  Apartments in Santa María | Edificio Único en ...   \n",
       "2136                    The Regent Costa del Este venta   \n",
       "2137  Apartments in Coco del Mar | Para Inversionist...   \n",
       "2138  Apartments in San Francisco | Sale of reposses...   \n",
       "2139  Apartments in Coco del Mar | Se Vende Apartame...   \n",
       "\n",
       "                         add_price add_area_val add_bed_val add_bath_val  \\\n",
       "0                    B/.259,900.00          210           3            3   \n",
       "1                    B/.485,000.00          224           3            4   \n",
       "2                    B/.399,999.00       111.46           1            2   \n",
       "3                    B/.225,000.00           83           2            2   \n",
       "4     B/.750,000.00\\n (Reduced 5%)          361           4            4   \n",
       "...                            ...          ...         ...          ...   \n",
       "2135                 B/.305,000.00           96           2          2.5   \n",
       "2136                 B/.380,000.00           95           2            2   \n",
       "2137                 B/.274,000.00           79           2            2   \n",
       "2138                 B/.200,000.00          124           3          2.5   \n",
       "2139                 B/.138,000.00          100           2            2   \n",
       "\n",
       "     add_park_val  \n",
       "0               2  \n",
       "1               2  \n",
       "2               1  \n",
       "3               1  \n",
       "4               4  \n",
       "...           ...  \n",
       "2135            2  \n",
       "2136          NaN  \n",
       "2137            2  \n",
       "2138            2  \n",
       "2139            2  \n",
       "\n",
       "[2140 rows x 6 columns]"
      ]
     },
     "execution_count": 36,
     "metadata": {},
     "output_type": "execute_result"
    }
   ],
   "source": [
    "df_bckp"
   ]
  },
  {
   "cell_type": "code",
   "execution_count": 37,
   "id": "db179b5d-5599-4a73-bc71-bde59ab74559",
   "metadata": {},
   "outputs": [],
   "source": [
    "df_bckp.to_csv(\"data/data.csv\")"
   ]
  }
 ],
 "metadata": {
  "kernelspec": {
   "display_name": "Python 3 (ipykernel)",
   "language": "python",
   "name": "python3"
  },
  "language_info": {
   "codemirror_mode": {
    "name": "ipython",
    "version": 3
   },
   "file_extension": ".py",
   "mimetype": "text/x-python",
   "name": "python",
   "nbconvert_exporter": "python",
   "pygments_lexer": "ipython3",
   "version": "3.7.9"
  }
 },
 "nbformat": 4,
 "nbformat_minor": 5
}
