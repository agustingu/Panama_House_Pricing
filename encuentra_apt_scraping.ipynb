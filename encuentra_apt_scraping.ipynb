{
 "cells": [
  {
   "cell_type": "code",
   "execution_count": 1,
   "id": "b0e9a981-bef1-41c4-9f87-7c049f23028c",
   "metadata": {},
   "outputs": [],
   "source": [
    "import pandas as pd\n",
    "import time\n",
    "# import selenium\n",
    "from selenium import webdriver\n",
    "from webdriver_manager.chrome import ChromeDriverManager \n",
    "from selenium.webdriver.common.by import By\n",
    "\n",
    "from selenium.common.exceptions import NoSuchElementException\n",
    "from selenium.common.exceptions import StaleElementReferenceException\n",
    "from selenium.webdriver.support.ui import WebDriverWait\n",
    "from selenium.webdriver.support import expected_conditions"
   ]
  },
  {
   "cell_type": "code",
   "execution_count": 2,
   "id": "5632256a-68ed-40b3-8a0d-fde08a0c900e",
   "metadata": {},
   "outputs": [
    {
     "name": "stderr",
     "output_type": "stream",
     "text": [
      "c:\\users\\a-gue\\onedrive\\documentos\\python_projects\\panama_apt_pricing\\lib\\site-packages\\ipykernel_launcher.py:3: DeprecationWarning: executable_path has been deprecated, please pass in a Service object\n",
      "  This is separate from the ipykernel package so we can avoid doing imports until\n",
      "c:\\users\\a-gue\\onedrive\\documentos\\python_projects\\panama_apt_pricing\\lib\\site-packages\\ipykernel_launcher.py:3: DeprecationWarning: use options instead of chrome_options\n",
      "  This is separate from the ipykernel package so we can avoid doing imports until\n"
     ]
    }
   ],
   "source": [
    "options = webdriver.ChromeOptions()\n",
    "options.binary_location = \"C:\\Program Files\\Google\\Chrome Beta\\Application\\chrome.exe\"\n",
    "driver = webdriver.Chrome(executable_path=r'C:\\Users\\a-gue\\.wdm\\drivers\\chromedriver\\win32\\104.0.5112.20\\chromedriver.exe', chrome_options=options)"
   ]
  },
  {
   "cell_type": "code",
   "execution_count": 3,
   "id": "191f1cce-1dd6-4f77-b6f6-bd984d4a4a62",
   "metadata": {},
   "outputs": [],
   "source": [
    "# page_url = \"https://www.encuentra24.com/panama-en/real-estate-for-sale-apartments-condos?q=number.50\"\n",
    "page_url = \"https://www.encuentra24.com/panama-en/real-estate-for-sale-apartments-condos/prov-panama?q=withcat.real-estate-for-sale-apartments-condos|number.50\""
   ]
  },
  {
   "cell_type": "code",
   "execution_count": 4,
   "id": "1297894e-8a10-4b71-997d-e4e20b003508",
   "metadata": {},
   "outputs": [],
   "source": [
    "driver.get(page_url)"
   ]
  },
  {
   "cell_type": "markdown",
   "id": "b172a1b7-5524-42c3-aa90-599b87aef873",
   "metadata": {},
   "source": [
    "__________________"
   ]
  },
  {
   "cell_type": "markdown",
   "id": "cc35ae91-5c2b-4db9-80be-837fc9afa943",
   "metadata": {},
   "source": [
    "# Start Here:\n",
    "Below a function that gets all pages link in encuentra24\n"
   ]
  },
  {
   "cell_type": "code",
   "execution_count": 9,
   "id": "38ade585-eb8c-46e5-8176-172cfd2d4711",
   "metadata": {
    "tags": []
   },
   "outputs": [],
   "source": [
    "def get_links_of_pages(pages_num):\n",
    "    '''Get the links of the number of pages on encuentra 24 main for panama new apartaments\n",
    "    - pages_num: number of pages that we will scrapt\n",
    "    '''\n",
    "    url_list = []\n",
    "    for i in range(pages_num):\n",
    "\n",
    "        # _url_decomposed = \"https://www.encuentra24.com/panama-en/real-estate-for-sale-apartments-condos.\" + str(i+1) + \"?q=number.50\"\n",
    "        _url_decomposed = \"https://www.encuentra24.com/panama-en/real-estate-for-sale-apartments-condos/prov-panama.\" + str(i+1) + \"?q=withcat.real-estate-for-sale-apartments-condos|number.50\"\n",
    "        url_list.append(_url_decomposed)\n",
    "    return url_list"
   ]
  },
  {
   "cell_type": "code",
   "execution_count": 13,
   "id": "02fa5717-4369-44c1-b938-4157d9824716",
   "metadata": {
    "tags": []
   },
   "outputs": [
    {
     "data": {
      "text/plain": [
       "['https://www.encuentra24.com/panama-en/real-estate-for-sale-apartments-condos/prov-panama.1?q=withcat.real-estate-for-sale-apartments-condos|number.50',\n",
       " 'https://www.encuentra24.com/panama-en/real-estate-for-sale-apartments-condos/prov-panama.2?q=withcat.real-estate-for-sale-apartments-condos|number.50']"
      ]
     },
     "execution_count": 13,
     "metadata": {},
     "output_type": "execute_result"
    }
   ],
   "source": [
    "url_list = get_links_of_pages(2)\n",
    "url_list"
   ]
  },
  {
   "cell_type": "code",
   "execution_count": 11,
   "id": "5ae466a9-7549-4193-bfd6-e19d4052e65a",
   "metadata": {},
   "outputs": [],
   "source": [
    "# # get individual url\n",
    "# url_by_add_test = driver.find_elements(By.XPATH, \"//div[@class='ann-box-details']/a\")\n",
    "# # url_by_add[0].get_attribute(\"href\")\n",
    "# url_by_add_test[0].get_attribute(\"href\")   "
   ]
  },
  {
   "cell_type": "markdown",
   "id": "bc205e75-d72e-4bde-b9c7-ed6596edab23",
   "metadata": {},
   "source": [
    "# Get Individual Links below commented"
   ]
  },
  {
   "cell_type": "code",
   "execution_count": 14,
   "id": "54056e1d-558a-4d43-8ab3-0fa1d89a4d55",
   "metadata": {},
   "outputs": [],
   "source": [
    "def get_url_by_add(driver, url_list):\n",
    "    '''Gets url list by each individual add\n",
    "    - return: list of url of each add\n",
    "    '''\n",
    "    url_by_add = []\n",
    "    # iterate over link pages\n",
    "    for i in url_list:\n",
    "        # get url on driver\n",
    "        driver.get(i)\n",
    "        time.sleep(3)\n",
    "        # find all box details\n",
    "        box_details = driver.find_elements(By.XPATH, \"//div[@class='ann-box-details']/a\")\n",
    "\n",
    "        for j in box_details:\n",
    "            url_by_add.append(j.get_attribute(\"href\"))\n",
    "    return url_by_add"
   ]
  },
  {
   "cell_type": "code",
   "execution_count": 15,
   "id": "286e2e7e-f830-4e00-8d93-188e5e62d2b8",
   "metadata": {},
   "outputs": [],
   "source": [
    "url_by_add = get_url_by_add(driver, url_list)"
   ]
  },
  {
   "cell_type": "code",
   "execution_count": 17,
   "id": "5e130225-47bf-4a85-83ed-fd257db74919",
   "metadata": {},
   "outputs": [],
   "source": [
    "# save to csv all urls\n",
    "# df_by_add = pd.DataFrame(url_by_add, columns=[\"url_by_add\"])\n",
    "# df_by_add.to_csv(\"url_by_add.csv\")"
   ]
  },
  {
   "cell_type": "markdown",
   "id": "909cbc2c-c974-4365-b219-701a9ff306a5",
   "metadata": {},
   "source": [
    "# Get title per add"
   ]
  },
  {
   "cell_type": "code",
   "execution_count": 73,
   "id": "0d1ee404-1693-407b-a5ec-47c27851b9dc",
   "metadata": {
    "tags": []
   },
   "outputs": [
    {
     "data": {
      "text/plain": [
       "'Bali en Costa del Mar - Costa del Este'"
      ]
     },
     "execution_count": 73,
     "metadata": {},
     "output_type": "execute_result"
    }
   ],
   "source": [
    "add_title = driver.find_element(By.XPATH, \"//div/div/h1\").text\n",
    "add_title"
   ]
  },
  {
   "cell_type": "markdown",
   "id": "b93e222a-3327-45af-a411-d8a0a0726da2",
   "metadata": {},
   "source": [
    "# Get Price per add"
   ]
  },
  {
   "cell_type": "code",
   "execution_count": 61,
   "id": "0b64ff2a-6e82-4972-b542-fd469a1fca7c",
   "metadata": {},
   "outputs": [
    {
     "data": {
      "text/plain": [
       "'B/.166,082.00'"
      ]
     },
     "execution_count": 61,
     "metadata": {},
     "output_type": "execute_result"
    }
   ],
   "source": [
    "add_price = driver.find_element(By.XPATH, \"//div/div[@class='d3-property-headline__text-element d3-property-headline__text-element--price']\").text\n",
    "add_price"
   ]
  },
  {
   "cell_type": "markdown",
   "id": "9e783698-7391-4b57-b8ad-fd2e585a622a",
   "metadata": {},
   "source": [
    "# Get Location per add"
   ]
  },
  {
   "cell_type": "code",
   "execution_count": 62,
   "id": "7a0609bb-96cd-48a5-9ca0-49f115930969",
   "metadata": {},
   "outputs": [
    {
     "data": {
      "text/plain": [
       "'Vía Transístmica'"
      ]
     },
     "execution_count": 62,
     "metadata": {},
     "output_type": "execute_result"
    }
   ],
   "source": [
    "loc_add = driver.find_element(By.XPATH, \"//div/div[@class='d3-property-headline__text-element']\").text\n",
    "loc_add"
   ]
  },
  {
   "cell_type": "markdown",
   "id": "7975a91b-7366-4445-9fdb-f3e6396a1839",
   "metadata": {},
   "source": [
    "# Get full description per add"
   ]
  },
  {
   "cell_type": "code",
   "execution_count": 52,
   "id": "290a302b-e58c-44dd-9e06-f76e627bb35d",
   "metadata": {},
   "outputs": [
    {
     "name": "stdout",
     "output_type": "stream",
     "text": [
      "Precio / m²\n",
      "B/.1,785.82\n",
      "M²\n",
      "93\n",
      "Bedrooms\n",
      "2\n",
      "Bathrooms\n",
      "2\n",
      "Parking\n",
      "1\n"
     ]
    }
   ],
   "source": [
    "full_description_val = driver.find_elements(By.XPATH, \"//dl/dd[@class='d3-property-insight__attribute-value']\")\n",
    "full_description_label = driver.find_elements(By.XPATH, \"//dl/dt[@class='d3-property-insight__attribute-title']\")\n",
    "descrip_list = [] # len = 5| price, area, rooms, bathrooms, parkings\n",
    "rang = len(full_description_val)\n",
    "for i in range(rang):\n",
    "    print(full_description_label[i].text)\n",
    "\n",
    "    print(full_description_val[i].text)\n",
    "# descrip_list.append(\n",
    "# full_description_label"
   ]
  },
  {
   "cell_type": "markdown",
   "id": "8c852f52-7778-45fc-9114-0c50dea4efec",
   "metadata": {},
   "source": [
    "_________________________________________________________"
   ]
  },
  {
   "cell_type": "markdown",
   "id": "1fb54de3-df61-4e5f-999a-36537f8ab6ae",
   "metadata": {},
   "source": [
    "# Data Extraction\n"
   ]
  },
  {
   "cell_type": "code",
   "execution_count": 87,
   "id": "42241dac-056b-43af-ba4a-b528cb9fc644",
   "metadata": {},
   "outputs": [],
   "source": [
    "df = pd.read_csv(\"url_by_add.csv\")"
   ]
  },
  {
   "cell_type": "code",
   "execution_count": 91,
   "id": "3103d5ca-9901-4053-a436-a8e107ce5c10",
   "metadata": {},
   "outputs": [
    {
     "ename": "NoSuchElementException",
     "evalue": "Message: no such element: Unable to locate element: {\"method\":\"xpath\",\"selector\":\"//div/div[@class='d3-property-headline__text-element d3-property-headline__text-element--price']\"}\n  (Session info: chrome=105.0.5195.19)\nStacktrace:\nBacktrace:\n\tOrdinal0 [0x007AAF23+2207523]\n\tOrdinal0 [0x007430E1+1781985]\n\tOrdinal0 [0x00653FE8+802792]\n\tOrdinal0 [0x00682290+991888]\n\tOrdinal0 [0x0068252B+992555]\n\tOrdinal0 [0x006AF6E2+1177314]\n\tOrdinal0 [0x0069D634+1103412]\n\tOrdinal0 [0x006AD9F2+1169906]\n\tOrdinal0 [0x0069D406+1102854]\n\tOrdinal0 [0x006775F0+947696]\n\tOrdinal0 [0x006784E6+951526]\n\tGetHandleVerifier [0x00A52A12+2733954]\n\tGetHandleVerifier [0x00A44E28+2677656]\n\tGetHandleVerifier [0x008346EA+513114]\n\tGetHandleVerifier [0x00833796+509190]\n\tOrdinal0 [0x00749CEB+1809643]\n\tOrdinal0 [0x0074E448+1827912]\n\tOrdinal0 [0x0074E535+1828149]\n\tOrdinal0 [0x00757960+1866080]\n\tBaseThreadInitThunk [0x762BFA29+25]\n\tRtlGetAppContainerNamedObjectPath [0x77B17A9E+286]\n\tRtlGetAppContainerNamedObjectPath [0x77B17A6E+238]\n",
     "output_type": "error",
     "traceback": [
      "\u001b[1;31m---------------------------------------------------------------------------\u001b[0m",
      "\u001b[1;31mNoSuchElementException\u001b[0m                    Traceback (most recent call last)",
      "\u001b[1;32m~\\AppData\\Local\\Temp\\ipykernel_6304\\2254333939.py\u001b[0m in \u001b[0;36m<module>\u001b[1;34m\u001b[0m\n\u001b[0;32m     30\u001b[0m \u001b[1;33m\u001b[0m\u001b[0m\n\u001b[0;32m     31\u001b[0m     \u001b[1;31m# get price and append\u001b[0m\u001b[1;33m\u001b[0m\u001b[1;33m\u001b[0m\u001b[1;33m\u001b[0m\u001b[0m\n\u001b[1;32m---> 32\u001b[1;33m     \u001b[0mprice\u001b[0m \u001b[1;33m=\u001b[0m \u001b[0mdriver\u001b[0m\u001b[1;33m.\u001b[0m\u001b[0mfind_element\u001b[0m\u001b[1;33m(\u001b[0m\u001b[0mBy\u001b[0m\u001b[1;33m.\u001b[0m\u001b[0mXPATH\u001b[0m\u001b[1;33m,\u001b[0m \u001b[1;34m\"//div/div[@class='d3-property-headline__text-element d3-property-headline__text-element--price']\"\u001b[0m\u001b[1;33m)\u001b[0m\u001b[1;33m.\u001b[0m\u001b[0mtext\u001b[0m\u001b[1;33m\u001b[0m\u001b[1;33m\u001b[0m\u001b[0m\n\u001b[0m\u001b[0;32m     33\u001b[0m     \u001b[0madd_price\u001b[0m\u001b[1;33m.\u001b[0m\u001b[0mappend\u001b[0m\u001b[1;33m(\u001b[0m\u001b[0mprice\u001b[0m\u001b[1;33m)\u001b[0m\u001b[1;33m\u001b[0m\u001b[1;33m\u001b[0m\u001b[0m\n\u001b[0;32m     34\u001b[0m \u001b[1;33m\u001b[0m\u001b[0m\n",
      "\u001b[1;32mc:\\users\\a-gue\\onedrive\\documentos\\python_projects\\panama_apt_pricing\\lib\\site-packages\\selenium\\webdriver\\remote\\webdriver.py\u001b[0m in \u001b[0;36mfind_element\u001b[1;34m(self, by, value)\u001b[0m\n\u001b[0;32m    857\u001b[0m         return self.execute(Command.FIND_ELEMENT, {\n\u001b[0;32m    858\u001b[0m             \u001b[1;34m'using'\u001b[0m\u001b[1;33m:\u001b[0m \u001b[0mby\u001b[0m\u001b[1;33m,\u001b[0m\u001b[1;33m\u001b[0m\u001b[1;33m\u001b[0m\u001b[0m\n\u001b[1;32m--> 859\u001b[1;33m             'value': value})['value']\n\u001b[0m\u001b[0;32m    860\u001b[0m \u001b[1;33m\u001b[0m\u001b[0m\n\u001b[0;32m    861\u001b[0m     \u001b[1;32mdef\u001b[0m \u001b[0mfind_elements\u001b[0m\u001b[1;33m(\u001b[0m\u001b[0mself\u001b[0m\u001b[1;33m,\u001b[0m \u001b[0mby\u001b[0m\u001b[1;33m=\u001b[0m\u001b[0mBy\u001b[0m\u001b[1;33m.\u001b[0m\u001b[0mID\u001b[0m\u001b[1;33m,\u001b[0m \u001b[0mvalue\u001b[0m\u001b[1;33m=\u001b[0m\u001b[1;32mNone\u001b[0m\u001b[1;33m)\u001b[0m \u001b[1;33m->\u001b[0m \u001b[0mList\u001b[0m\u001b[1;33m[\u001b[0m\u001b[0mWebElement\u001b[0m\u001b[1;33m]\u001b[0m\u001b[1;33m:\u001b[0m\u001b[1;33m\u001b[0m\u001b[1;33m\u001b[0m\u001b[0m\n",
      "\u001b[1;32mc:\\users\\a-gue\\onedrive\\documentos\\python_projects\\panama_apt_pricing\\lib\\site-packages\\selenium\\webdriver\\remote\\webdriver.py\u001b[0m in \u001b[0;36mexecute\u001b[1;34m(self, driver_command, params)\u001b[0m\n\u001b[0;32m    433\u001b[0m         \u001b[0mresponse\u001b[0m \u001b[1;33m=\u001b[0m \u001b[0mself\u001b[0m\u001b[1;33m.\u001b[0m\u001b[0mcommand_executor\u001b[0m\u001b[1;33m.\u001b[0m\u001b[0mexecute\u001b[0m\u001b[1;33m(\u001b[0m\u001b[0mdriver_command\u001b[0m\u001b[1;33m,\u001b[0m \u001b[0mparams\u001b[0m\u001b[1;33m)\u001b[0m\u001b[1;33m\u001b[0m\u001b[1;33m\u001b[0m\u001b[0m\n\u001b[0;32m    434\u001b[0m         \u001b[1;32mif\u001b[0m \u001b[0mresponse\u001b[0m\u001b[1;33m:\u001b[0m\u001b[1;33m\u001b[0m\u001b[1;33m\u001b[0m\u001b[0m\n\u001b[1;32m--> 435\u001b[1;33m             \u001b[0mself\u001b[0m\u001b[1;33m.\u001b[0m\u001b[0merror_handler\u001b[0m\u001b[1;33m.\u001b[0m\u001b[0mcheck_response\u001b[0m\u001b[1;33m(\u001b[0m\u001b[0mresponse\u001b[0m\u001b[1;33m)\u001b[0m\u001b[1;33m\u001b[0m\u001b[1;33m\u001b[0m\u001b[0m\n\u001b[0m\u001b[0;32m    436\u001b[0m             response['value'] = self._unwrap_value(\n\u001b[0;32m    437\u001b[0m                 response.get('value', None))\n",
      "\u001b[1;32mc:\\users\\a-gue\\onedrive\\documentos\\python_projects\\panama_apt_pricing\\lib\\site-packages\\selenium\\webdriver\\remote\\errorhandler.py\u001b[0m in \u001b[0;36mcheck_response\u001b[1;34m(self, response)\u001b[0m\n\u001b[0;32m    245\u001b[0m                 \u001b[0malert_text\u001b[0m \u001b[1;33m=\u001b[0m \u001b[0mvalue\u001b[0m\u001b[1;33m[\u001b[0m\u001b[1;34m'alert'\u001b[0m\u001b[1;33m]\u001b[0m\u001b[1;33m.\u001b[0m\u001b[0mget\u001b[0m\u001b[1;33m(\u001b[0m\u001b[1;34m'text'\u001b[0m\u001b[1;33m)\u001b[0m\u001b[1;33m\u001b[0m\u001b[1;33m\u001b[0m\u001b[0m\n\u001b[0;32m    246\u001b[0m             \u001b[1;32mraise\u001b[0m \u001b[0mexception_class\u001b[0m\u001b[1;33m(\u001b[0m\u001b[0mmessage\u001b[0m\u001b[1;33m,\u001b[0m \u001b[0mscreen\u001b[0m\u001b[1;33m,\u001b[0m \u001b[0mstacktrace\u001b[0m\u001b[1;33m,\u001b[0m \u001b[0malert_text\u001b[0m\u001b[1;33m)\u001b[0m  \u001b[1;31m# type: ignore[call-arg]  # mypy is not smart enough here\u001b[0m\u001b[1;33m\u001b[0m\u001b[1;33m\u001b[0m\u001b[0m\n\u001b[1;32m--> 247\u001b[1;33m         \u001b[1;32mraise\u001b[0m \u001b[0mexception_class\u001b[0m\u001b[1;33m(\u001b[0m\u001b[0mmessage\u001b[0m\u001b[1;33m,\u001b[0m \u001b[0mscreen\u001b[0m\u001b[1;33m,\u001b[0m \u001b[0mstacktrace\u001b[0m\u001b[1;33m)\u001b[0m\u001b[1;33m\u001b[0m\u001b[1;33m\u001b[0m\u001b[0m\n\u001b[0m\u001b[0;32m    248\u001b[0m \u001b[1;33m\u001b[0m\u001b[0m\n\u001b[0;32m    249\u001b[0m     \u001b[1;32mdef\u001b[0m \u001b[0m_value_or_default\u001b[0m\u001b[1;33m(\u001b[0m\u001b[0mself\u001b[0m\u001b[1;33m,\u001b[0m \u001b[0mobj\u001b[0m\u001b[1;33m:\u001b[0m \u001b[0mMapping\u001b[0m\u001b[1;33m[\u001b[0m\u001b[0m_KT\u001b[0m\u001b[1;33m,\u001b[0m \u001b[0m_VT\u001b[0m\u001b[1;33m]\u001b[0m\u001b[1;33m,\u001b[0m \u001b[0mkey\u001b[0m\u001b[1;33m:\u001b[0m \u001b[0m_KT\u001b[0m\u001b[1;33m,\u001b[0m \u001b[0mdefault\u001b[0m\u001b[1;33m:\u001b[0m \u001b[0m_VT\u001b[0m\u001b[1;33m)\u001b[0m \u001b[1;33m->\u001b[0m \u001b[0m_VT\u001b[0m\u001b[1;33m:\u001b[0m\u001b[1;33m\u001b[0m\u001b[1;33m\u001b[0m\u001b[0m\n",
      "\u001b[1;31mNoSuchElementException\u001b[0m: Message: no such element: Unable to locate element: {\"method\":\"xpath\",\"selector\":\"//div/div[@class='d3-property-headline__text-element d3-property-headline__text-element--price']\"}\n  (Session info: chrome=105.0.5195.19)\nStacktrace:\nBacktrace:\n\tOrdinal0 [0x007AAF23+2207523]\n\tOrdinal0 [0x007430E1+1781985]\n\tOrdinal0 [0x00653FE8+802792]\n\tOrdinal0 [0x00682290+991888]\n\tOrdinal0 [0x0068252B+992555]\n\tOrdinal0 [0x006AF6E2+1177314]\n\tOrdinal0 [0x0069D634+1103412]\n\tOrdinal0 [0x006AD9F2+1169906]\n\tOrdinal0 [0x0069D406+1102854]\n\tOrdinal0 [0x006775F0+947696]\n\tOrdinal0 [0x006784E6+951526]\n\tGetHandleVerifier [0x00A52A12+2733954]\n\tGetHandleVerifier [0x00A44E28+2677656]\n\tGetHandleVerifier [0x008346EA+513114]\n\tGetHandleVerifier [0x00833796+509190]\n\tOrdinal0 [0x00749CEB+1809643]\n\tOrdinal0 [0x0074E448+1827912]\n\tOrdinal0 [0x0074E535+1828149]\n\tOrdinal0 [0x00757960+1866080]\n\tBaseThreadInitThunk [0x762BFA29+25]\n\tRtlGetAppContainerNamedObjectPath [0x77B17A9E+286]\n\tRtlGetAppContainerNamedObjectPath [0x77B17A6E+238]\n"
     ]
    }
   ],
   "source": [
    "url_by_add = df['url_by_add']\n",
    "\n",
    "add_title = []\n",
    "add_price = []\n",
    "add_loc = []\n",
    "add_price_area_labl = []\n",
    "add_price_area_val = []\n",
    "add_area_labl = []\n",
    "add_area_val = []\n",
    "add_bed_labl = []\n",
    "add_bed_val = []\n",
    "add_bath_labl = []\n",
    "add_bath_val = []\n",
    "add_park_labl = []\n",
    "add_park_val = []\n",
    "\n",
    "add_prom = []\n",
    "# iterate over links\n",
    "for url in url_by_add:\n",
    "    # print(url)\n",
    "    # get url on driver\n",
    "    driver.get(url)\n",
    "    # sleep 10 seconds just in case\n",
    "    time.sleep(5)\n",
    "    \n",
    "    \n",
    "    # get add and append\n",
    "    title = driver.find_element(By.XPATH, \"//div/div/h1\").text\n",
    "    add_title.append(title)\n",
    "        \n",
    "    # get price and append\n",
    "    price = driver.find_element(By.XPATH, \"//div/div[@class='d3-property-headline__text-element d3-property-headline__text-element--price']\").text\n",
    "    add_price.append(price)\n",
    "            \n",
    "    # get loc and append\n",
    "    loc = driver.find_element(By.XPATH, \"//div/div[@class='d3-property-headline__text-element']\").text\n",
    "    add_loc.append(loc)\n",
    "    \n",
    "    # get description\n",
    "    desc_label = driver.find_elements(By.XPATH, \"//dl/dt[@class='d3-property-insight__attribute-title']\")\n",
    "    desc_value = driver.find_elements(By.XPATH, \"//dl/dd[@class='d3-property-insight__attribute-value']\")\n",
    "    \n",
    "    add_price_area_labl.append(desc_label[0].text)\n",
    "    add_price_area_val.append(desc_value[0].text)\n",
    "    \n",
    "    add_area_labl.append(desc_label[1].text)\n",
    "    add_area_val.append(desc_value[1].text)\n",
    "    \n",
    "    add_bed_labl.append(desc_label[2].text)\n",
    "    add_bed_val.append(desc_value[2].text)\n",
    "    \n",
    "    add_bath_labl.append(desc_label[3].text)\n",
    "    add_bath_val.append(desc_value[3].text)\n",
    "    \n",
    "    add_park_labl.append(desc_label[4].text)\n",
    "    add_park_val.append(desc_value[4].text)"
   ]
  },
  {
   "cell_type": "code",
   "execution_count": 92,
   "id": "5fcc8ec2-64f5-42c9-89cc-d304e20df970",
   "metadata": {},
   "outputs": [],
   "source": [
    "# TODO: Handle error when change formating of attributes (price, loc, area, etc,)"
   ]
  },
  {
   "cell_type": "code",
   "execution_count": null,
   "id": "c286ec32-b95a-4fe0-b7f8-1b9eeda74229",
   "metadata": {},
   "outputs": [],
   "source": [
    "# print(add_title, add_price, add_loc, add_price_area_labl, add_price_area_val, add_area_labl, add_area_val, add_bed_labl, add_bed_val, add_bath_labl, add_bath_val, add_park_labl,\n",
    "#       add_park_val)"
   ]
  },
  {
   "cell_type": "markdown",
   "id": "f92a86ca-f680-459c-bc25-94c497750f27",
   "metadata": {},
   "source": [
    "# Backup data"
   ]
  },
  {
   "cell_type": "code",
   "execution_count": 89,
   "id": "0d2287e3-fcc9-462a-9a50-8b7b1f7500fa",
   "metadata": {},
   "outputs": [
    {
     "ename": "ValueError",
     "evalue": "All arrays must be of the same length",
     "output_type": "error",
     "traceback": [
      "\u001b[1;31m---------------------------------------------------------------------------\u001b[0m",
      "\u001b[1;31mValueError\u001b[0m                                Traceback (most recent call last)",
      "\u001b[1;32m~\\AppData\\Local\\Temp\\ipykernel_6304\\83570182.py\u001b[0m in \u001b[0;36m<module>\u001b[1;34m\u001b[0m\n\u001b[0;32m     11\u001b[0m                    \u001b[1;34m\"add_bath_val\"\u001b[0m\u001b[1;33m:\u001b[0m \u001b[0madd_bath_val\u001b[0m\u001b[1;33m,\u001b[0m\u001b[1;33m\u001b[0m\u001b[1;33m\u001b[0m\u001b[0m\n\u001b[0;32m     12\u001b[0m                    \u001b[1;34m\"add_park_labl\"\u001b[0m\u001b[1;33m:\u001b[0m \u001b[0madd_park_labl\u001b[0m\u001b[1;33m,\u001b[0m\u001b[1;33m\u001b[0m\u001b[1;33m\u001b[0m\u001b[0m\n\u001b[1;32m---> 13\u001b[1;33m                    \u001b[1;34m\"add_park_val\"\u001b[0m\u001b[1;33m:\u001b[0m \u001b[0madd_park_val\u001b[0m\u001b[1;33m\u001b[0m\u001b[1;33m\u001b[0m\u001b[0m\n\u001b[0m\u001b[0;32m     14\u001b[0m \u001b[1;33m\u001b[0m\u001b[0m\n\u001b[0;32m     15\u001b[0m                   })\n",
      "\u001b[1;32mc:\\users\\a-gue\\onedrive\\documentos\\python_projects\\panama_apt_pricing\\lib\\site-packages\\pandas\\core\\frame.py\u001b[0m in \u001b[0;36m__init__\u001b[1;34m(self, data, index, columns, dtype, copy)\u001b[0m\n\u001b[0;32m    612\u001b[0m         \u001b[1;32melif\u001b[0m \u001b[0misinstance\u001b[0m\u001b[1;33m(\u001b[0m\u001b[0mdata\u001b[0m\u001b[1;33m,\u001b[0m \u001b[0mdict\u001b[0m\u001b[1;33m)\u001b[0m\u001b[1;33m:\u001b[0m\u001b[1;33m\u001b[0m\u001b[1;33m\u001b[0m\u001b[0m\n\u001b[0;32m    613\u001b[0m             \u001b[1;31m# GH#38939 de facto copy defaults to False only in non-dict cases\u001b[0m\u001b[1;33m\u001b[0m\u001b[1;33m\u001b[0m\u001b[1;33m\u001b[0m\u001b[0m\n\u001b[1;32m--> 614\u001b[1;33m             \u001b[0mmgr\u001b[0m \u001b[1;33m=\u001b[0m \u001b[0mdict_to_mgr\u001b[0m\u001b[1;33m(\u001b[0m\u001b[0mdata\u001b[0m\u001b[1;33m,\u001b[0m \u001b[0mindex\u001b[0m\u001b[1;33m,\u001b[0m \u001b[0mcolumns\u001b[0m\u001b[1;33m,\u001b[0m \u001b[0mdtype\u001b[0m\u001b[1;33m=\u001b[0m\u001b[0mdtype\u001b[0m\u001b[1;33m,\u001b[0m \u001b[0mcopy\u001b[0m\u001b[1;33m=\u001b[0m\u001b[0mcopy\u001b[0m\u001b[1;33m,\u001b[0m \u001b[0mtyp\u001b[0m\u001b[1;33m=\u001b[0m\u001b[0mmanager\u001b[0m\u001b[1;33m)\u001b[0m\u001b[1;33m\u001b[0m\u001b[1;33m\u001b[0m\u001b[0m\n\u001b[0m\u001b[0;32m    615\u001b[0m         \u001b[1;32melif\u001b[0m \u001b[0misinstance\u001b[0m\u001b[1;33m(\u001b[0m\u001b[0mdata\u001b[0m\u001b[1;33m,\u001b[0m \u001b[0mma\u001b[0m\u001b[1;33m.\u001b[0m\u001b[0mMaskedArray\u001b[0m\u001b[1;33m)\u001b[0m\u001b[1;33m:\u001b[0m\u001b[1;33m\u001b[0m\u001b[1;33m\u001b[0m\u001b[0m\n\u001b[0;32m    616\u001b[0m             \u001b[1;32mimport\u001b[0m \u001b[0mnumpy\u001b[0m\u001b[1;33m.\u001b[0m\u001b[0mma\u001b[0m\u001b[1;33m.\u001b[0m\u001b[0mmrecords\u001b[0m \u001b[1;32mas\u001b[0m \u001b[0mmrecords\u001b[0m\u001b[1;33m\u001b[0m\u001b[1;33m\u001b[0m\u001b[0m\n",
      "\u001b[1;32mc:\\users\\a-gue\\onedrive\\documentos\\python_projects\\panama_apt_pricing\\lib\\site-packages\\pandas\\core\\internals\\construction.py\u001b[0m in \u001b[0;36mdict_to_mgr\u001b[1;34m(data, index, columns, dtype, typ, copy)\u001b[0m\n\u001b[0;32m    463\u001b[0m \u001b[1;33m\u001b[0m\u001b[0m\n\u001b[0;32m    464\u001b[0m     return arrays_to_mgr(\n\u001b[1;32m--> 465\u001b[1;33m         \u001b[0marrays\u001b[0m\u001b[1;33m,\u001b[0m \u001b[0mdata_names\u001b[0m\u001b[1;33m,\u001b[0m \u001b[0mindex\u001b[0m\u001b[1;33m,\u001b[0m \u001b[0mcolumns\u001b[0m\u001b[1;33m,\u001b[0m \u001b[0mdtype\u001b[0m\u001b[1;33m=\u001b[0m\u001b[0mdtype\u001b[0m\u001b[1;33m,\u001b[0m \u001b[0mtyp\u001b[0m\u001b[1;33m=\u001b[0m\u001b[0mtyp\u001b[0m\u001b[1;33m,\u001b[0m \u001b[0mconsolidate\u001b[0m\u001b[1;33m=\u001b[0m\u001b[0mcopy\u001b[0m\u001b[1;33m\u001b[0m\u001b[1;33m\u001b[0m\u001b[0m\n\u001b[0m\u001b[0;32m    466\u001b[0m     )\n\u001b[0;32m    467\u001b[0m \u001b[1;33m\u001b[0m\u001b[0m\n",
      "\u001b[1;32mc:\\users\\a-gue\\onedrive\\documentos\\python_projects\\panama_apt_pricing\\lib\\site-packages\\pandas\\core\\internals\\construction.py\u001b[0m in \u001b[0;36marrays_to_mgr\u001b[1;34m(arrays, arr_names, index, columns, dtype, verify_integrity, typ, consolidate)\u001b[0m\n\u001b[0;32m    117\u001b[0m         \u001b[1;31m# figure out the index, if necessary\u001b[0m\u001b[1;33m\u001b[0m\u001b[1;33m\u001b[0m\u001b[1;33m\u001b[0m\u001b[0m\n\u001b[0;32m    118\u001b[0m         \u001b[1;32mif\u001b[0m \u001b[0mindex\u001b[0m \u001b[1;32mis\u001b[0m \u001b[1;32mNone\u001b[0m\u001b[1;33m:\u001b[0m\u001b[1;33m\u001b[0m\u001b[1;33m\u001b[0m\u001b[0m\n\u001b[1;32m--> 119\u001b[1;33m             \u001b[0mindex\u001b[0m \u001b[1;33m=\u001b[0m \u001b[0m_extract_index\u001b[0m\u001b[1;33m(\u001b[0m\u001b[0marrays\u001b[0m\u001b[1;33m)\u001b[0m\u001b[1;33m\u001b[0m\u001b[1;33m\u001b[0m\u001b[0m\n\u001b[0m\u001b[0;32m    120\u001b[0m         \u001b[1;32melse\u001b[0m\u001b[1;33m:\u001b[0m\u001b[1;33m\u001b[0m\u001b[1;33m\u001b[0m\u001b[0m\n\u001b[0;32m    121\u001b[0m             \u001b[0mindex\u001b[0m \u001b[1;33m=\u001b[0m \u001b[0mensure_index\u001b[0m\u001b[1;33m(\u001b[0m\u001b[0mindex\u001b[0m\u001b[1;33m)\u001b[0m\u001b[1;33m\u001b[0m\u001b[1;33m\u001b[0m\u001b[0m\n",
      "\u001b[1;32mc:\\users\\a-gue\\onedrive\\documentos\\python_projects\\panama_apt_pricing\\lib\\site-packages\\pandas\\core\\internals\\construction.py\u001b[0m in \u001b[0;36m_extract_index\u001b[1;34m(data)\u001b[0m\n\u001b[0;32m    633\u001b[0m             \u001b[0mlengths\u001b[0m \u001b[1;33m=\u001b[0m \u001b[0mlist\u001b[0m\u001b[1;33m(\u001b[0m\u001b[0mset\u001b[0m\u001b[1;33m(\u001b[0m\u001b[0mraw_lengths\u001b[0m\u001b[1;33m)\u001b[0m\u001b[1;33m)\u001b[0m\u001b[1;33m\u001b[0m\u001b[1;33m\u001b[0m\u001b[0m\n\u001b[0;32m    634\u001b[0m             \u001b[1;32mif\u001b[0m \u001b[0mlen\u001b[0m\u001b[1;33m(\u001b[0m\u001b[0mlengths\u001b[0m\u001b[1;33m)\u001b[0m \u001b[1;33m>\u001b[0m \u001b[1;36m1\u001b[0m\u001b[1;33m:\u001b[0m\u001b[1;33m\u001b[0m\u001b[1;33m\u001b[0m\u001b[0m\n\u001b[1;32m--> 635\u001b[1;33m                 \u001b[1;32mraise\u001b[0m \u001b[0mValueError\u001b[0m\u001b[1;33m(\u001b[0m\u001b[1;34m\"All arrays must be of the same length\"\u001b[0m\u001b[1;33m)\u001b[0m\u001b[1;33m\u001b[0m\u001b[1;33m\u001b[0m\u001b[0m\n\u001b[0m\u001b[0;32m    636\u001b[0m \u001b[1;33m\u001b[0m\u001b[0m\n\u001b[0;32m    637\u001b[0m             \u001b[1;32mif\u001b[0m \u001b[0mhave_dicts\u001b[0m\u001b[1;33m:\u001b[0m\u001b[1;33m\u001b[0m\u001b[1;33m\u001b[0m\u001b[0m\n",
      "\u001b[1;31mValueError\u001b[0m: All arrays must be of the same length"
     ]
    }
   ],
   "source": [
    "df_bckp = pd.DataFrame({\"add_title\":add_title, \n",
    "                   \"add_price\": add_price, \n",
    "                   \"add_loc\": add_loc, \n",
    "                   \"add_price_area_labl\": add_price_area_labl, \n",
    "                   \"add_price_area_val\": add_price_area_val, \n",
    "                   \"add_area_labl\": add_area_labl, \n",
    "                   \"add_area_val\": add_area_val,\n",
    "                   \"add_bed_labl\": add_bed_labl,\n",
    "                   \"add_bed_val\": add_bed_val,\n",
    "                   \"add_bath_labl\": add_bath_labl,\n",
    "                   \"add_bath_val\": add_bath_val,\n",
    "                   \"add_park_labl\": add_park_labl,\n",
    "                   \"add_park_val\": add_park_val\n",
    "                   \n",
    "                  })"
   ]
  },
  {
   "cell_type": "code",
   "execution_count": 85,
   "id": "2b6fd415-fb86-4d1a-af00-e3f2f40498e7",
   "metadata": {},
   "outputs": [
    {
     "data": {
      "text/html": [
       "<div>\n",
       "<style scoped>\n",
       "    .dataframe tbody tr th:only-of-type {\n",
       "        vertical-align: middle;\n",
       "    }\n",
       "\n",
       "    .dataframe tbody tr th {\n",
       "        vertical-align: top;\n",
       "    }\n",
       "\n",
       "    .dataframe thead th {\n",
       "        text-align: right;\n",
       "    }\n",
       "</style>\n",
       "<table border=\"1\" class=\"dataframe\">\n",
       "  <thead>\n",
       "    <tr style=\"text-align: right;\">\n",
       "      <th></th>\n",
       "      <th>add_title</th>\n",
       "      <th>add_price</th>\n",
       "      <th>add_loc</th>\n",
       "      <th>add_price_area_labl</th>\n",
       "      <th>add_price_area_val</th>\n",
       "      <th>add_area_labl</th>\n",
       "      <th>add_area_val</th>\n",
       "      <th>add_bed_labl</th>\n",
       "      <th>add_bed_val</th>\n",
       "      <th>add_bath_labl</th>\n",
       "      <th>add_bath_val</th>\n",
       "      <th>add_park_labl</th>\n",
       "      <th>add_park_val</th>\n",
       "    </tr>\n",
       "  </thead>\n",
       "  <tbody>\n",
       "    <tr>\n",
       "      <th>0</th>\n",
       "      <td>Bali en Costa del Mar - Costa del Este</td>\n",
       "      <td>B/.399,000.00</td>\n",
       "      <td>Costa del Este</td>\n",
       "      <td>Precio / m²</td>\n",
       "      <td>B/.2,363.46</td>\n",
       "      <td>M²</td>\n",
       "      <td>168.82</td>\n",
       "      <td>Bedrooms</td>\n",
       "      <td>3</td>\n",
       "      <td>Bathrooms</td>\n",
       "      <td>3</td>\n",
       "      <td>Parking</td>\n",
       "      <td>2</td>\n",
       "    </tr>\n",
       "    <tr>\n",
       "      <th>1</th>\n",
       "      <td>Ocean House en Santa María</td>\n",
       "      <td>B/.287,000.00</td>\n",
       "      <td>Santa María</td>\n",
       "      <td>Precio / m²</td>\n",
       "      <td>B/.3,304.92</td>\n",
       "      <td>M²</td>\n",
       "      <td>86.84</td>\n",
       "      <td>Bedrooms</td>\n",
       "      <td>2</td>\n",
       "      <td>Bathrooms</td>\n",
       "      <td>2</td>\n",
       "      <td>Parking</td>\n",
       "      <td>2</td>\n",
       "    </tr>\n",
       "  </tbody>\n",
       "</table>\n",
       "</div>"
      ],
      "text/plain": [
       "                                add_title      add_price         add_loc  \\\n",
       "0  Bali en Costa del Mar - Costa del Este  B/.399,000.00  Costa del Este   \n",
       "1              Ocean House en Santa María  B/.287,000.00     Santa María   \n",
       "\n",
       "  add_price_area_labl add_price_area_val add_area_labl add_area_val  \\\n",
       "0         Precio / m²        B/.2,363.46            M²       168.82   \n",
       "1         Precio / m²        B/.3,304.92            M²        86.84   \n",
       "\n",
       "  add_bed_labl add_bed_val add_bath_labl add_bath_val add_park_labl  \\\n",
       "0     Bedrooms           3     Bathrooms            3       Parking   \n",
       "1     Bedrooms           2     Bathrooms            2       Parking   \n",
       "\n",
       "  add_park_val  \n",
       "0            2  \n",
       "1            2  "
      ]
     },
     "execution_count": 85,
     "metadata": {},
     "output_type": "execute_result"
    }
   ],
   "source": [
    "df_bckp"
   ]
  },
  {
   "cell_type": "markdown",
   "id": "d9cc9865-fc97-4b82-aa2b-250d06588edf",
   "metadata": {},
   "source": [
    "# Add missing values"
   ]
  }
 ],
 "metadata": {
  "kernelspec": {
   "display_name": "Python 3 (ipykernel)",
   "language": "python",
   "name": "python3"
  },
  "language_info": {
   "codemirror_mode": {
    "name": "ipython",
    "version": 3
   },
   "file_extension": ".py",
   "mimetype": "text/x-python",
   "name": "python",
   "nbconvert_exporter": "python",
   "pygments_lexer": "ipython3",
   "version": "3.7.9"
  }
 },
 "nbformat": 4,
 "nbformat_minor": 5
}
