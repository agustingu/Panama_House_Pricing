{
 "cells": [
  {
   "cell_type": "code",
   "execution_count": 1,
   "id": "b0e9a981-bef1-41c4-9f87-7c049f23028c",
   "metadata": {},
   "outputs": [],
   "source": [
    "import pandas as pd\n",
    "import time\n",
    "# import selenium\n",
    "from selenium import webdriver\n",
    "from webdriver_manager.chrome import ChromeDriverManager \n",
    "from selenium.webdriver.common.by import By\n",
    "\n",
    "from selenium.common.exceptions import NoSuchElementException\n",
    "from selenium.common.exceptions import StaleElementReferenceException\n",
    "from selenium.webdriver.support.ui import WebDriverWait\n",
    "from selenium.webdriver.support import expected_conditions"
   ]
  },
  {
   "cell_type": "code",
   "execution_count": 2,
   "id": "5632256a-68ed-40b3-8a0d-fde08a0c900e",
   "metadata": {},
   "outputs": [
    {
     "name": "stderr",
     "output_type": "stream",
     "text": [
      "c:\\users\\a-gue\\onedrive\\documentos\\python_projects\\panama_apt_pricing\\lib\\site-packages\\ipykernel_launcher.py:3: DeprecationWarning: executable_path has been deprecated, please pass in a Service object\n",
      "  This is separate from the ipykernel package so we can avoid doing imports until\n",
      "c:\\users\\a-gue\\onedrive\\documentos\\python_projects\\panama_apt_pricing\\lib\\site-packages\\ipykernel_launcher.py:3: DeprecationWarning: use options instead of chrome_options\n",
      "  This is separate from the ipykernel package so we can avoid doing imports until\n"
     ]
    }
   ],
   "source": [
    "options = webdriver.ChromeOptions()\n",
    "options.binary_location = \"C:\\Program Files\\Google\\Chrome Beta\\Application\\chrome.exe\"\n",
    "driver = webdriver.Chrome(executable_path=r'C:\\Users\\a-gue\\.wdm\\drivers\\chromedriver\\win32\\104.0.5112.20\\chromedriver.exe', chrome_options=options)"
   ]
  },
  {
   "cell_type": "code",
   "execution_count": 3,
   "id": "191f1cce-1dd6-4f77-b6f6-bd984d4a4a62",
   "metadata": {},
   "outputs": [],
   "source": [
    "# page_url = \"https://www.encuentra24.com/panama-en/real-estate-for-sale-apartments-condos?q=number.50\"\n",
    "page_url = \"https://www.encuentra24.com/panama-en/real-estate-for-sale-apartments-condos/prov-panama?q=withcat.real-estate-for-sale-apartments-condos|number.50\""
   ]
  },
  {
   "cell_type": "code",
   "execution_count": 4,
   "id": "1297894e-8a10-4b71-997d-e4e20b003508",
   "metadata": {},
   "outputs": [],
   "source": [
    "driver.get(page_url)"
   ]
  },
  {
   "cell_type": "markdown",
   "id": "b172a1b7-5524-42c3-aa90-599b87aef873",
   "metadata": {},
   "source": [
    "__________________"
   ]
  },
  {
   "cell_type": "markdown",
   "id": "cc35ae91-5c2b-4db9-80be-837fc9afa943",
   "metadata": {},
   "source": [
    "# Start Here:\n",
    "Below a function that gets all pages link in encuentra24\n"
   ]
  },
  {
   "cell_type": "code",
   "execution_count": 5,
   "id": "38ade585-eb8c-46e5-8176-172cfd2d4711",
   "metadata": {
    "tags": []
   },
   "outputs": [],
   "source": [
    "def get_links_of_pages(pages_num):\n",
    "    '''Get the links of the number of pages on encuentra 24 main for panama new apartaments\n",
    "    - pages_num: number of pages that we will scrapt\n",
    "    '''\n",
    "    url_list = []\n",
    "    for i in range(pages_num):\n",
    "\n",
    "        # _url_decomposed = \"https://www.encuentra24.com/panama-en/real-estate-for-sale-apartments-condos.\" + str(i+1) + \"?q=number.50\"\n",
    "        _url_decomposed = \"https://www.encuentra24.com/panama-en/real-estate-for-sale-apartments-condos/prov-panama.\" + str(i+1) + \"?q=withcat.real-estate-for-sale-apartments-condos|number.50\"\n",
    "        url_list.append(_url_decomposed)\n",
    "    return url_list"
   ]
  },
  {
   "cell_type": "code",
   "execution_count": 6,
   "id": "02fa5717-4369-44c1-b938-4157d9824716",
   "metadata": {
    "tags": []
   },
   "outputs": [],
   "source": [
    "# url_list = get_links_of_pages(2)\n",
    "# url_list"
   ]
  },
  {
   "cell_type": "code",
   "execution_count": 11,
   "id": "5ae466a9-7549-4193-bfd6-e19d4052e65a",
   "metadata": {},
   "outputs": [],
   "source": [
    "# # get individual url\n",
    "# url_by_add_test = driver.find_elements(By.XPATH, \"//div[@class='ann-box-details']/a\")\n",
    "# # url_by_add[0].get_attribute(\"href\")\n",
    "# url_by_add_test[0].get_attribute(\"href\")   "
   ]
  },
  {
   "cell_type": "markdown",
   "id": "bc205e75-d72e-4bde-b9c7-ed6596edab23",
   "metadata": {},
   "source": [
    "# Get Individual Links below commented"
   ]
  },
  {
   "cell_type": "code",
   "execution_count": 14,
   "id": "54056e1d-558a-4d43-8ab3-0fa1d89a4d55",
   "metadata": {},
   "outputs": [],
   "source": [
    "def get_url_by_add(driver, url_list):\n",
    "    '''Gets url list by each individual add\n",
    "    - return: list of url of each add\n",
    "    '''\n",
    "    url_by_add = []\n",
    "    # iterate over link pages\n",
    "    for i in url_list:\n",
    "        # get url on driver\n",
    "        driver.get(i)\n",
    "        time.sleep(3)\n",
    "        # find all box details\n",
    "        box_details = driver.find_elements(By.XPATH, \"//div[@class='ann-box-details']/a\")\n",
    "\n",
    "        for j in box_details:\n",
    "            url_by_add.append(j.get_attribute(\"href\"))\n",
    "    return url_by_add"
   ]
  },
  {
   "cell_type": "code",
   "execution_count": 15,
   "id": "286e2e7e-f830-4e00-8d93-188e5e62d2b8",
   "metadata": {},
   "outputs": [],
   "source": [
    "url_by_add = get_url_by_add(driver, url_list)"
   ]
  },
  {
   "cell_type": "code",
   "execution_count": 17,
   "id": "5e130225-47bf-4a85-83ed-fd257db74919",
   "metadata": {},
   "outputs": [],
   "source": [
    "# save to csv all urls\n",
    "# df_by_add = pd.DataFrame(url_by_add, columns=[\"url_by_add\"])\n",
    "# df_by_add.to_csv(\"url_by_add.csv\")"
   ]
  },
  {
   "cell_type": "markdown",
   "id": "909cbc2c-c974-4365-b219-701a9ff306a5",
   "metadata": {},
   "source": [
    "# Get title per add"
   ]
  },
  {
   "cell_type": "code",
   "execution_count": 25,
   "id": "0d1ee404-1693-407b-a5ec-47c27851b9dc",
   "metadata": {
    "tags": []
   },
   "outputs": [
    {
     "data": {
      "text/plain": [
       "'Apartments in La Cresta | LUJOSO Y ESPACIOSO APARTAMENTO EN LA CRESTA. 400m2.'"
      ]
     },
     "execution_count": 88,
     "metadata": {},
     "output_type": "execute_result"
    }
   ],
   "source": [
    "add_title = driver.find_element(By.XPATH, \"//div/div/h1\").text\n",
    "add_title"
   ]
  },
  {
   "cell_type": "markdown",
   "id": "b93e222a-3327-45af-a411-d8a0a0726da2",
   "metadata": {},
   "source": [
    "# Get Price per add"
   ]
  },
  {
   "cell_type": "code",
   "execution_count": 61,
   "id": "0b64ff2a-6e82-4972-b542-fd469a1fca7c",
   "metadata": {},
   "outputs": [
    {
     "data": {
      "text/plain": [
       "'B/.166,082.00'"
      ]
     },
     "execution_count": 61,
     "metadata": {},
     "output_type": "execute_result"
    }
   ],
   "source": [
    "add_price = driver.find_element(By.XPATH, \"//div/div[@class='d3-property-headline__text-element d3-property-headline__text-element--price']\").text\n",
    "add_price"
   ]
  },
  {
   "cell_type": "markdown",
   "id": "9e783698-7391-4b57-b8ad-fd2e585a622a",
   "metadata": {},
   "source": [
    "# Get Location per add"
   ]
  },
  {
   "cell_type": "code",
   "execution_count": 62,
   "id": "7a0609bb-96cd-48a5-9ca0-49f115930969",
   "metadata": {},
   "outputs": [
    {
     "data": {
      "text/plain": [
       "'Vía Transístmica'"
      ]
     },
     "execution_count": 62,
     "metadata": {},
     "output_type": "execute_result"
    }
   ],
   "source": [
    "loc_add = driver.find_element(By.XPATH, \"//div/div[@class='d3-property-headline__text-element']\").text\n",
    "loc_add"
   ]
  },
  {
   "cell_type": "markdown",
   "id": "7975a91b-7366-4445-9fdb-f3e6396a1839",
   "metadata": {},
   "source": [
    "# Get full description per add"
   ]
  },
  {
   "cell_type": "code",
   "execution_count": 27,
   "id": "290a302b-e58c-44dd-9e06-f76e627bb35d",
   "metadata": {},
   "outputs": [],
   "source": [
    "# Case 1\n",
    "full_description_val = driver.find_elements(By.XPATH, \"//dl/dd[@class='d3-property-insight__attribute-value']\")\n",
    "full_description_label = driver.find_elements(By.XPATH, \"//dl/dt[@class='d3-property-insight__attribute-title']\")\n",
    "descrip_list = [] # len = 5| price, area, rooms, bathrooms, parkings\n",
    "rang = len(full_description_val)\n",
    "for i in range(rang):\n",
    "    print(full_description_label[i].text)\n",
    "\n",
    "    print(full_description_val[i].text)\n",
    "# descrip_list.append(\n",
    "# full_description_label  "
   ]
  },
  {
   "cell_type": "code",
   "execution_count": 37,
   "id": "fa8d84d8-fbaa-4809-bd47-4113c4f878f2",
   "metadata": {},
   "outputs": [
    {
     "name": "stdout",
     "output_type": "stream",
     "text": [
      "0 Category: Apartments\n",
      "1 Date: 04/08/2022\n",
      "2 Location: Santa María\n",
      "3 Price: B/.1,650,000.00\n",
      " (Reduced 6%)\n",
      "4 Price/m² of construction: B/.3,402.06\n",
      "5 Price/m² of land: B/.2,554.17\n",
      "6 Lot Size: 646\n",
      "7 Year of construction: 2018\n",
      "8 Balcony/Terrance: terrace\n",
      "9 Swimming pool: yes\n",
      "10 Type of Floor: Marble\n",
      "11 Bedrooms: 4\n",
      "12 Bathrooms: 5\n",
      "13 Parking: 3\n",
      "14 M² of construction: 485\n"
     ]
    }
   ],
   "source": [
    "# Case 2\n",
    "full_description_label =  driver.find_elements(By.XPATH,\"//li/span[@class='info-name']\")\n",
    "full_description_val = driver.find_elements(By.XPATH, \"//li/span[@class='info-value']\")\n",
    "for j in range(len(full_description_label)):\n",
    "    print(j, full_description_label[j].text, full_description_val[j].text)\n",
    "    # 3: price\n",
    "    # 2: location\n",
    "    # 4: price area val\n",
    "    # 14: area\n",
    "    # 11: Bedrooms\n",
    "    # 12: Bathroom\n",
    "    # 13: Parking\n",
    "    pass"
   ]
  },
  {
   "cell_type": "code",
   "execution_count": 85,
   "id": "979d6125-94b5-4352-8a18-ec72846f7b6f",
   "metadata": {},
   "outputs": [
    {
     "name": "stdout",
     "output_type": "stream",
     "text": [
      "0 Category: Apartments\n",
      "1 Date: 04/08/2022\n",
      "2 Location: Santa María\n",
      "3 Price: B/.1,650,000.00\n",
      " (Reduced 6%)\n",
      "4 Price/m² of construction: B/.3,402.06\n",
      "5 Price/m² of land: B/.2,554.17\n",
      "6 Lot Size: 646\n",
      "7 Year of construction: 2018\n",
      "8 Balcony/Terrance: terrace\n",
      "9 Swimming pool: yes\n",
      "10 Type of Floor: Marble\n",
      "11 Bedrooms: 4\n",
      "12 Bathrooms: 5\n",
      "13 Parking: 3\n",
      "14 M² of construction: 485\n"
     ]
    }
   ],
   "source": [
    "# Case 3\n",
    "full_desc_ = driver.find_elements(By.XPATH, \"//div[@class='col-800']/ul/li/span[@class='info-name']\")\n",
    "full_desc_1 = driver.find_elements(By.XPATH, \"//div[@class='col-800']/ul/li/span[@class='info-value']\")\n",
    "full_desc_\n",
    "for i in range(len(full_desc_)):\n",
    "    print(i, full_desc_[i].text, full_desc_1[i].text)"
   ]
  },
  {
   "cell_type": "markdown",
   "id": "8c852f52-7778-45fc-9114-0c50dea4efec",
   "metadata": {},
   "source": [
    "_________________________________________________________"
   ]
  },
  {
   "cell_type": "markdown",
   "id": "1fb54de3-df61-4e5f-999a-36537f8ab6ae",
   "metadata": {},
   "source": [
    "# Data Extraction\n"
   ]
  },
  {
   "cell_type": "code",
   "execution_count": 9,
   "id": "42241dac-056b-43af-ba4a-b528cb9fc644",
   "metadata": {},
   "outputs": [],
   "source": [
    "df = pd.read_csv(\"url_by_add.csv\")"
   ]
  },
  {
   "cell_type": "code",
   "execution_count": 94,
   "id": "3103d5ca-9901-4053-a436-a8e107ce5c10",
   "metadata": {},
   "outputs": [
    {
     "name": "stdout",
     "output_type": "stream",
     "text": [
      "Bali en Costa del Mar - Costa del Este\n",
      "Ocean House en Santa María\n",
      "Mystic Village en Don Bosco, Juan Díaz\n",
      "Apartments in Santa María | Spectacular apartment for SALE in The Reserve\n",
      "B/.1,650,000.00\n",
      " (Reduced 6%)\n",
      "Santa María\n",
      "Price/m² of construction:\n",
      "B/.3,402.06\n",
      "> \u001b[1;32mc:\\users\\a-gue\\appdata\\local\\temp\\ipykernel_22928\\2227161123.py\u001b[0m(82)\u001b[0;36m<module>\u001b[1;34m()\u001b[0m\n",
      "\n"
     ]
    },
    {
     "name": "stdin",
     "output_type": "stream",
     "text": [
      "ipdb>  c\n"
     ]
    },
    {
     "name": "stdout",
     "output_type": "stream",
     "text": [
      "M² of construction:\n",
      "485\n",
      "Bedrooms:\n",
      "4\n",
      "Bathrooms:\n",
      "5\n",
      "Parking:\n",
      "3\n",
      "Apartments in La Cresta | LUJOSO Y ESPACIOSO APARTAMENTO EN LA CRESTA. 400m2.\n",
      "B/.550,000.00\n",
      "La Cresta\n",
      "Price/m² of construction:\n",
      "B/.1,375.00\n",
      "> \u001b[1;32mc:\\users\\a-gue\\appdata\\local\\temp\\ipykernel_22928\\2227161123.py\u001b[0m(81)\u001b[0;36m<module>\u001b[1;34m()\u001b[0m\n",
      "\n"
     ]
    },
    {
     "name": "stdin",
     "output_type": "stream",
     "text": [
      "ipdb>  full_description_label[14].text\n"
     ]
    },
    {
     "name": "stdout",
     "output_type": "stream",
     "text": [
      "*** IndexError: list index out of range\n"
     ]
    },
    {
     "name": "stdin",
     "output_type": "stream",
     "text": [
      "ipdb>  full_description_label[13].text\n"
     ]
    },
    {
     "name": "stdout",
     "output_type": "stream",
     "text": [
      "'M² of construction:'\n"
     ]
    },
    {
     "name": "stdin",
     "output_type": "stream",
     "text": [
      "ipdb>  len(full_description_label)\n"
     ]
    },
    {
     "name": "stdout",
     "output_type": "stream",
     "text": [
      "14\n"
     ]
    },
    {
     "name": "stdin",
     "output_type": "stream",
     "text": [
      "ipdb>  for i in full_description_label: print(i.text)\n"
     ]
    },
    {
     "name": "stdout",
     "output_type": "stream",
     "text": [
      "Category:\n",
      "Date:\n",
      "Location:\n",
      "Price:\n",
      "Price/m² of construction:\n",
      "Price/m² of land:\n",
      "Lot Size:\n",
      "Balcony/Terrance:\n",
      "Swimming pool:\n",
      "Type of Floor:\n",
      "Bedrooms:\n",
      "Bathrooms:\n",
      "Parking:\n",
      "M² of construction:\n"
     ]
    },
    {
     "name": "stdin",
     "output_type": "stream",
     "text": [
      "ipdb>  q\n"
     ]
    }
   ],
   "source": [
    "url_by_add = df['url_by_add']\n",
    "\n",
    "add_title = []\n",
    "add_price = []\n",
    "add_loc = []\n",
    "add_price_area_labl = []\n",
    "add_price_area_val = []\n",
    "add_area_labl = []\n",
    "add_area_val = []\n",
    "add_bed_labl = []\n",
    "add_bed_val = []\n",
    "add_bath_labl = []\n",
    "add_bath_val = []\n",
    "add_park_labl = []\n",
    "add_park_val = []\n",
    "\n",
    "add_prom = []\n",
    "# iterate over links\n",
    "for url in url_by_add:\n",
    "    # print(url)\n",
    "    # get url on driver\n",
    "    driver.get(url)\n",
    "    # sleep 10 seconds just in case\n",
    "    time.sleep(5)\n",
    "    \n",
    "    \n",
    "    # get add and append\n",
    "    title = driver.find_element(By.XPATH, \"//div/div/h1\").text\n",
    "    add_title.append(title)\n",
    "    print(title)\n",
    "    \n",
    "    \n",
    "    try:\n",
    "        # get price and append\n",
    "        price = driver.find_element(By.XPATH, \"//div/div[@class='d3-property-headline__text-element d3-property-headline__text-element--price']\").text\n",
    "        add_price.append(price)\n",
    "\n",
    "        # get loc and append\n",
    "        loc = driver.find_element(By.XPATH, \"//div/div[@class='d3-property-headline__text-element']\").text\n",
    "        add_loc.append(loc)\n",
    "\n",
    "        # get description\n",
    "        desc_label = driver.find_elements(By.XPATH, \"//dl/dt[@class='d3-property-insight__attribute-title']\")\n",
    "        desc_value = driver.find_elements(By.XPATH, \"//dl/dd[@class='d3-property-insight__attribute-value']\")\n",
    "\n",
    "        add_price_area_labl.append(desc_label[0].text)\n",
    "        add_price_area_val.append(desc_value[0].text)\n",
    "\n",
    "        add_area_labl.append(desc_label[1].text)\n",
    "        add_area_val.append(desc_value[1].text)\n",
    "\n",
    "        add_bed_labl.append(desc_label[2].text)\n",
    "        add_bed_val.append(desc_value[2].text)\n",
    "\n",
    "        add_bath_labl.append(desc_label[3].text)\n",
    "        add_bath_val.append(desc_value[3].text)\n",
    "\n",
    "        add_park_labl.append(desc_label[4].text)\n",
    "        add_park_val.append(desc_value[4].text)\n",
    "        \n",
    "    except NoSuchElementException:\n",
    "       \n",
    "        full_description_label =  driver.find_elements(By.XPATH, \"//div[@class='col-800']/ul/li/span[@class='info-name']\")\n",
    "        full_description_val = driver.find_elements(By.XPATH,  \"//div[@class='col-800']/ul/li/span[@class='info-value']\")\n",
    "\n",
    "        price = full_description_val[3].text\n",
    "        add_price.append(price)\n",
    "        print(price)\n",
    "        \n",
    "        loc = full_description_val[2].text\n",
    "        add_loc.append(loc)\n",
    "        print(loc)\n",
    "        \n",
    "        price_area_labl = full_description_label[4].text\n",
    "        add_price_area_labl.append(price_area_labl)\n",
    "        print(price_area_labl)\n",
    "        \n",
    "        price_area_val = full_description_val[4].text\n",
    "        add_price_area_val.append(price_area_val)\n",
    "        print(price_area_val)\n",
    "        import pdb; pdb.set_trace()\n",
    "        area_labl = full_description_label[14].text\n",
    "        add_area_labl.append(area_labl)\n",
    "        print(area_labl)\n",
    "        \n",
    "        area_val = full_description_val[14].text\n",
    "        add_area_val.append(area_val)\n",
    "        print(area_val)\n",
    "        \n",
    "        bed_lbl = full_description_label[11].text\n",
    "        add_bed_labl.append(bed_lbl)\n",
    "        print(bed_lbl)\n",
    "        \n",
    "        bed_val = full_description_val[11].text\n",
    "        add_bed_val.append(bed_val)\n",
    "        print(bed_val)\n",
    "        \n",
    "        \n",
    "        \n",
    "        bath_lbl = full_description_label[12].text\n",
    "        add_bath_labl.append(bath_lbl)\n",
    "        print(bath_lbl)\n",
    "        \n",
    "        bath_val = full_description_val[12].text\n",
    "        add_bath_val.append(bath_val)\n",
    "        print(bath_val)\n",
    "        \n",
    "        park_lbl = full_description_label[13].text\n",
    "        add_park_labl.append(park_lbl)\n",
    "        print(park_lbl)\n",
    "        \n",
    "        park_val = full_description_val[13].text\n",
    "        add_park_val.append(park_val)    \n",
    "        print(park_val)\n",
    "        \n",
    "        # use a loop instead and match name by value instead of using indexes"
   ]
  },
  {
   "cell_type": "code",
   "execution_count": 76,
   "id": "c8d6b6b7-0a20-42ec-9a75-93c9c0ab5096",
   "metadata": {},
   "outputs": [
    {
     "data": {
      "text/plain": [
       "['Bali en Costa del Mar - Costa del Este',\n",
       " 'Ocean House en Santa María',\n",
       " 'Mystic Village en Don Bosco, Juan Díaz',\n",
       " 'Apartments in Santa María | Spectacular apartment for SALE in The Reserve']"
      ]
     },
     "execution_count": 76,
     "metadata": {},
     "output_type": "execute_result"
    }
   ],
   "source": [
    "add_title"
   ]
  },
  {
   "cell_type": "code",
   "execution_count": 92,
   "id": "5fcc8ec2-64f5-42c9-89cc-d304e20df970",
   "metadata": {},
   "outputs": [],
   "source": [
    "# TODO: Handle error when change formating of attributes (price, loc, area, etc,)"
   ]
  },
  {
   "cell_type": "code",
   "execution_count": null,
   "id": "c286ec32-b95a-4fe0-b7f8-1b9eeda74229",
   "metadata": {},
   "outputs": [],
   "source": [
    "# print(add_title, add_price, add_loc, add_price_area_labl, add_price_area_val, add_area_labl, add_area_val, add_bed_labl, add_bed_val, add_bath_labl, add_bath_val, add_park_labl,\n",
    "#       add_park_val)"
   ]
  },
  {
   "cell_type": "markdown",
   "id": "f92a86ca-f680-459c-bc25-94c497750f27",
   "metadata": {},
   "source": [
    "# Backup data"
   ]
  },
  {
   "cell_type": "code",
   "execution_count": 75,
   "id": "0d2287e3-fcc9-462a-9a50-8b7b1f7500fa",
   "metadata": {},
   "outputs": [
    {
     "ename": "ValueError",
     "evalue": "All arrays must be of the same length",
     "output_type": "error",
     "traceback": [
      "\u001b[1;31m---------------------------------------------------------------------------\u001b[0m",
      "\u001b[1;31mValueError\u001b[0m                                Traceback (most recent call last)",
      "\u001b[1;32m~\\AppData\\Local\\Temp\\ipykernel_22928\\83570182.py\u001b[0m in \u001b[0;36m<module>\u001b[1;34m\u001b[0m\n\u001b[0;32m     11\u001b[0m                    \u001b[1;34m\"add_bath_val\"\u001b[0m\u001b[1;33m:\u001b[0m \u001b[0madd_bath_val\u001b[0m\u001b[1;33m,\u001b[0m\u001b[1;33m\u001b[0m\u001b[1;33m\u001b[0m\u001b[0m\n\u001b[0;32m     12\u001b[0m                    \u001b[1;34m\"add_park_labl\"\u001b[0m\u001b[1;33m:\u001b[0m \u001b[0madd_park_labl\u001b[0m\u001b[1;33m,\u001b[0m\u001b[1;33m\u001b[0m\u001b[1;33m\u001b[0m\u001b[0m\n\u001b[1;32m---> 13\u001b[1;33m                    \u001b[1;34m\"add_park_val\"\u001b[0m\u001b[1;33m:\u001b[0m \u001b[0madd_park_val\u001b[0m\u001b[1;33m\u001b[0m\u001b[1;33m\u001b[0m\u001b[0m\n\u001b[0m\u001b[0;32m     14\u001b[0m \u001b[1;33m\u001b[0m\u001b[0m\n\u001b[0;32m     15\u001b[0m                   })\n",
      "\u001b[1;32mc:\\users\\a-gue\\onedrive\\documentos\\python_projects\\panama_apt_pricing\\lib\\site-packages\\pandas\\core\\frame.py\u001b[0m in \u001b[0;36m__init__\u001b[1;34m(self, data, index, columns, dtype, copy)\u001b[0m\n\u001b[0;32m    612\u001b[0m         \u001b[1;32melif\u001b[0m \u001b[0misinstance\u001b[0m\u001b[1;33m(\u001b[0m\u001b[0mdata\u001b[0m\u001b[1;33m,\u001b[0m \u001b[0mdict\u001b[0m\u001b[1;33m)\u001b[0m\u001b[1;33m:\u001b[0m\u001b[1;33m\u001b[0m\u001b[1;33m\u001b[0m\u001b[0m\n\u001b[0;32m    613\u001b[0m             \u001b[1;31m# GH#38939 de facto copy defaults to False only in non-dict cases\u001b[0m\u001b[1;33m\u001b[0m\u001b[1;33m\u001b[0m\u001b[1;33m\u001b[0m\u001b[0m\n\u001b[1;32m--> 614\u001b[1;33m             \u001b[0mmgr\u001b[0m \u001b[1;33m=\u001b[0m \u001b[0mdict_to_mgr\u001b[0m\u001b[1;33m(\u001b[0m\u001b[0mdata\u001b[0m\u001b[1;33m,\u001b[0m \u001b[0mindex\u001b[0m\u001b[1;33m,\u001b[0m \u001b[0mcolumns\u001b[0m\u001b[1;33m,\u001b[0m \u001b[0mdtype\u001b[0m\u001b[1;33m=\u001b[0m\u001b[0mdtype\u001b[0m\u001b[1;33m,\u001b[0m \u001b[0mcopy\u001b[0m\u001b[1;33m=\u001b[0m\u001b[0mcopy\u001b[0m\u001b[1;33m,\u001b[0m \u001b[0mtyp\u001b[0m\u001b[1;33m=\u001b[0m\u001b[0mmanager\u001b[0m\u001b[1;33m)\u001b[0m\u001b[1;33m\u001b[0m\u001b[1;33m\u001b[0m\u001b[0m\n\u001b[0m\u001b[0;32m    615\u001b[0m         \u001b[1;32melif\u001b[0m \u001b[0misinstance\u001b[0m\u001b[1;33m(\u001b[0m\u001b[0mdata\u001b[0m\u001b[1;33m,\u001b[0m \u001b[0mma\u001b[0m\u001b[1;33m.\u001b[0m\u001b[0mMaskedArray\u001b[0m\u001b[1;33m)\u001b[0m\u001b[1;33m:\u001b[0m\u001b[1;33m\u001b[0m\u001b[1;33m\u001b[0m\u001b[0m\n\u001b[0;32m    616\u001b[0m             \u001b[1;32mimport\u001b[0m \u001b[0mnumpy\u001b[0m\u001b[1;33m.\u001b[0m\u001b[0mma\u001b[0m\u001b[1;33m.\u001b[0m\u001b[0mmrecords\u001b[0m \u001b[1;32mas\u001b[0m \u001b[0mmrecords\u001b[0m\u001b[1;33m\u001b[0m\u001b[1;33m\u001b[0m\u001b[0m\n",
      "\u001b[1;32mc:\\users\\a-gue\\onedrive\\documentos\\python_projects\\panama_apt_pricing\\lib\\site-packages\\pandas\\core\\internals\\construction.py\u001b[0m in \u001b[0;36mdict_to_mgr\u001b[1;34m(data, index, columns, dtype, typ, copy)\u001b[0m\n\u001b[0;32m    463\u001b[0m \u001b[1;33m\u001b[0m\u001b[0m\n\u001b[0;32m    464\u001b[0m     return arrays_to_mgr(\n\u001b[1;32m--> 465\u001b[1;33m         \u001b[0marrays\u001b[0m\u001b[1;33m,\u001b[0m \u001b[0mdata_names\u001b[0m\u001b[1;33m,\u001b[0m \u001b[0mindex\u001b[0m\u001b[1;33m,\u001b[0m \u001b[0mcolumns\u001b[0m\u001b[1;33m,\u001b[0m \u001b[0mdtype\u001b[0m\u001b[1;33m=\u001b[0m\u001b[0mdtype\u001b[0m\u001b[1;33m,\u001b[0m \u001b[0mtyp\u001b[0m\u001b[1;33m=\u001b[0m\u001b[0mtyp\u001b[0m\u001b[1;33m,\u001b[0m \u001b[0mconsolidate\u001b[0m\u001b[1;33m=\u001b[0m\u001b[0mcopy\u001b[0m\u001b[1;33m\u001b[0m\u001b[1;33m\u001b[0m\u001b[0m\n\u001b[0m\u001b[0;32m    466\u001b[0m     )\n\u001b[0;32m    467\u001b[0m \u001b[1;33m\u001b[0m\u001b[0m\n",
      "\u001b[1;32mc:\\users\\a-gue\\onedrive\\documentos\\python_projects\\panama_apt_pricing\\lib\\site-packages\\pandas\\core\\internals\\construction.py\u001b[0m in \u001b[0;36marrays_to_mgr\u001b[1;34m(arrays, arr_names, index, columns, dtype, verify_integrity, typ, consolidate)\u001b[0m\n\u001b[0;32m    117\u001b[0m         \u001b[1;31m# figure out the index, if necessary\u001b[0m\u001b[1;33m\u001b[0m\u001b[1;33m\u001b[0m\u001b[1;33m\u001b[0m\u001b[0m\n\u001b[0;32m    118\u001b[0m         \u001b[1;32mif\u001b[0m \u001b[0mindex\u001b[0m \u001b[1;32mis\u001b[0m \u001b[1;32mNone\u001b[0m\u001b[1;33m:\u001b[0m\u001b[1;33m\u001b[0m\u001b[1;33m\u001b[0m\u001b[0m\n\u001b[1;32m--> 119\u001b[1;33m             \u001b[0mindex\u001b[0m \u001b[1;33m=\u001b[0m \u001b[0m_extract_index\u001b[0m\u001b[1;33m(\u001b[0m\u001b[0marrays\u001b[0m\u001b[1;33m)\u001b[0m\u001b[1;33m\u001b[0m\u001b[1;33m\u001b[0m\u001b[0m\n\u001b[0m\u001b[0;32m    120\u001b[0m         \u001b[1;32melse\u001b[0m\u001b[1;33m:\u001b[0m\u001b[1;33m\u001b[0m\u001b[1;33m\u001b[0m\u001b[0m\n\u001b[0;32m    121\u001b[0m             \u001b[0mindex\u001b[0m \u001b[1;33m=\u001b[0m \u001b[0mensure_index\u001b[0m\u001b[1;33m(\u001b[0m\u001b[0mindex\u001b[0m\u001b[1;33m)\u001b[0m\u001b[1;33m\u001b[0m\u001b[1;33m\u001b[0m\u001b[0m\n",
      "\u001b[1;32mc:\\users\\a-gue\\onedrive\\documentos\\python_projects\\panama_apt_pricing\\lib\\site-packages\\pandas\\core\\internals\\construction.py\u001b[0m in \u001b[0;36m_extract_index\u001b[1;34m(data)\u001b[0m\n\u001b[0;32m    633\u001b[0m             \u001b[0mlengths\u001b[0m \u001b[1;33m=\u001b[0m \u001b[0mlist\u001b[0m\u001b[1;33m(\u001b[0m\u001b[0mset\u001b[0m\u001b[1;33m(\u001b[0m\u001b[0mraw_lengths\u001b[0m\u001b[1;33m)\u001b[0m\u001b[1;33m)\u001b[0m\u001b[1;33m\u001b[0m\u001b[1;33m\u001b[0m\u001b[0m\n\u001b[0;32m    634\u001b[0m             \u001b[1;32mif\u001b[0m \u001b[0mlen\u001b[0m\u001b[1;33m(\u001b[0m\u001b[0mlengths\u001b[0m\u001b[1;33m)\u001b[0m \u001b[1;33m>\u001b[0m \u001b[1;36m1\u001b[0m\u001b[1;33m:\u001b[0m\u001b[1;33m\u001b[0m\u001b[1;33m\u001b[0m\u001b[0m\n\u001b[1;32m--> 635\u001b[1;33m                 \u001b[1;32mraise\u001b[0m \u001b[0mValueError\u001b[0m\u001b[1;33m(\u001b[0m\u001b[1;34m\"All arrays must be of the same length\"\u001b[0m\u001b[1;33m)\u001b[0m\u001b[1;33m\u001b[0m\u001b[1;33m\u001b[0m\u001b[0m\n\u001b[0m\u001b[0;32m    636\u001b[0m \u001b[1;33m\u001b[0m\u001b[0m\n\u001b[0;32m    637\u001b[0m             \u001b[1;32mif\u001b[0m \u001b[0mhave_dicts\u001b[0m\u001b[1;33m:\u001b[0m\u001b[1;33m\u001b[0m\u001b[1;33m\u001b[0m\u001b[0m\n",
      "\u001b[1;31mValueError\u001b[0m: All arrays must be of the same length"
     ]
    }
   ],
   "source": [
    "df_bckp = pd.DataFrame({\"add_title\":add_title, \n",
    "                   \"add_price\": add_price, \n",
    "                   \"add_loc\": add_loc, \n",
    "                   \"add_price_area_labl\": add_price_area_labl, \n",
    "                   \"add_price_area_val\": add_price_area_val, \n",
    "                   \"add_area_labl\": add_area_labl, \n",
    "                   \"add_area_val\": add_area_val,\n",
    "                   \"add_bed_labl\": add_bed_labl,\n",
    "                   \"add_bed_val\": add_bed_val,\n",
    "                   \"add_bath_labl\": add_bath_labl,\n",
    "                   \"add_bath_val\": add_bath_val,\n",
    "                   \"add_park_labl\": add_park_labl,\n",
    "                   \"add_park_val\": add_park_val\n",
    "                   \n",
    "                  })"
   ]
  },
  {
   "cell_type": "code",
   "execution_count": 85,
   "id": "2b6fd415-fb86-4d1a-af00-e3f2f40498e7",
   "metadata": {},
   "outputs": [
    {
     "data": {
      "text/html": [
       "<div>\n",
       "<style scoped>\n",
       "    .dataframe tbody tr th:only-of-type {\n",
       "        vertical-align: middle;\n",
       "    }\n",
       "\n",
       "    .dataframe tbody tr th {\n",
       "        vertical-align: top;\n",
       "    }\n",
       "\n",
       "    .dataframe thead th {\n",
       "        text-align: right;\n",
       "    }\n",
       "</style>\n",
       "<table border=\"1\" class=\"dataframe\">\n",
       "  <thead>\n",
       "    <tr style=\"text-align: right;\">\n",
       "      <th></th>\n",
       "      <th>add_title</th>\n",
       "      <th>add_price</th>\n",
       "      <th>add_loc</th>\n",
       "      <th>add_price_area_labl</th>\n",
       "      <th>add_price_area_val</th>\n",
       "      <th>add_area_labl</th>\n",
       "      <th>add_area_val</th>\n",
       "      <th>add_bed_labl</th>\n",
       "      <th>add_bed_val</th>\n",
       "      <th>add_bath_labl</th>\n",
       "      <th>add_bath_val</th>\n",
       "      <th>add_park_labl</th>\n",
       "      <th>add_park_val</th>\n",
       "    </tr>\n",
       "  </thead>\n",
       "  <tbody>\n",
       "    <tr>\n",
       "      <th>0</th>\n",
       "      <td>Bali en Costa del Mar - Costa del Este</td>\n",
       "      <td>B/.399,000.00</td>\n",
       "      <td>Costa del Este</td>\n",
       "      <td>Precio / m²</td>\n",
       "      <td>B/.2,363.46</td>\n",
       "      <td>M²</td>\n",
       "      <td>168.82</td>\n",
       "      <td>Bedrooms</td>\n",
       "      <td>3</td>\n",
       "      <td>Bathrooms</td>\n",
       "      <td>3</td>\n",
       "      <td>Parking</td>\n",
       "      <td>2</td>\n",
       "    </tr>\n",
       "    <tr>\n",
       "      <th>1</th>\n",
       "      <td>Ocean House en Santa María</td>\n",
       "      <td>B/.287,000.00</td>\n",
       "      <td>Santa María</td>\n",
       "      <td>Precio / m²</td>\n",
       "      <td>B/.3,304.92</td>\n",
       "      <td>M²</td>\n",
       "      <td>86.84</td>\n",
       "      <td>Bedrooms</td>\n",
       "      <td>2</td>\n",
       "      <td>Bathrooms</td>\n",
       "      <td>2</td>\n",
       "      <td>Parking</td>\n",
       "      <td>2</td>\n",
       "    </tr>\n",
       "  </tbody>\n",
       "</table>\n",
       "</div>"
      ],
      "text/plain": [
       "                                add_title      add_price         add_loc  \\\n",
       "0  Bali en Costa del Mar - Costa del Este  B/.399,000.00  Costa del Este   \n",
       "1              Ocean House en Santa María  B/.287,000.00     Santa María   \n",
       "\n",
       "  add_price_area_labl add_price_area_val add_area_labl add_area_val  \\\n",
       "0         Precio / m²        B/.2,363.46            M²       168.82   \n",
       "1         Precio / m²        B/.3,304.92            M²        86.84   \n",
       "\n",
       "  add_bed_labl add_bed_val add_bath_labl add_bath_val add_park_labl  \\\n",
       "0     Bedrooms           3     Bathrooms            3       Parking   \n",
       "1     Bedrooms           2     Bathrooms            2       Parking   \n",
       "\n",
       "  add_park_val  \n",
       "0            2  \n",
       "1            2  "
      ]
     },
     "execution_count": 85,
     "metadata": {},
     "output_type": "execute_result"
    }
   ],
   "source": [
    "df_bckp"
   ]
  },
  {
   "cell_type": "markdown",
   "id": "d9cc9865-fc97-4b82-aa2b-250d06588edf",
   "metadata": {},
   "source": [
    "# Add missing values"
   ]
  }
 ],
 "metadata": {
  "kernelspec": {
   "display_name": "Python 3 (ipykernel)",
   "language": "python",
   "name": "python3"
  },
  "language_info": {
   "codemirror_mode": {
    "name": "ipython",
    "version": 3
   },
   "file_extension": ".py",
   "mimetype": "text/x-python",
   "name": "python",
   "nbconvert_exporter": "python",
   "pygments_lexer": "ipython3",
   "version": "3.7.9"
  }
 },
 "nbformat": 4,
 "nbformat_minor": 5
}
