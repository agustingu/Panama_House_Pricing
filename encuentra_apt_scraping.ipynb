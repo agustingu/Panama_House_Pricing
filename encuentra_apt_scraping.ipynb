{
 "cells": [
  {
   "cell_type": "code",
   "execution_count": 1,
   "id": "b0e9a981-bef1-41c4-9f87-7c049f23028c",
   "metadata": {},
   "outputs": [],
   "source": [
    "import pandas as pd\n",
    "import time\n",
    "# import selenium\n",
    "from selenium import webdriver\n",
    "from webdriver_manager.chrome import ChromeDriverManager \n",
    "from selenium.webdriver.common.by import By\n",
    "\n",
    "from selenium.common.exceptions import NoSuchElementException\n",
    "from selenium.common.exceptions import StaleElementReferenceException\n",
    "from selenium.webdriver.support.ui import WebDriverWait\n",
    "from selenium.webdriver.support import expected_conditions"
   ]
  },
  {
   "cell_type": "code",
   "execution_count": 47,
   "id": "5632256a-68ed-40b3-8a0d-fde08a0c900e",
   "metadata": {},
   "outputs": [
    {
     "name": "stderr",
     "output_type": "stream",
     "text": [
      "c:\\users\\a-gue\\onedrive\\documentos\\python_projects\\panama_apt_pricing\\lib\\site-packages\\ipykernel_launcher.py:3: DeprecationWarning: executable_path has been deprecated, please pass in a Service object\n",
      "  This is separate from the ipykernel package so we can avoid doing imports until\n",
      "c:\\users\\a-gue\\onedrive\\documentos\\python_projects\\panama_apt_pricing\\lib\\site-packages\\ipykernel_launcher.py:3: DeprecationWarning: use options instead of chrome_options\n",
      "  This is separate from the ipykernel package so we can avoid doing imports until\n"
     ]
    }
   ],
   "source": [
    "options = webdriver.ChromeOptions()\n",
    "options.binary_location = \"C:\\Program Files\\Google\\Chrome Beta\\Application\\chrome.exe\"\n",
    "driver = webdriver.Chrome(executable_path=r'C:\\Users\\a-gue\\.wdm\\drivers\\chromedriver\\win32\\104.0.5112.20\\chromedriver.exe', chrome_options=options)"
   ]
  },
  {
   "cell_type": "code",
   "execution_count": 48,
   "id": "191f1cce-1dd6-4f77-b6f6-bd984d4a4a62",
   "metadata": {},
   "outputs": [],
   "source": [
    "# page_url = \"https://www.encuentra24.com/panama-en/real-estate-for-sale-apartments-condos?q=number.50\"\n",
    "page_url = \"https://www.encuentra24.com/panama-en/real-estate-for-sale-apartments-condos/prov-panama?q=withcat.real-estate-for-sale-apartments-condos|number.50\""
   ]
  },
  {
   "cell_type": "code",
   "execution_count": 49,
   "id": "1297894e-8a10-4b71-997d-e4e20b003508",
   "metadata": {},
   "outputs": [],
   "source": [
    "driver.get(page_url)"
   ]
  },
  {
   "cell_type": "markdown",
   "id": "b80a5d1e-5915-4ffa-8353-ca9d2f5e6d6a",
   "metadata": {},
   "source": [
    "##################################################"
   ]
  },
  {
   "cell_type": "code",
   "execution_count": 5,
   "id": "4d118538-6336-42a3-88b6-799ee2ba4a37",
   "metadata": {},
   "outputs": [],
   "source": [
    "# In case of coockies button\n",
    "# from selenium.webdriver.common.by import By\n",
    "# driver.find_element(By.XPATH, '//div[text()=\"ACCEPT\"]').click()"
   ]
  },
  {
   "cell_type": "markdown",
   "id": "cc35ae91-5c2b-4db9-80be-837fc9afa943",
   "metadata": {},
   "source": [
    "# Get url for all the 262 pages\n"
   ]
  },
  {
   "cell_type": "code",
   "execution_count": 6,
   "id": "38ade585-eb8c-46e5-8176-172cfd2d4711",
   "metadata": {},
   "outputs": [],
   "source": [
    "pages_num = 261\n",
    "url_list = []\n",
    "for i in range(pages_num):\n",
    "\n",
    "    # _url_decomposed = \"https://www.encuentra24.com/panama-en/real-estate-for-sale-apartments-condos.\" + str(i+1) + \"?q=number.50\"\n",
    "    _url_decomposed = \"https://www.encuentra24.com/panama-en/real-estate-for-sale-apartments-condos/prov-panama.\" + str(i+1) + \"?q=withcat.real-estate-for-sale-apartments-condos|number.50\"\n",
    "    url_list.append(_url_decomposed)\n"
   ]
  },
  {
   "cell_type": "code",
   "execution_count": 7,
   "id": "02fa5717-4369-44c1-b938-4157d9824716",
   "metadata": {
    "collapsed": true,
    "jupyter": {
     "outputs_hidden": true
    },
    "tags": []
   },
   "outputs": [
    {
     "data": {
      "text/plain": [
       "['https://www.encuentra24.com/panama-en/real-estate-for-sale-apartments-condos/prov-panama.1?q=withcat.real-estate-for-sale-apartments-condos|number.50',\n",
       " 'https://www.encuentra24.com/panama-en/real-estate-for-sale-apartments-condos/prov-panama.2?q=withcat.real-estate-for-sale-apartments-condos|number.50',\n",
       " 'https://www.encuentra24.com/panama-en/real-estate-for-sale-apartments-condos/prov-panama.3?q=withcat.real-estate-for-sale-apartments-condos|number.50',\n",
       " 'https://www.encuentra24.com/panama-en/real-estate-for-sale-apartments-condos/prov-panama.4?q=withcat.real-estate-for-sale-apartments-condos|number.50',\n",
       " 'https://www.encuentra24.com/panama-en/real-estate-for-sale-apartments-condos/prov-panama.5?q=withcat.real-estate-for-sale-apartments-condos|number.50',\n",
       " 'https://www.encuentra24.com/panama-en/real-estate-for-sale-apartments-condos/prov-panama.6?q=withcat.real-estate-for-sale-apartments-condos|number.50',\n",
       " 'https://www.encuentra24.com/panama-en/real-estate-for-sale-apartments-condos/prov-panama.7?q=withcat.real-estate-for-sale-apartments-condos|number.50',\n",
       " 'https://www.encuentra24.com/panama-en/real-estate-for-sale-apartments-condos/prov-panama.8?q=withcat.real-estate-for-sale-apartments-condos|number.50',\n",
       " 'https://www.encuentra24.com/panama-en/real-estate-for-sale-apartments-condos/prov-panama.9?q=withcat.real-estate-for-sale-apartments-condos|number.50',\n",
       " 'https://www.encuentra24.com/panama-en/real-estate-for-sale-apartments-condos/prov-panama.10?q=withcat.real-estate-for-sale-apartments-condos|number.50',\n",
       " 'https://www.encuentra24.com/panama-en/real-estate-for-sale-apartments-condos/prov-panama.11?q=withcat.real-estate-for-sale-apartments-condos|number.50',\n",
       " 'https://www.encuentra24.com/panama-en/real-estate-for-sale-apartments-condos/prov-panama.12?q=withcat.real-estate-for-sale-apartments-condos|number.50',\n",
       " 'https://www.encuentra24.com/panama-en/real-estate-for-sale-apartments-condos/prov-panama.13?q=withcat.real-estate-for-sale-apartments-condos|number.50',\n",
       " 'https://www.encuentra24.com/panama-en/real-estate-for-sale-apartments-condos/prov-panama.14?q=withcat.real-estate-for-sale-apartments-condos|number.50',\n",
       " 'https://www.encuentra24.com/panama-en/real-estate-for-sale-apartments-condos/prov-panama.15?q=withcat.real-estate-for-sale-apartments-condos|number.50',\n",
       " 'https://www.encuentra24.com/panama-en/real-estate-for-sale-apartments-condos/prov-panama.16?q=withcat.real-estate-for-sale-apartments-condos|number.50',\n",
       " 'https://www.encuentra24.com/panama-en/real-estate-for-sale-apartments-condos/prov-panama.17?q=withcat.real-estate-for-sale-apartments-condos|number.50',\n",
       " 'https://www.encuentra24.com/panama-en/real-estate-for-sale-apartments-condos/prov-panama.18?q=withcat.real-estate-for-sale-apartments-condos|number.50',\n",
       " 'https://www.encuentra24.com/panama-en/real-estate-for-sale-apartments-condos/prov-panama.19?q=withcat.real-estate-for-sale-apartments-condos|number.50',\n",
       " 'https://www.encuentra24.com/panama-en/real-estate-for-sale-apartments-condos/prov-panama.20?q=withcat.real-estate-for-sale-apartments-condos|number.50',\n",
       " 'https://www.encuentra24.com/panama-en/real-estate-for-sale-apartments-condos/prov-panama.21?q=withcat.real-estate-for-sale-apartments-condos|number.50',\n",
       " 'https://www.encuentra24.com/panama-en/real-estate-for-sale-apartments-condos/prov-panama.22?q=withcat.real-estate-for-sale-apartments-condos|number.50',\n",
       " 'https://www.encuentra24.com/panama-en/real-estate-for-sale-apartments-condos/prov-panama.23?q=withcat.real-estate-for-sale-apartments-condos|number.50',\n",
       " 'https://www.encuentra24.com/panama-en/real-estate-for-sale-apartments-condos/prov-panama.24?q=withcat.real-estate-for-sale-apartments-condos|number.50',\n",
       " 'https://www.encuentra24.com/panama-en/real-estate-for-sale-apartments-condos/prov-panama.25?q=withcat.real-estate-for-sale-apartments-condos|number.50',\n",
       " 'https://www.encuentra24.com/panama-en/real-estate-for-sale-apartments-condos/prov-panama.26?q=withcat.real-estate-for-sale-apartments-condos|number.50',\n",
       " 'https://www.encuentra24.com/panama-en/real-estate-for-sale-apartments-condos/prov-panama.27?q=withcat.real-estate-for-sale-apartments-condos|number.50',\n",
       " 'https://www.encuentra24.com/panama-en/real-estate-for-sale-apartments-condos/prov-panama.28?q=withcat.real-estate-for-sale-apartments-condos|number.50',\n",
       " 'https://www.encuentra24.com/panama-en/real-estate-for-sale-apartments-condos/prov-panama.29?q=withcat.real-estate-for-sale-apartments-condos|number.50',\n",
       " 'https://www.encuentra24.com/panama-en/real-estate-for-sale-apartments-condos/prov-panama.30?q=withcat.real-estate-for-sale-apartments-condos|number.50',\n",
       " 'https://www.encuentra24.com/panama-en/real-estate-for-sale-apartments-condos/prov-panama.31?q=withcat.real-estate-for-sale-apartments-condos|number.50',\n",
       " 'https://www.encuentra24.com/panama-en/real-estate-for-sale-apartments-condos/prov-panama.32?q=withcat.real-estate-for-sale-apartments-condos|number.50',\n",
       " 'https://www.encuentra24.com/panama-en/real-estate-for-sale-apartments-condos/prov-panama.33?q=withcat.real-estate-for-sale-apartments-condos|number.50',\n",
       " 'https://www.encuentra24.com/panama-en/real-estate-for-sale-apartments-condos/prov-panama.34?q=withcat.real-estate-for-sale-apartments-condos|number.50',\n",
       " 'https://www.encuentra24.com/panama-en/real-estate-for-sale-apartments-condos/prov-panama.35?q=withcat.real-estate-for-sale-apartments-condos|number.50',\n",
       " 'https://www.encuentra24.com/panama-en/real-estate-for-sale-apartments-condos/prov-panama.36?q=withcat.real-estate-for-sale-apartments-condos|number.50',\n",
       " 'https://www.encuentra24.com/panama-en/real-estate-for-sale-apartments-condos/prov-panama.37?q=withcat.real-estate-for-sale-apartments-condos|number.50',\n",
       " 'https://www.encuentra24.com/panama-en/real-estate-for-sale-apartments-condos/prov-panama.38?q=withcat.real-estate-for-sale-apartments-condos|number.50',\n",
       " 'https://www.encuentra24.com/panama-en/real-estate-for-sale-apartments-condos/prov-panama.39?q=withcat.real-estate-for-sale-apartments-condos|number.50',\n",
       " 'https://www.encuentra24.com/panama-en/real-estate-for-sale-apartments-condos/prov-panama.40?q=withcat.real-estate-for-sale-apartments-condos|number.50',\n",
       " 'https://www.encuentra24.com/panama-en/real-estate-for-sale-apartments-condos/prov-panama.41?q=withcat.real-estate-for-sale-apartments-condos|number.50',\n",
       " 'https://www.encuentra24.com/panama-en/real-estate-for-sale-apartments-condos/prov-panama.42?q=withcat.real-estate-for-sale-apartments-condos|number.50',\n",
       " 'https://www.encuentra24.com/panama-en/real-estate-for-sale-apartments-condos/prov-panama.43?q=withcat.real-estate-for-sale-apartments-condos|number.50',\n",
       " 'https://www.encuentra24.com/panama-en/real-estate-for-sale-apartments-condos/prov-panama.44?q=withcat.real-estate-for-sale-apartments-condos|number.50',\n",
       " 'https://www.encuentra24.com/panama-en/real-estate-for-sale-apartments-condos/prov-panama.45?q=withcat.real-estate-for-sale-apartments-condos|number.50',\n",
       " 'https://www.encuentra24.com/panama-en/real-estate-for-sale-apartments-condos/prov-panama.46?q=withcat.real-estate-for-sale-apartments-condos|number.50',\n",
       " 'https://www.encuentra24.com/panama-en/real-estate-for-sale-apartments-condos/prov-panama.47?q=withcat.real-estate-for-sale-apartments-condos|number.50',\n",
       " 'https://www.encuentra24.com/panama-en/real-estate-for-sale-apartments-condos/prov-panama.48?q=withcat.real-estate-for-sale-apartments-condos|number.50',\n",
       " 'https://www.encuentra24.com/panama-en/real-estate-for-sale-apartments-condos/prov-panama.49?q=withcat.real-estate-for-sale-apartments-condos|number.50',\n",
       " 'https://www.encuentra24.com/panama-en/real-estate-for-sale-apartments-condos/prov-panama.50?q=withcat.real-estate-for-sale-apartments-condos|number.50',\n",
       " 'https://www.encuentra24.com/panama-en/real-estate-for-sale-apartments-condos/prov-panama.51?q=withcat.real-estate-for-sale-apartments-condos|number.50',\n",
       " 'https://www.encuentra24.com/panama-en/real-estate-for-sale-apartments-condos/prov-panama.52?q=withcat.real-estate-for-sale-apartments-condos|number.50',\n",
       " 'https://www.encuentra24.com/panama-en/real-estate-for-sale-apartments-condos/prov-panama.53?q=withcat.real-estate-for-sale-apartments-condos|number.50',\n",
       " 'https://www.encuentra24.com/panama-en/real-estate-for-sale-apartments-condos/prov-panama.54?q=withcat.real-estate-for-sale-apartments-condos|number.50',\n",
       " 'https://www.encuentra24.com/panama-en/real-estate-for-sale-apartments-condos/prov-panama.55?q=withcat.real-estate-for-sale-apartments-condos|number.50',\n",
       " 'https://www.encuentra24.com/panama-en/real-estate-for-sale-apartments-condos/prov-panama.56?q=withcat.real-estate-for-sale-apartments-condos|number.50',\n",
       " 'https://www.encuentra24.com/panama-en/real-estate-for-sale-apartments-condos/prov-panama.57?q=withcat.real-estate-for-sale-apartments-condos|number.50',\n",
       " 'https://www.encuentra24.com/panama-en/real-estate-for-sale-apartments-condos/prov-panama.58?q=withcat.real-estate-for-sale-apartments-condos|number.50',\n",
       " 'https://www.encuentra24.com/panama-en/real-estate-for-sale-apartments-condos/prov-panama.59?q=withcat.real-estate-for-sale-apartments-condos|number.50',\n",
       " 'https://www.encuentra24.com/panama-en/real-estate-for-sale-apartments-condos/prov-panama.60?q=withcat.real-estate-for-sale-apartments-condos|number.50',\n",
       " 'https://www.encuentra24.com/panama-en/real-estate-for-sale-apartments-condos/prov-panama.61?q=withcat.real-estate-for-sale-apartments-condos|number.50',\n",
       " 'https://www.encuentra24.com/panama-en/real-estate-for-sale-apartments-condos/prov-panama.62?q=withcat.real-estate-for-sale-apartments-condos|number.50',\n",
       " 'https://www.encuentra24.com/panama-en/real-estate-for-sale-apartments-condos/prov-panama.63?q=withcat.real-estate-for-sale-apartments-condos|number.50',\n",
       " 'https://www.encuentra24.com/panama-en/real-estate-for-sale-apartments-condos/prov-panama.64?q=withcat.real-estate-for-sale-apartments-condos|number.50',\n",
       " 'https://www.encuentra24.com/panama-en/real-estate-for-sale-apartments-condos/prov-panama.65?q=withcat.real-estate-for-sale-apartments-condos|number.50',\n",
       " 'https://www.encuentra24.com/panama-en/real-estate-for-sale-apartments-condos/prov-panama.66?q=withcat.real-estate-for-sale-apartments-condos|number.50',\n",
       " 'https://www.encuentra24.com/panama-en/real-estate-for-sale-apartments-condos/prov-panama.67?q=withcat.real-estate-for-sale-apartments-condos|number.50',\n",
       " 'https://www.encuentra24.com/panama-en/real-estate-for-sale-apartments-condos/prov-panama.68?q=withcat.real-estate-for-sale-apartments-condos|number.50',\n",
       " 'https://www.encuentra24.com/panama-en/real-estate-for-sale-apartments-condos/prov-panama.69?q=withcat.real-estate-for-sale-apartments-condos|number.50',\n",
       " 'https://www.encuentra24.com/panama-en/real-estate-for-sale-apartments-condos/prov-panama.70?q=withcat.real-estate-for-sale-apartments-condos|number.50',\n",
       " 'https://www.encuentra24.com/panama-en/real-estate-for-sale-apartments-condos/prov-panama.71?q=withcat.real-estate-for-sale-apartments-condos|number.50',\n",
       " 'https://www.encuentra24.com/panama-en/real-estate-for-sale-apartments-condos/prov-panama.72?q=withcat.real-estate-for-sale-apartments-condos|number.50',\n",
       " 'https://www.encuentra24.com/panama-en/real-estate-for-sale-apartments-condos/prov-panama.73?q=withcat.real-estate-for-sale-apartments-condos|number.50',\n",
       " 'https://www.encuentra24.com/panama-en/real-estate-for-sale-apartments-condos/prov-panama.74?q=withcat.real-estate-for-sale-apartments-condos|number.50',\n",
       " 'https://www.encuentra24.com/panama-en/real-estate-for-sale-apartments-condos/prov-panama.75?q=withcat.real-estate-for-sale-apartments-condos|number.50',\n",
       " 'https://www.encuentra24.com/panama-en/real-estate-for-sale-apartments-condos/prov-panama.76?q=withcat.real-estate-for-sale-apartments-condos|number.50',\n",
       " 'https://www.encuentra24.com/panama-en/real-estate-for-sale-apartments-condos/prov-panama.77?q=withcat.real-estate-for-sale-apartments-condos|number.50',\n",
       " 'https://www.encuentra24.com/panama-en/real-estate-for-sale-apartments-condos/prov-panama.78?q=withcat.real-estate-for-sale-apartments-condos|number.50',\n",
       " 'https://www.encuentra24.com/panama-en/real-estate-for-sale-apartments-condos/prov-panama.79?q=withcat.real-estate-for-sale-apartments-condos|number.50',\n",
       " 'https://www.encuentra24.com/panama-en/real-estate-for-sale-apartments-condos/prov-panama.80?q=withcat.real-estate-for-sale-apartments-condos|number.50',\n",
       " 'https://www.encuentra24.com/panama-en/real-estate-for-sale-apartments-condos/prov-panama.81?q=withcat.real-estate-for-sale-apartments-condos|number.50',\n",
       " 'https://www.encuentra24.com/panama-en/real-estate-for-sale-apartments-condos/prov-panama.82?q=withcat.real-estate-for-sale-apartments-condos|number.50',\n",
       " 'https://www.encuentra24.com/panama-en/real-estate-for-sale-apartments-condos/prov-panama.83?q=withcat.real-estate-for-sale-apartments-condos|number.50',\n",
       " 'https://www.encuentra24.com/panama-en/real-estate-for-sale-apartments-condos/prov-panama.84?q=withcat.real-estate-for-sale-apartments-condos|number.50',\n",
       " 'https://www.encuentra24.com/panama-en/real-estate-for-sale-apartments-condos/prov-panama.85?q=withcat.real-estate-for-sale-apartments-condos|number.50',\n",
       " 'https://www.encuentra24.com/panama-en/real-estate-for-sale-apartments-condos/prov-panama.86?q=withcat.real-estate-for-sale-apartments-condos|number.50',\n",
       " 'https://www.encuentra24.com/panama-en/real-estate-for-sale-apartments-condos/prov-panama.87?q=withcat.real-estate-for-sale-apartments-condos|number.50',\n",
       " 'https://www.encuentra24.com/panama-en/real-estate-for-sale-apartments-condos/prov-panama.88?q=withcat.real-estate-for-sale-apartments-condos|number.50',\n",
       " 'https://www.encuentra24.com/panama-en/real-estate-for-sale-apartments-condos/prov-panama.89?q=withcat.real-estate-for-sale-apartments-condos|number.50',\n",
       " 'https://www.encuentra24.com/panama-en/real-estate-for-sale-apartments-condos/prov-panama.90?q=withcat.real-estate-for-sale-apartments-condos|number.50',\n",
       " 'https://www.encuentra24.com/panama-en/real-estate-for-sale-apartments-condos/prov-panama.91?q=withcat.real-estate-for-sale-apartments-condos|number.50',\n",
       " 'https://www.encuentra24.com/panama-en/real-estate-for-sale-apartments-condos/prov-panama.92?q=withcat.real-estate-for-sale-apartments-condos|number.50',\n",
       " 'https://www.encuentra24.com/panama-en/real-estate-for-sale-apartments-condos/prov-panama.93?q=withcat.real-estate-for-sale-apartments-condos|number.50',\n",
       " 'https://www.encuentra24.com/panama-en/real-estate-for-sale-apartments-condos/prov-panama.94?q=withcat.real-estate-for-sale-apartments-condos|number.50',\n",
       " 'https://www.encuentra24.com/panama-en/real-estate-for-sale-apartments-condos/prov-panama.95?q=withcat.real-estate-for-sale-apartments-condos|number.50',\n",
       " 'https://www.encuentra24.com/panama-en/real-estate-for-sale-apartments-condos/prov-panama.96?q=withcat.real-estate-for-sale-apartments-condos|number.50',\n",
       " 'https://www.encuentra24.com/panama-en/real-estate-for-sale-apartments-condos/prov-panama.97?q=withcat.real-estate-for-sale-apartments-condos|number.50',\n",
       " 'https://www.encuentra24.com/panama-en/real-estate-for-sale-apartments-condos/prov-panama.98?q=withcat.real-estate-for-sale-apartments-condos|number.50',\n",
       " 'https://www.encuentra24.com/panama-en/real-estate-for-sale-apartments-condos/prov-panama.99?q=withcat.real-estate-for-sale-apartments-condos|number.50',\n",
       " 'https://www.encuentra24.com/panama-en/real-estate-for-sale-apartments-condos/prov-panama.100?q=withcat.real-estate-for-sale-apartments-condos|number.50',\n",
       " 'https://www.encuentra24.com/panama-en/real-estate-for-sale-apartments-condos/prov-panama.101?q=withcat.real-estate-for-sale-apartments-condos|number.50',\n",
       " 'https://www.encuentra24.com/panama-en/real-estate-for-sale-apartments-condos/prov-panama.102?q=withcat.real-estate-for-sale-apartments-condos|number.50',\n",
       " 'https://www.encuentra24.com/panama-en/real-estate-for-sale-apartments-condos/prov-panama.103?q=withcat.real-estate-for-sale-apartments-condos|number.50',\n",
       " 'https://www.encuentra24.com/panama-en/real-estate-for-sale-apartments-condos/prov-panama.104?q=withcat.real-estate-for-sale-apartments-condos|number.50',\n",
       " 'https://www.encuentra24.com/panama-en/real-estate-for-sale-apartments-condos/prov-panama.105?q=withcat.real-estate-for-sale-apartments-condos|number.50',\n",
       " 'https://www.encuentra24.com/panama-en/real-estate-for-sale-apartments-condos/prov-panama.106?q=withcat.real-estate-for-sale-apartments-condos|number.50',\n",
       " 'https://www.encuentra24.com/panama-en/real-estate-for-sale-apartments-condos/prov-panama.107?q=withcat.real-estate-for-sale-apartments-condos|number.50',\n",
       " 'https://www.encuentra24.com/panama-en/real-estate-for-sale-apartments-condos/prov-panama.108?q=withcat.real-estate-for-sale-apartments-condos|number.50',\n",
       " 'https://www.encuentra24.com/panama-en/real-estate-for-sale-apartments-condos/prov-panama.109?q=withcat.real-estate-for-sale-apartments-condos|number.50',\n",
       " 'https://www.encuentra24.com/panama-en/real-estate-for-sale-apartments-condos/prov-panama.110?q=withcat.real-estate-for-sale-apartments-condos|number.50',\n",
       " 'https://www.encuentra24.com/panama-en/real-estate-for-sale-apartments-condos/prov-panama.111?q=withcat.real-estate-for-sale-apartments-condos|number.50',\n",
       " 'https://www.encuentra24.com/panama-en/real-estate-for-sale-apartments-condos/prov-panama.112?q=withcat.real-estate-for-sale-apartments-condos|number.50',\n",
       " 'https://www.encuentra24.com/panama-en/real-estate-for-sale-apartments-condos/prov-panama.113?q=withcat.real-estate-for-sale-apartments-condos|number.50',\n",
       " 'https://www.encuentra24.com/panama-en/real-estate-for-sale-apartments-condos/prov-panama.114?q=withcat.real-estate-for-sale-apartments-condos|number.50',\n",
       " 'https://www.encuentra24.com/panama-en/real-estate-for-sale-apartments-condos/prov-panama.115?q=withcat.real-estate-for-sale-apartments-condos|number.50',\n",
       " 'https://www.encuentra24.com/panama-en/real-estate-for-sale-apartments-condos/prov-panama.116?q=withcat.real-estate-for-sale-apartments-condos|number.50',\n",
       " 'https://www.encuentra24.com/panama-en/real-estate-for-sale-apartments-condos/prov-panama.117?q=withcat.real-estate-for-sale-apartments-condos|number.50',\n",
       " 'https://www.encuentra24.com/panama-en/real-estate-for-sale-apartments-condos/prov-panama.118?q=withcat.real-estate-for-sale-apartments-condos|number.50',\n",
       " 'https://www.encuentra24.com/panama-en/real-estate-for-sale-apartments-condos/prov-panama.119?q=withcat.real-estate-for-sale-apartments-condos|number.50',\n",
       " 'https://www.encuentra24.com/panama-en/real-estate-for-sale-apartments-condos/prov-panama.120?q=withcat.real-estate-for-sale-apartments-condos|number.50',\n",
       " 'https://www.encuentra24.com/panama-en/real-estate-for-sale-apartments-condos/prov-panama.121?q=withcat.real-estate-for-sale-apartments-condos|number.50',\n",
       " 'https://www.encuentra24.com/panama-en/real-estate-for-sale-apartments-condos/prov-panama.122?q=withcat.real-estate-for-sale-apartments-condos|number.50',\n",
       " 'https://www.encuentra24.com/panama-en/real-estate-for-sale-apartments-condos/prov-panama.123?q=withcat.real-estate-for-sale-apartments-condos|number.50',\n",
       " 'https://www.encuentra24.com/panama-en/real-estate-for-sale-apartments-condos/prov-panama.124?q=withcat.real-estate-for-sale-apartments-condos|number.50',\n",
       " 'https://www.encuentra24.com/panama-en/real-estate-for-sale-apartments-condos/prov-panama.125?q=withcat.real-estate-for-sale-apartments-condos|number.50',\n",
       " 'https://www.encuentra24.com/panama-en/real-estate-for-sale-apartments-condos/prov-panama.126?q=withcat.real-estate-for-sale-apartments-condos|number.50',\n",
       " 'https://www.encuentra24.com/panama-en/real-estate-for-sale-apartments-condos/prov-panama.127?q=withcat.real-estate-for-sale-apartments-condos|number.50',\n",
       " 'https://www.encuentra24.com/panama-en/real-estate-for-sale-apartments-condos/prov-panama.128?q=withcat.real-estate-for-sale-apartments-condos|number.50',\n",
       " 'https://www.encuentra24.com/panama-en/real-estate-for-sale-apartments-condos/prov-panama.129?q=withcat.real-estate-for-sale-apartments-condos|number.50',\n",
       " 'https://www.encuentra24.com/panama-en/real-estate-for-sale-apartments-condos/prov-panama.130?q=withcat.real-estate-for-sale-apartments-condos|number.50',\n",
       " 'https://www.encuentra24.com/panama-en/real-estate-for-sale-apartments-condos/prov-panama.131?q=withcat.real-estate-for-sale-apartments-condos|number.50',\n",
       " 'https://www.encuentra24.com/panama-en/real-estate-for-sale-apartments-condos/prov-panama.132?q=withcat.real-estate-for-sale-apartments-condos|number.50',\n",
       " 'https://www.encuentra24.com/panama-en/real-estate-for-sale-apartments-condos/prov-panama.133?q=withcat.real-estate-for-sale-apartments-condos|number.50',\n",
       " 'https://www.encuentra24.com/panama-en/real-estate-for-sale-apartments-condos/prov-panama.134?q=withcat.real-estate-for-sale-apartments-condos|number.50',\n",
       " 'https://www.encuentra24.com/panama-en/real-estate-for-sale-apartments-condos/prov-panama.135?q=withcat.real-estate-for-sale-apartments-condos|number.50',\n",
       " 'https://www.encuentra24.com/panama-en/real-estate-for-sale-apartments-condos/prov-panama.136?q=withcat.real-estate-for-sale-apartments-condos|number.50',\n",
       " 'https://www.encuentra24.com/panama-en/real-estate-for-sale-apartments-condos/prov-panama.137?q=withcat.real-estate-for-sale-apartments-condos|number.50',\n",
       " 'https://www.encuentra24.com/panama-en/real-estate-for-sale-apartments-condos/prov-panama.138?q=withcat.real-estate-for-sale-apartments-condos|number.50',\n",
       " 'https://www.encuentra24.com/panama-en/real-estate-for-sale-apartments-condos/prov-panama.139?q=withcat.real-estate-for-sale-apartments-condos|number.50',\n",
       " 'https://www.encuentra24.com/panama-en/real-estate-for-sale-apartments-condos/prov-panama.140?q=withcat.real-estate-for-sale-apartments-condos|number.50',\n",
       " 'https://www.encuentra24.com/panama-en/real-estate-for-sale-apartments-condos/prov-panama.141?q=withcat.real-estate-for-sale-apartments-condos|number.50',\n",
       " 'https://www.encuentra24.com/panama-en/real-estate-for-sale-apartments-condos/prov-panama.142?q=withcat.real-estate-for-sale-apartments-condos|number.50',\n",
       " 'https://www.encuentra24.com/panama-en/real-estate-for-sale-apartments-condos/prov-panama.143?q=withcat.real-estate-for-sale-apartments-condos|number.50',\n",
       " 'https://www.encuentra24.com/panama-en/real-estate-for-sale-apartments-condos/prov-panama.144?q=withcat.real-estate-for-sale-apartments-condos|number.50',\n",
       " 'https://www.encuentra24.com/panama-en/real-estate-for-sale-apartments-condos/prov-panama.145?q=withcat.real-estate-for-sale-apartments-condos|number.50',\n",
       " 'https://www.encuentra24.com/panama-en/real-estate-for-sale-apartments-condos/prov-panama.146?q=withcat.real-estate-for-sale-apartments-condos|number.50',\n",
       " 'https://www.encuentra24.com/panama-en/real-estate-for-sale-apartments-condos/prov-panama.147?q=withcat.real-estate-for-sale-apartments-condos|number.50',\n",
       " 'https://www.encuentra24.com/panama-en/real-estate-for-sale-apartments-condos/prov-panama.148?q=withcat.real-estate-for-sale-apartments-condos|number.50',\n",
       " 'https://www.encuentra24.com/panama-en/real-estate-for-sale-apartments-condos/prov-panama.149?q=withcat.real-estate-for-sale-apartments-condos|number.50',\n",
       " 'https://www.encuentra24.com/panama-en/real-estate-for-sale-apartments-condos/prov-panama.150?q=withcat.real-estate-for-sale-apartments-condos|number.50',\n",
       " 'https://www.encuentra24.com/panama-en/real-estate-for-sale-apartments-condos/prov-panama.151?q=withcat.real-estate-for-sale-apartments-condos|number.50',\n",
       " 'https://www.encuentra24.com/panama-en/real-estate-for-sale-apartments-condos/prov-panama.152?q=withcat.real-estate-for-sale-apartments-condos|number.50',\n",
       " 'https://www.encuentra24.com/panama-en/real-estate-for-sale-apartments-condos/prov-panama.153?q=withcat.real-estate-for-sale-apartments-condos|number.50',\n",
       " 'https://www.encuentra24.com/panama-en/real-estate-for-sale-apartments-condos/prov-panama.154?q=withcat.real-estate-for-sale-apartments-condos|number.50',\n",
       " 'https://www.encuentra24.com/panama-en/real-estate-for-sale-apartments-condos/prov-panama.155?q=withcat.real-estate-for-sale-apartments-condos|number.50',\n",
       " 'https://www.encuentra24.com/panama-en/real-estate-for-sale-apartments-condos/prov-panama.156?q=withcat.real-estate-for-sale-apartments-condos|number.50',\n",
       " 'https://www.encuentra24.com/panama-en/real-estate-for-sale-apartments-condos/prov-panama.157?q=withcat.real-estate-for-sale-apartments-condos|number.50',\n",
       " 'https://www.encuentra24.com/panama-en/real-estate-for-sale-apartments-condos/prov-panama.158?q=withcat.real-estate-for-sale-apartments-condos|number.50',\n",
       " 'https://www.encuentra24.com/panama-en/real-estate-for-sale-apartments-condos/prov-panama.159?q=withcat.real-estate-for-sale-apartments-condos|number.50',\n",
       " 'https://www.encuentra24.com/panama-en/real-estate-for-sale-apartments-condos/prov-panama.160?q=withcat.real-estate-for-sale-apartments-condos|number.50',\n",
       " 'https://www.encuentra24.com/panama-en/real-estate-for-sale-apartments-condos/prov-panama.161?q=withcat.real-estate-for-sale-apartments-condos|number.50',\n",
       " 'https://www.encuentra24.com/panama-en/real-estate-for-sale-apartments-condos/prov-panama.162?q=withcat.real-estate-for-sale-apartments-condos|number.50',\n",
       " 'https://www.encuentra24.com/panama-en/real-estate-for-sale-apartments-condos/prov-panama.163?q=withcat.real-estate-for-sale-apartments-condos|number.50',\n",
       " 'https://www.encuentra24.com/panama-en/real-estate-for-sale-apartments-condos/prov-panama.164?q=withcat.real-estate-for-sale-apartments-condos|number.50',\n",
       " 'https://www.encuentra24.com/panama-en/real-estate-for-sale-apartments-condos/prov-panama.165?q=withcat.real-estate-for-sale-apartments-condos|number.50',\n",
       " 'https://www.encuentra24.com/panama-en/real-estate-for-sale-apartments-condos/prov-panama.166?q=withcat.real-estate-for-sale-apartments-condos|number.50',\n",
       " 'https://www.encuentra24.com/panama-en/real-estate-for-sale-apartments-condos/prov-panama.167?q=withcat.real-estate-for-sale-apartments-condos|number.50',\n",
       " 'https://www.encuentra24.com/panama-en/real-estate-for-sale-apartments-condos/prov-panama.168?q=withcat.real-estate-for-sale-apartments-condos|number.50',\n",
       " 'https://www.encuentra24.com/panama-en/real-estate-for-sale-apartments-condos/prov-panama.169?q=withcat.real-estate-for-sale-apartments-condos|number.50',\n",
       " 'https://www.encuentra24.com/panama-en/real-estate-for-sale-apartments-condos/prov-panama.170?q=withcat.real-estate-for-sale-apartments-condos|number.50',\n",
       " 'https://www.encuentra24.com/panama-en/real-estate-for-sale-apartments-condos/prov-panama.171?q=withcat.real-estate-for-sale-apartments-condos|number.50',\n",
       " 'https://www.encuentra24.com/panama-en/real-estate-for-sale-apartments-condos/prov-panama.172?q=withcat.real-estate-for-sale-apartments-condos|number.50',\n",
       " 'https://www.encuentra24.com/panama-en/real-estate-for-sale-apartments-condos/prov-panama.173?q=withcat.real-estate-for-sale-apartments-condos|number.50',\n",
       " 'https://www.encuentra24.com/panama-en/real-estate-for-sale-apartments-condos/prov-panama.174?q=withcat.real-estate-for-sale-apartments-condos|number.50',\n",
       " 'https://www.encuentra24.com/panama-en/real-estate-for-sale-apartments-condos/prov-panama.175?q=withcat.real-estate-for-sale-apartments-condos|number.50',\n",
       " 'https://www.encuentra24.com/panama-en/real-estate-for-sale-apartments-condos/prov-panama.176?q=withcat.real-estate-for-sale-apartments-condos|number.50',\n",
       " 'https://www.encuentra24.com/panama-en/real-estate-for-sale-apartments-condos/prov-panama.177?q=withcat.real-estate-for-sale-apartments-condos|number.50',\n",
       " 'https://www.encuentra24.com/panama-en/real-estate-for-sale-apartments-condos/prov-panama.178?q=withcat.real-estate-for-sale-apartments-condos|number.50',\n",
       " 'https://www.encuentra24.com/panama-en/real-estate-for-sale-apartments-condos/prov-panama.179?q=withcat.real-estate-for-sale-apartments-condos|number.50',\n",
       " 'https://www.encuentra24.com/panama-en/real-estate-for-sale-apartments-condos/prov-panama.180?q=withcat.real-estate-for-sale-apartments-condos|number.50',\n",
       " 'https://www.encuentra24.com/panama-en/real-estate-for-sale-apartments-condos/prov-panama.181?q=withcat.real-estate-for-sale-apartments-condos|number.50',\n",
       " 'https://www.encuentra24.com/panama-en/real-estate-for-sale-apartments-condos/prov-panama.182?q=withcat.real-estate-for-sale-apartments-condos|number.50',\n",
       " 'https://www.encuentra24.com/panama-en/real-estate-for-sale-apartments-condos/prov-panama.183?q=withcat.real-estate-for-sale-apartments-condos|number.50',\n",
       " 'https://www.encuentra24.com/panama-en/real-estate-for-sale-apartments-condos/prov-panama.184?q=withcat.real-estate-for-sale-apartments-condos|number.50',\n",
       " 'https://www.encuentra24.com/panama-en/real-estate-for-sale-apartments-condos/prov-panama.185?q=withcat.real-estate-for-sale-apartments-condos|number.50',\n",
       " 'https://www.encuentra24.com/panama-en/real-estate-for-sale-apartments-condos/prov-panama.186?q=withcat.real-estate-for-sale-apartments-condos|number.50',\n",
       " 'https://www.encuentra24.com/panama-en/real-estate-for-sale-apartments-condos/prov-panama.187?q=withcat.real-estate-for-sale-apartments-condos|number.50',\n",
       " 'https://www.encuentra24.com/panama-en/real-estate-for-sale-apartments-condos/prov-panama.188?q=withcat.real-estate-for-sale-apartments-condos|number.50',\n",
       " 'https://www.encuentra24.com/panama-en/real-estate-for-sale-apartments-condos/prov-panama.189?q=withcat.real-estate-for-sale-apartments-condos|number.50',\n",
       " 'https://www.encuentra24.com/panama-en/real-estate-for-sale-apartments-condos/prov-panama.190?q=withcat.real-estate-for-sale-apartments-condos|number.50',\n",
       " 'https://www.encuentra24.com/panama-en/real-estate-for-sale-apartments-condos/prov-panama.191?q=withcat.real-estate-for-sale-apartments-condos|number.50',\n",
       " 'https://www.encuentra24.com/panama-en/real-estate-for-sale-apartments-condos/prov-panama.192?q=withcat.real-estate-for-sale-apartments-condos|number.50',\n",
       " 'https://www.encuentra24.com/panama-en/real-estate-for-sale-apartments-condos/prov-panama.193?q=withcat.real-estate-for-sale-apartments-condos|number.50',\n",
       " 'https://www.encuentra24.com/panama-en/real-estate-for-sale-apartments-condos/prov-panama.194?q=withcat.real-estate-for-sale-apartments-condos|number.50',\n",
       " 'https://www.encuentra24.com/panama-en/real-estate-for-sale-apartments-condos/prov-panama.195?q=withcat.real-estate-for-sale-apartments-condos|number.50',\n",
       " 'https://www.encuentra24.com/panama-en/real-estate-for-sale-apartments-condos/prov-panama.196?q=withcat.real-estate-for-sale-apartments-condos|number.50',\n",
       " 'https://www.encuentra24.com/panama-en/real-estate-for-sale-apartments-condos/prov-panama.197?q=withcat.real-estate-for-sale-apartments-condos|number.50',\n",
       " 'https://www.encuentra24.com/panama-en/real-estate-for-sale-apartments-condos/prov-panama.198?q=withcat.real-estate-for-sale-apartments-condos|number.50',\n",
       " 'https://www.encuentra24.com/panama-en/real-estate-for-sale-apartments-condos/prov-panama.199?q=withcat.real-estate-for-sale-apartments-condos|number.50',\n",
       " 'https://www.encuentra24.com/panama-en/real-estate-for-sale-apartments-condos/prov-panama.200?q=withcat.real-estate-for-sale-apartments-condos|number.50',\n",
       " 'https://www.encuentra24.com/panama-en/real-estate-for-sale-apartments-condos/prov-panama.201?q=withcat.real-estate-for-sale-apartments-condos|number.50',\n",
       " 'https://www.encuentra24.com/panama-en/real-estate-for-sale-apartments-condos/prov-panama.202?q=withcat.real-estate-for-sale-apartments-condos|number.50',\n",
       " 'https://www.encuentra24.com/panama-en/real-estate-for-sale-apartments-condos/prov-panama.203?q=withcat.real-estate-for-sale-apartments-condos|number.50',\n",
       " 'https://www.encuentra24.com/panama-en/real-estate-for-sale-apartments-condos/prov-panama.204?q=withcat.real-estate-for-sale-apartments-condos|number.50',\n",
       " 'https://www.encuentra24.com/panama-en/real-estate-for-sale-apartments-condos/prov-panama.205?q=withcat.real-estate-for-sale-apartments-condos|number.50',\n",
       " 'https://www.encuentra24.com/panama-en/real-estate-for-sale-apartments-condos/prov-panama.206?q=withcat.real-estate-for-sale-apartments-condos|number.50',\n",
       " 'https://www.encuentra24.com/panama-en/real-estate-for-sale-apartments-condos/prov-panama.207?q=withcat.real-estate-for-sale-apartments-condos|number.50',\n",
       " 'https://www.encuentra24.com/panama-en/real-estate-for-sale-apartments-condos/prov-panama.208?q=withcat.real-estate-for-sale-apartments-condos|number.50',\n",
       " 'https://www.encuentra24.com/panama-en/real-estate-for-sale-apartments-condos/prov-panama.209?q=withcat.real-estate-for-sale-apartments-condos|number.50',\n",
       " 'https://www.encuentra24.com/panama-en/real-estate-for-sale-apartments-condos/prov-panama.210?q=withcat.real-estate-for-sale-apartments-condos|number.50',\n",
       " 'https://www.encuentra24.com/panama-en/real-estate-for-sale-apartments-condos/prov-panama.211?q=withcat.real-estate-for-sale-apartments-condos|number.50',\n",
       " 'https://www.encuentra24.com/panama-en/real-estate-for-sale-apartments-condos/prov-panama.212?q=withcat.real-estate-for-sale-apartments-condos|number.50',\n",
       " 'https://www.encuentra24.com/panama-en/real-estate-for-sale-apartments-condos/prov-panama.213?q=withcat.real-estate-for-sale-apartments-condos|number.50',\n",
       " 'https://www.encuentra24.com/panama-en/real-estate-for-sale-apartments-condos/prov-panama.214?q=withcat.real-estate-for-sale-apartments-condos|number.50',\n",
       " 'https://www.encuentra24.com/panama-en/real-estate-for-sale-apartments-condos/prov-panama.215?q=withcat.real-estate-for-sale-apartments-condos|number.50',\n",
       " 'https://www.encuentra24.com/panama-en/real-estate-for-sale-apartments-condos/prov-panama.216?q=withcat.real-estate-for-sale-apartments-condos|number.50',\n",
       " 'https://www.encuentra24.com/panama-en/real-estate-for-sale-apartments-condos/prov-panama.217?q=withcat.real-estate-for-sale-apartments-condos|number.50',\n",
       " 'https://www.encuentra24.com/panama-en/real-estate-for-sale-apartments-condos/prov-panama.218?q=withcat.real-estate-for-sale-apartments-condos|number.50',\n",
       " 'https://www.encuentra24.com/panama-en/real-estate-for-sale-apartments-condos/prov-panama.219?q=withcat.real-estate-for-sale-apartments-condos|number.50',\n",
       " 'https://www.encuentra24.com/panama-en/real-estate-for-sale-apartments-condos/prov-panama.220?q=withcat.real-estate-for-sale-apartments-condos|number.50',\n",
       " 'https://www.encuentra24.com/panama-en/real-estate-for-sale-apartments-condos/prov-panama.221?q=withcat.real-estate-for-sale-apartments-condos|number.50',\n",
       " 'https://www.encuentra24.com/panama-en/real-estate-for-sale-apartments-condos/prov-panama.222?q=withcat.real-estate-for-sale-apartments-condos|number.50',\n",
       " 'https://www.encuentra24.com/panama-en/real-estate-for-sale-apartments-condos/prov-panama.223?q=withcat.real-estate-for-sale-apartments-condos|number.50',\n",
       " 'https://www.encuentra24.com/panama-en/real-estate-for-sale-apartments-condos/prov-panama.224?q=withcat.real-estate-for-sale-apartments-condos|number.50',\n",
       " 'https://www.encuentra24.com/panama-en/real-estate-for-sale-apartments-condos/prov-panama.225?q=withcat.real-estate-for-sale-apartments-condos|number.50',\n",
       " 'https://www.encuentra24.com/panama-en/real-estate-for-sale-apartments-condos/prov-panama.226?q=withcat.real-estate-for-sale-apartments-condos|number.50',\n",
       " 'https://www.encuentra24.com/panama-en/real-estate-for-sale-apartments-condos/prov-panama.227?q=withcat.real-estate-for-sale-apartments-condos|number.50',\n",
       " 'https://www.encuentra24.com/panama-en/real-estate-for-sale-apartments-condos/prov-panama.228?q=withcat.real-estate-for-sale-apartments-condos|number.50',\n",
       " 'https://www.encuentra24.com/panama-en/real-estate-for-sale-apartments-condos/prov-panama.229?q=withcat.real-estate-for-sale-apartments-condos|number.50',\n",
       " 'https://www.encuentra24.com/panama-en/real-estate-for-sale-apartments-condos/prov-panama.230?q=withcat.real-estate-for-sale-apartments-condos|number.50',\n",
       " 'https://www.encuentra24.com/panama-en/real-estate-for-sale-apartments-condos/prov-panama.231?q=withcat.real-estate-for-sale-apartments-condos|number.50',\n",
       " 'https://www.encuentra24.com/panama-en/real-estate-for-sale-apartments-condos/prov-panama.232?q=withcat.real-estate-for-sale-apartments-condos|number.50',\n",
       " 'https://www.encuentra24.com/panama-en/real-estate-for-sale-apartments-condos/prov-panama.233?q=withcat.real-estate-for-sale-apartments-condos|number.50',\n",
       " 'https://www.encuentra24.com/panama-en/real-estate-for-sale-apartments-condos/prov-panama.234?q=withcat.real-estate-for-sale-apartments-condos|number.50',\n",
       " 'https://www.encuentra24.com/panama-en/real-estate-for-sale-apartments-condos/prov-panama.235?q=withcat.real-estate-for-sale-apartments-condos|number.50',\n",
       " 'https://www.encuentra24.com/panama-en/real-estate-for-sale-apartments-condos/prov-panama.236?q=withcat.real-estate-for-sale-apartments-condos|number.50',\n",
       " 'https://www.encuentra24.com/panama-en/real-estate-for-sale-apartments-condos/prov-panama.237?q=withcat.real-estate-for-sale-apartments-condos|number.50',\n",
       " 'https://www.encuentra24.com/panama-en/real-estate-for-sale-apartments-condos/prov-panama.238?q=withcat.real-estate-for-sale-apartments-condos|number.50',\n",
       " 'https://www.encuentra24.com/panama-en/real-estate-for-sale-apartments-condos/prov-panama.239?q=withcat.real-estate-for-sale-apartments-condos|number.50',\n",
       " 'https://www.encuentra24.com/panama-en/real-estate-for-sale-apartments-condos/prov-panama.240?q=withcat.real-estate-for-sale-apartments-condos|number.50',\n",
       " 'https://www.encuentra24.com/panama-en/real-estate-for-sale-apartments-condos/prov-panama.241?q=withcat.real-estate-for-sale-apartments-condos|number.50',\n",
       " 'https://www.encuentra24.com/panama-en/real-estate-for-sale-apartments-condos/prov-panama.242?q=withcat.real-estate-for-sale-apartments-condos|number.50',\n",
       " 'https://www.encuentra24.com/panama-en/real-estate-for-sale-apartments-condos/prov-panama.243?q=withcat.real-estate-for-sale-apartments-condos|number.50',\n",
       " 'https://www.encuentra24.com/panama-en/real-estate-for-sale-apartments-condos/prov-panama.244?q=withcat.real-estate-for-sale-apartments-condos|number.50',\n",
       " 'https://www.encuentra24.com/panama-en/real-estate-for-sale-apartments-condos/prov-panama.245?q=withcat.real-estate-for-sale-apartments-condos|number.50',\n",
       " 'https://www.encuentra24.com/panama-en/real-estate-for-sale-apartments-condos/prov-panama.246?q=withcat.real-estate-for-sale-apartments-condos|number.50',\n",
       " 'https://www.encuentra24.com/panama-en/real-estate-for-sale-apartments-condos/prov-panama.247?q=withcat.real-estate-for-sale-apartments-condos|number.50',\n",
       " 'https://www.encuentra24.com/panama-en/real-estate-for-sale-apartments-condos/prov-panama.248?q=withcat.real-estate-for-sale-apartments-condos|number.50',\n",
       " 'https://www.encuentra24.com/panama-en/real-estate-for-sale-apartments-condos/prov-panama.249?q=withcat.real-estate-for-sale-apartments-condos|number.50',\n",
       " 'https://www.encuentra24.com/panama-en/real-estate-for-sale-apartments-condos/prov-panama.250?q=withcat.real-estate-for-sale-apartments-condos|number.50',\n",
       " 'https://www.encuentra24.com/panama-en/real-estate-for-sale-apartments-condos/prov-panama.251?q=withcat.real-estate-for-sale-apartments-condos|number.50',\n",
       " 'https://www.encuentra24.com/panama-en/real-estate-for-sale-apartments-condos/prov-panama.252?q=withcat.real-estate-for-sale-apartments-condos|number.50',\n",
       " 'https://www.encuentra24.com/panama-en/real-estate-for-sale-apartments-condos/prov-panama.253?q=withcat.real-estate-for-sale-apartments-condos|number.50',\n",
       " 'https://www.encuentra24.com/panama-en/real-estate-for-sale-apartments-condos/prov-panama.254?q=withcat.real-estate-for-sale-apartments-condos|number.50',\n",
       " 'https://www.encuentra24.com/panama-en/real-estate-for-sale-apartments-condos/prov-panama.255?q=withcat.real-estate-for-sale-apartments-condos|number.50',\n",
       " 'https://www.encuentra24.com/panama-en/real-estate-for-sale-apartments-condos/prov-panama.256?q=withcat.real-estate-for-sale-apartments-condos|number.50',\n",
       " 'https://www.encuentra24.com/panama-en/real-estate-for-sale-apartments-condos/prov-panama.257?q=withcat.real-estate-for-sale-apartments-condos|number.50',\n",
       " 'https://www.encuentra24.com/panama-en/real-estate-for-sale-apartments-condos/prov-panama.258?q=withcat.real-estate-for-sale-apartments-condos|number.50',\n",
       " 'https://www.encuentra24.com/panama-en/real-estate-for-sale-apartments-condos/prov-panama.259?q=withcat.real-estate-for-sale-apartments-condos|number.50',\n",
       " 'https://www.encuentra24.com/panama-en/real-estate-for-sale-apartments-condos/prov-panama.260?q=withcat.real-estate-for-sale-apartments-condos|number.50',\n",
       " 'https://www.encuentra24.com/panama-en/real-estate-for-sale-apartments-condos/prov-panama.261?q=withcat.real-estate-for-sale-apartments-condos|number.50']"
      ]
     },
     "execution_count": 7,
     "metadata": {},
     "output_type": "execute_result"
    }
   ],
   "source": [
    "url_list"
   ]
  },
  {
   "cell_type": "code",
   "execution_count": 31,
   "id": "5ae466a9-7549-4193-bfd6-e19d4052e65a",
   "metadata": {},
   "outputs": [
    {
     "data": {
      "text/plain": [
       "'https://www.encuentra24.com/panama-en/real-estate-preconstruction-new-property/dynasty-residences-en-bella-vista/21727414?q=withcat.real-estate-for-sale-apartments-condos|number.50&regionslug=prov-panama&list=categoryregion&catslug=real-estate-for-sale-apartments-condos'"
      ]
     },
     "execution_count": 31,
     "metadata": {},
     "output_type": "execute_result"
    }
   ],
   "source": [
    "# get individual url\n",
    "url_by_add_test = driver.find_elements(By.XPATH, \"//div[@class='ann-box-details']/a\")\n",
    "# url_by_add[0].get_attribute(\"href\")\n",
    "url_by_add_test[0].get_attribute(\"href\")"
   ]
  },
  {
   "cell_type": "markdown",
   "id": "bc205e75-d72e-4bde-b9c7-ed6596edab23",
   "metadata": {},
   "source": [
    "# Get Individual Links below commented"
   ]
  },
  {
   "cell_type": "code",
   "execution_count": 36,
   "id": "54056e1d-558a-4d43-8ab3-0fa1d89a4d55",
   "metadata": {},
   "outputs": [],
   "source": [
    "# url_by_add = []\n",
    "# # iterate over link pages\n",
    "# for i in url_list:\n",
    "#     # get url on driver\n",
    "#     driver.get(i)\n",
    "#     time.sleep(3)\n",
    "#     # find all box details\n",
    "#     box_details = driver.find_elements(By.XPATH, \"//div[@class='ann-box-details']/a\")\n",
    "\n",
    "#     for j in box_details:\n",
    "#         url_by_add.append(j.get_attribute(\"href\"))"
   ]
  },
  {
   "cell_type": "code",
   "execution_count": 40,
   "id": "5e130225-47bf-4a85-83ed-fd257db74919",
   "metadata": {},
   "outputs": [],
   "source": [
    "# df_by_add = pd.DataFrame(url_by_add, columns=[\"url_by_add\"])\n",
    "# df_by_add.to_csv(\"url_by_add.csv\")"
   ]
  },
  {
   "cell_type": "code",
   "execution_count": 8,
   "id": "0d1ee404-1693-407b-a5ec-47c27851b9dc",
   "metadata": {
    "collapsed": true,
    "jupyter": {
     "outputs_hidden": true
    },
    "tags": []
   },
   "outputs": [
    {
     "name": "stdout",
     "output_type": "stream",
     "text": [
      "Coco Place en Coco del Mar, San Francisco\n",
      "Panama Viejo Residences, en Panama Viejo\n",
      "Bali en Costa del Mar - Costa del Este\n",
      "espectacular Apartment for sale in Ph Aqualina Punta Pacífica\n",
      "For sale 3 bedrooms, 2 bathrooms, San Francisco, balcony, Parque Omar\n",
      "Se vende apartamento en Santa María, Ph La Maison\n",
      "Se vende apartamento en Santa María, Ph The Ivy\n",
      "Se vende apartamento en Avenida Balboa, Ph Marina Terrace\n",
      "Ph Lexington Tower. Apartamento en Venta Villa de las Fuentes - El Dorado - TUMBA MUERTO\n",
      "Sale of 77 m2 Apartment in Viridian Park Carrasquilla\n",
      "Se vende apartamento en The Reserve en Santa Maria - 243.76 mts DL\n",
      "Yoo Panama Avenida Balboa, Modelo A con vista al mar\n",
      "VENDO APARTAMENTO, CONDADO DEL REY PH KINGS PARK 2 RECAMARAS + CBE J.H\n",
      "APARTAMENTOS EN THE RESERVE Torre PINNACLE SANTA MARÍA\n",
      "2 bedrooms apartment for sale located in Obarrio\n",
      "Beautiful fully furnished apartment for sale in Yacht Club Tower\n",
      "GRAND TOWER - PUNTA PACIFICA\n",
      "EMPIRE - SANTA MARIA con opción a 4 recamaras\n",
      "GRAND TOWER - PUNTA PACIFICA\n",
      "VENDO APARTAMENTO EN CONDADO DEL REY, PH TERRAZAS DEL REY\n",
      "Ph Beach Club Residences. Ocean Reef II. SP\n",
      "Se vende apartamento en Obarrio, PH Miyaki\n",
      "Apartamento a la venta en El Cangrejo. NEGOCIABLE\n",
      "Apartment for sale of 134 m2 in Ph Kubic El Cangrejo\n",
      "SE VENDE FULL AMOBLADO APARTAMENTO COSTA DEL ESTE\n",
      "OBARRIO PH DOWNTOWN 55 APARTAMENTO ÚNICO\n",
      "AV. BALBOA -VENTA VISTA PANORAMICA AL OCEANO Y CINTA COSTERA\n",
      "VIA ESPAÑA Y F. DE CORDOBA A ESTRENAR DE 2 RECAMARAS Y DE 3 RECAMARAS desde U$ 169,000\n",
      "SE VENDE PH TITANIUM COSTA DEL ESTE\n",
      "PREVENTA PROYECTO CELESTE EN SANTA MARÍA\n",
      "SE VENDE APARTAMENTO REMODELADO COSTA DEL ESTE\n",
      "venta apartamento santa Ana ciudad de panamá cerca del casco antiguo\n",
      "Garden Apartments - Penthouse Ocean Reef\n",
      "Terranova - El Cangrejo\n",
      "Venta de apto ph element\n",
      "PARKSIDE FOR SALE 2 BEDROOM FULLY FURNISHED\n",
      "Nuovo by ARMANI/CASA\n",
      "DELIVERY SEPTEMBER 2022 - PREFERENTIAL INTEREST APPLIES\n",
      "AVENIDA BALBOA - OPORTUNIDAD - APARTAMENTO CON VISTA AL MAR , CINTA COSTERA Y AMADOR\n",
      "LUJOSO Y ESPACIOSO APARTAMENTO EN LA CRESTA. 400m2.\n",
      "Se vende apartamento en Carrasquilla, Ph Residencias del Sol\n",
      "SUPER INVERSIÓN DE APARTAMENTO AMOBLADO MYSTIC VILLAGE, DON BOSCO\n",
      "Excelente apartamento en TERRAZAS DEL PACIFICO\n",
      "Apartment in Bella vista PH DYNASTY\n",
      "PH Costa Pacifica- Venta $230,000usd -\n",
      "Clayton Park Clayton. Apartamento en Clayton en Venta\n",
      "Terrawind San Francisco, Apartamento en San Francisco\n",
      "Condado Country Club, Apartamento en Condado del Rey\n",
      "Sol del Este Costa del Este. Apartamento en Costa del Este\n",
      "Terranova, El Cangrejo. Apartamento en El Cangrejo Venta\n"
     ]
    }
   ],
   "source": [
    "# get titles of adds\n",
    "items_per_page = driver.find_elements(By.XPATH, \"//div/a/div[@itemprop='name']\") # list of all adds\n",
    "for i in range(len(items_per_page)):\n",
    "   print(items_per_page[i].text) # individual title per add"
   ]
  },
  {
   "cell_type": "markdown",
   "id": "7975a91b-7366-4445-9fdb-f3e6396a1839",
   "metadata": {},
   "source": [
    "# Get prices per item"
   ]
  },
  {
   "cell_type": "code",
   "execution_count": 9,
   "id": "4a1e8386-81ac-47e1-a83e-b74dd2c8ff1a",
   "metadata": {},
   "outputs": [
    {
     "data": {
      "text/plain": [
       "50"
      ]
     },
     "execution_count": 9,
     "metadata": {},
     "output_type": "execute_result"
    }
   ],
   "source": [
    "# get prices per item\n",
    "price_per_item = driver.find_elements(By.XPATH, \"//span[@class='ann-price']\")\n",
    "# # not print(price_per_page[-1].text)  # Get Not when no element is found use the option below\n",
    "# for i in price_per_page:\n",
    "#     print(i.text)\n",
    "len(price_per_item)"
   ]
  },
  {
   "cell_type": "code",
   "execution_count": 10,
   "id": "290a302b-e58c-44dd-9e06-f76e627bb35d",
   "metadata": {},
   "outputs": [
    {
     "ename": "NameError",
     "evalue": "name 'price_per_page' is not defined",
     "output_type": "error",
     "traceback": [
      "\u001b[1;31m---------------------------------------------------------------------------\u001b[0m",
      "\u001b[1;31mNameError\u001b[0m                                 Traceback (most recent call last)",
      "\u001b[1;32m~\\AppData\\Local\\Temp\\ipykernel_20316\\3553403292.py\u001b[0m in \u001b[0;36m<module>\u001b[1;34m\u001b[0m\n\u001b[0;32m      2\u001b[0m \u001b[1;31m# for i in price_per_page:\u001b[0m\u001b[1;33m\u001b[0m\u001b[1;33m\u001b[0m\u001b[1;33m\u001b[0m\u001b[0m\n\u001b[0;32m      3\u001b[0m \u001b[1;31m#     print(i.text)\u001b[0m\u001b[1;33m\u001b[0m\u001b[1;33m\u001b[0m\u001b[1;33m\u001b[0m\u001b[0m\n\u001b[1;32m----> 4\u001b[1;33m \u001b[0mlen\u001b[0m\u001b[1;33m(\u001b[0m\u001b[0mprice_per_page\u001b[0m\u001b[1;33m)\u001b[0m\u001b[1;33m\u001b[0m\u001b[1;33m\u001b[0m\u001b[0m\n\u001b[0m",
      "\u001b[1;31mNameError\u001b[0m: name 'price_per_page' is not defined"
     ]
    }
   ],
   "source": [
    "price_per_item = driver.find_elements(By.XPATH, \"//div/span[@itemprop='offers']/div[@itemprop='price']\")\n",
    "for i in price_per_page:\n",
    "    print(i.text)\n",
    "len(price_per_page)"
   ]
  },
  {
   "cell_type": "markdown",
   "id": "65540415-fcac-4342-b092-7194c33ebcb4",
   "metadata": {},
   "source": [
    "# Get area per item"
   ]
  },
  {
   "cell_type": "code",
   "execution_count": 21,
   "id": "5d8f47ad-31d2-427b-97b9-d8a2778f8717",
   "metadata": {},
   "outputs": [],
   "source": [
    "area_per_item = driver.find_elements(By.XPATH, \"//div/ul/li/span[@class='value']\")"
   ]
  },
  {
   "cell_type": "code",
   "execution_count": 47,
   "id": "0fdd4116-7f2f-423a-b6b2-9a4230f479cc",
   "metadata": {},
   "outputs": [
    {
     "data": {
      "text/plain": [
       "'ago'"
      ]
     },
     "execution_count": 47,
     "metadata": {},
     "output_type": "execute_result"
    }
   ],
   "source": [
    "area_per_item[8].text[-3:]"
   ]
  },
  {
   "cell_type": "code",
   "execution_count": 102,
   "id": "befda0e7-7928-44b5-a7e7-a48d5e9b8025",
   "metadata": {},
   "outputs": [],
   "source": [
    "# for j in range(len(area_per_item)):\n",
    "    # if j%2 ==0:\n",
    "        \n",
    "    # print(area_per_item[j].text)"
   ]
  },
  {
   "cell_type": "code",
   "execution_count": 105,
   "id": "7b0950c1-6b61-43ff-ab1b-4862709f6041",
   "metadata": {},
   "outputs": [
    {
     "data": {
      "text/plain": [
       "147"
      ]
     },
     "execution_count": 105,
     "metadata": {},
     "output_type": "execute_result"
    }
   ],
   "source": [
    "len(area_per_item)"
   ]
  },
  {
   "cell_type": "markdown",
   "id": "16619869-1836-47fa-b909-9540cde6b3e3",
   "metadata": {},
   "source": [
    "# Get Location"
   ]
  },
  {
   "cell_type": "code",
   "execution_count": 113,
   "id": "239ebab2-ae4e-4858-b174-07cd94791e8b",
   "metadata": {},
   "outputs": [],
   "source": [
    "loc_per_item = driver.find_elements(By.XPATH, \"//div/span[@class='ann-info-item']\")"
   ]
  },
  {
   "cell_type": "code",
   "execution_count": 115,
   "id": "63a5172e-63bb-4b62-8317-d2682956d177",
   "metadata": {},
   "outputs": [
    {
     "data": {
      "text/plain": [
       "'Avenida Balboa'"
      ]
     },
     "execution_count": 115,
     "metadata": {},
     "output_type": "execute_result"
    }
   ],
   "source": [
    "loc_per_item[0].text"
   ]
  },
  {
   "cell_type": "markdown",
   "id": "2a1eba0f-c73c-47ec-8c8e-da18cd30f9f1",
   "metadata": {},
   "source": [
    "# Get Promotor"
   ]
  },
  {
   "cell_type": "code",
   "execution_count": 8,
   "id": "334ff6f2-14a7-46ac-bef2-5f5b1980c1ec",
   "metadata": {},
   "outputs": [],
   "source": [
    "promotor_per_item = driver.find_elements(By.XPATH, \"//div/span[@class='company-name']\")"
   ]
  },
  {
   "cell_type": "code",
   "execution_count": 10,
   "id": "e6b430e1-e7f7-4775-87d1-ffc6c0993e3a",
   "metadata": {},
   "outputs": [
    {
     "data": {
      "text/plain": [
       "'PHRE Group'"
      ]
     },
     "execution_count": 10,
     "metadata": {},
     "output_type": "execute_result"
    }
   ],
   "source": [
    "promotor_per_item[0].text"
   ]
  },
  {
   "cell_type": "markdown",
   "id": "5e88b1e2-a4ac-482e-90cd-425b68ad180e",
   "metadata": {},
   "source": [
    "#######################################################################################"
   ]
  },
  {
   "cell_type": "markdown",
   "id": "1fb54de3-df61-4e5f-999a-36537f8ab6ae",
   "metadata": {},
   "source": [
    "# Data Extraction\n"
   ]
  },
  {
   "cell_type": "code",
   "execution_count": 59,
   "id": "352d39f3-26d0-4374-8cd9-af34ae10aca6",
   "metadata": {},
   "outputs": [],
   "source": [
    "# TODO: CREATE REPOSITORY"
   ]
  },
  {
   "cell_type": "code",
   "execution_count": 58,
   "id": "3103d5ca-9901-4053-a436-a8e107ce5c10",
   "metadata": {},
   "outputs": [
    {
     "name": "stdout",
     "output_type": "stream",
     "text": [
      "https://www.encuentra24.com/panama-en/real-estate-preconstruction-new-property/bali-en-costa-del-mar-costa-del-este/20982810?q=withcat.real-estate-for-sale-apartments-condos|number.50&regionslug=prov-panama&list=categoryregion&catslug=real-estate-for-sale-apartments-condos\n"
     ]
    },
    {
     "ename": "NoSuchElementException",
     "evalue": "Message: no such element: Unable to locate element: {\"method\":\"xpath\",\"selector\":\"//div/a/div[@itemprop='name']\"}\n  (Session info: chrome=104.0.5112.81)\nStacktrace:\nBacktrace:\n\tOrdinal0 [0x00DDAF23+2207523]\n\tOrdinal0 [0x00D730E1+1781985]\n\tOrdinal0 [0x00C83FE8+802792]\n\tOrdinal0 [0x00CB2290+991888]\n\tOrdinal0 [0x00CB252B+992555]\n\tOrdinal0 [0x00CDF6E2+1177314]\n\tOrdinal0 [0x00CCD634+1103412]\n\tOrdinal0 [0x00CDD9F2+1169906]\n\tOrdinal0 [0x00CCD406+1102854]\n\tOrdinal0 [0x00CA75F0+947696]\n\tOrdinal0 [0x00CA84E6+951526]\n\tGetHandleVerifier [0x01082A12+2733954]\n\tGetHandleVerifier [0x01074E28+2677656]\n\tGetHandleVerifier [0x00E646EA+513114]\n\tGetHandleVerifier [0x00E63796+509190]\n\tOrdinal0 [0x00D79CEB+1809643]\n\tOrdinal0 [0x00D7E448+1827912]\n\tOrdinal0 [0x00D7E535+1828149]\n\tOrdinal0 [0x00D87960+1866080]\n\tBaseThreadInitThunk [0x762BFA29+25]\n\tRtlGetAppContainerNamedObjectPath [0x77B17A9E+286]\n\tRtlGetAppContainerNamedObjectPath [0x77B17A6E+238]\n",
     "output_type": "error",
     "traceback": [
      "\u001b[1;31m---------------------------------------------------------------------------\u001b[0m",
      "\u001b[1;31mNoSuchElementException\u001b[0m                    Traceback (most recent call last)",
      "\u001b[1;32m~\\AppData\\Local\\Temp\\ipykernel_14740\\1631497054.py\u001b[0m in \u001b[0;36m<module>\u001b[1;34m\u001b[0m\n\u001b[0;32m     17\u001b[0m \u001b[1;33m\u001b[0m\u001b[0m\n\u001b[0;32m     18\u001b[0m     \u001b[1;31m# get add and append\u001b[0m\u001b[1;33m\u001b[0m\u001b[1;33m\u001b[0m\u001b[1;33m\u001b[0m\u001b[0m\n\u001b[1;32m---> 19\u001b[1;33m     \u001b[0madds\u001b[0m \u001b[1;33m=\u001b[0m \u001b[0mdriver\u001b[0m\u001b[1;33m.\u001b[0m\u001b[0mfind_element\u001b[0m\u001b[1;33m(\u001b[0m\u001b[0mBy\u001b[0m\u001b[1;33m.\u001b[0m\u001b[0mXPATH\u001b[0m\u001b[1;33m,\u001b[0m \u001b[1;34m\"//div/a/div[@itemprop='name']\"\u001b[0m\u001b[1;33m)\u001b[0m \u001b[1;31m# list of all adds\u001b[0m\u001b[1;33m\u001b[0m\u001b[1;33m\u001b[0m\u001b[0m\n\u001b[0m\u001b[0;32m     20\u001b[0m     \u001b[1;32mfor\u001b[0m \u001b[0mi\u001b[0m \u001b[1;32min\u001b[0m \u001b[0madds\u001b[0m\u001b[1;33m:\u001b[0m\u001b[1;33m\u001b[0m\u001b[1;33m\u001b[0m\u001b[0m\n\u001b[0;32m     21\u001b[0m         \u001b[0madd_title\u001b[0m\u001b[1;33m.\u001b[0m\u001b[0mappend\u001b[0m\u001b[1;33m(\u001b[0m\u001b[0mi\u001b[0m\u001b[1;33m.\u001b[0m\u001b[0mtext\u001b[0m\u001b[1;33m)\u001b[0m\u001b[1;33m\u001b[0m\u001b[1;33m\u001b[0m\u001b[0m\n",
      "\u001b[1;32mc:\\users\\a-gue\\onedrive\\documentos\\python_projects\\panama_apt_pricing\\lib\\site-packages\\selenium\\webdriver\\remote\\webdriver.py\u001b[0m in \u001b[0;36mfind_element\u001b[1;34m(self, by, value)\u001b[0m\n\u001b[0;32m    857\u001b[0m         return self.execute(Command.FIND_ELEMENT, {\n\u001b[0;32m    858\u001b[0m             \u001b[1;34m'using'\u001b[0m\u001b[1;33m:\u001b[0m \u001b[0mby\u001b[0m\u001b[1;33m,\u001b[0m\u001b[1;33m\u001b[0m\u001b[1;33m\u001b[0m\u001b[0m\n\u001b[1;32m--> 859\u001b[1;33m             'value': value})['value']\n\u001b[0m\u001b[0;32m    860\u001b[0m \u001b[1;33m\u001b[0m\u001b[0m\n\u001b[0;32m    861\u001b[0m     \u001b[1;32mdef\u001b[0m \u001b[0mfind_elements\u001b[0m\u001b[1;33m(\u001b[0m\u001b[0mself\u001b[0m\u001b[1;33m,\u001b[0m \u001b[0mby\u001b[0m\u001b[1;33m=\u001b[0m\u001b[0mBy\u001b[0m\u001b[1;33m.\u001b[0m\u001b[0mID\u001b[0m\u001b[1;33m,\u001b[0m \u001b[0mvalue\u001b[0m\u001b[1;33m=\u001b[0m\u001b[1;32mNone\u001b[0m\u001b[1;33m)\u001b[0m \u001b[1;33m->\u001b[0m \u001b[0mList\u001b[0m\u001b[1;33m[\u001b[0m\u001b[0mWebElement\u001b[0m\u001b[1;33m]\u001b[0m\u001b[1;33m:\u001b[0m\u001b[1;33m\u001b[0m\u001b[1;33m\u001b[0m\u001b[0m\n",
      "\u001b[1;32mc:\\users\\a-gue\\onedrive\\documentos\\python_projects\\panama_apt_pricing\\lib\\site-packages\\selenium\\webdriver\\remote\\webdriver.py\u001b[0m in \u001b[0;36mexecute\u001b[1;34m(self, driver_command, params)\u001b[0m\n\u001b[0;32m    433\u001b[0m         \u001b[0mresponse\u001b[0m \u001b[1;33m=\u001b[0m \u001b[0mself\u001b[0m\u001b[1;33m.\u001b[0m\u001b[0mcommand_executor\u001b[0m\u001b[1;33m.\u001b[0m\u001b[0mexecute\u001b[0m\u001b[1;33m(\u001b[0m\u001b[0mdriver_command\u001b[0m\u001b[1;33m,\u001b[0m \u001b[0mparams\u001b[0m\u001b[1;33m)\u001b[0m\u001b[1;33m\u001b[0m\u001b[1;33m\u001b[0m\u001b[0m\n\u001b[0;32m    434\u001b[0m         \u001b[1;32mif\u001b[0m \u001b[0mresponse\u001b[0m\u001b[1;33m:\u001b[0m\u001b[1;33m\u001b[0m\u001b[1;33m\u001b[0m\u001b[0m\n\u001b[1;32m--> 435\u001b[1;33m             \u001b[0mself\u001b[0m\u001b[1;33m.\u001b[0m\u001b[0merror_handler\u001b[0m\u001b[1;33m.\u001b[0m\u001b[0mcheck_response\u001b[0m\u001b[1;33m(\u001b[0m\u001b[0mresponse\u001b[0m\u001b[1;33m)\u001b[0m\u001b[1;33m\u001b[0m\u001b[1;33m\u001b[0m\u001b[0m\n\u001b[0m\u001b[0;32m    436\u001b[0m             response['value'] = self._unwrap_value(\n\u001b[0;32m    437\u001b[0m                 response.get('value', None))\n",
      "\u001b[1;32mc:\\users\\a-gue\\onedrive\\documentos\\python_projects\\panama_apt_pricing\\lib\\site-packages\\selenium\\webdriver\\remote\\errorhandler.py\u001b[0m in \u001b[0;36mcheck_response\u001b[1;34m(self, response)\u001b[0m\n\u001b[0;32m    245\u001b[0m                 \u001b[0malert_text\u001b[0m \u001b[1;33m=\u001b[0m \u001b[0mvalue\u001b[0m\u001b[1;33m[\u001b[0m\u001b[1;34m'alert'\u001b[0m\u001b[1;33m]\u001b[0m\u001b[1;33m.\u001b[0m\u001b[0mget\u001b[0m\u001b[1;33m(\u001b[0m\u001b[1;34m'text'\u001b[0m\u001b[1;33m)\u001b[0m\u001b[1;33m\u001b[0m\u001b[1;33m\u001b[0m\u001b[0m\n\u001b[0;32m    246\u001b[0m             \u001b[1;32mraise\u001b[0m \u001b[0mexception_class\u001b[0m\u001b[1;33m(\u001b[0m\u001b[0mmessage\u001b[0m\u001b[1;33m,\u001b[0m \u001b[0mscreen\u001b[0m\u001b[1;33m,\u001b[0m \u001b[0mstacktrace\u001b[0m\u001b[1;33m,\u001b[0m \u001b[0malert_text\u001b[0m\u001b[1;33m)\u001b[0m  \u001b[1;31m# type: ignore[call-arg]  # mypy is not smart enough here\u001b[0m\u001b[1;33m\u001b[0m\u001b[1;33m\u001b[0m\u001b[0m\n\u001b[1;32m--> 247\u001b[1;33m         \u001b[1;32mraise\u001b[0m \u001b[0mexception_class\u001b[0m\u001b[1;33m(\u001b[0m\u001b[0mmessage\u001b[0m\u001b[1;33m,\u001b[0m \u001b[0mscreen\u001b[0m\u001b[1;33m,\u001b[0m \u001b[0mstacktrace\u001b[0m\u001b[1;33m)\u001b[0m\u001b[1;33m\u001b[0m\u001b[1;33m\u001b[0m\u001b[0m\n\u001b[0m\u001b[0;32m    248\u001b[0m \u001b[1;33m\u001b[0m\u001b[0m\n\u001b[0;32m    249\u001b[0m     \u001b[1;32mdef\u001b[0m \u001b[0m_value_or_default\u001b[0m\u001b[1;33m(\u001b[0m\u001b[0mself\u001b[0m\u001b[1;33m,\u001b[0m \u001b[0mobj\u001b[0m\u001b[1;33m:\u001b[0m \u001b[0mMapping\u001b[0m\u001b[1;33m[\u001b[0m\u001b[0m_KT\u001b[0m\u001b[1;33m,\u001b[0m \u001b[0m_VT\u001b[0m\u001b[1;33m]\u001b[0m\u001b[1;33m,\u001b[0m \u001b[0mkey\u001b[0m\u001b[1;33m:\u001b[0m \u001b[0m_KT\u001b[0m\u001b[1;33m,\u001b[0m \u001b[0mdefault\u001b[0m\u001b[1;33m:\u001b[0m \u001b[0m_VT\u001b[0m\u001b[1;33m)\u001b[0m \u001b[1;33m->\u001b[0m \u001b[0m_VT\u001b[0m\u001b[1;33m:\u001b[0m\u001b[1;33m\u001b[0m\u001b[1;33m\u001b[0m\u001b[0m\n",
      "\u001b[1;31mNoSuchElementException\u001b[0m: Message: no such element: Unable to locate element: {\"method\":\"xpath\",\"selector\":\"//div/a/div[@itemprop='name']\"}\n  (Session info: chrome=104.0.5112.81)\nStacktrace:\nBacktrace:\n\tOrdinal0 [0x00DDAF23+2207523]\n\tOrdinal0 [0x00D730E1+1781985]\n\tOrdinal0 [0x00C83FE8+802792]\n\tOrdinal0 [0x00CB2290+991888]\n\tOrdinal0 [0x00CB252B+992555]\n\tOrdinal0 [0x00CDF6E2+1177314]\n\tOrdinal0 [0x00CCD634+1103412]\n\tOrdinal0 [0x00CDD9F2+1169906]\n\tOrdinal0 [0x00CCD406+1102854]\n\tOrdinal0 [0x00CA75F0+947696]\n\tOrdinal0 [0x00CA84E6+951526]\n\tGetHandleVerifier [0x01082A12+2733954]\n\tGetHandleVerifier [0x01074E28+2677656]\n\tGetHandleVerifier [0x00E646EA+513114]\n\tGetHandleVerifier [0x00E63796+509190]\n\tOrdinal0 [0x00D79CEB+1809643]\n\tOrdinal0 [0x00D7E448+1827912]\n\tOrdinal0 [0x00D7E535+1828149]\n\tOrdinal0 [0x00D87960+1866080]\n\tBaseThreadInitThunk [0x762BFA29+25]\n\tRtlGetAppContainerNamedObjectPath [0x77B17A9E+286]\n\tRtlGetAppContainerNamedObjectPath [0x77B17A6E+238]\n"
     ]
    }
   ],
   "source": [
    "data = []\n",
    "add_title = []\n",
    "add_price = []\n",
    "add_area = []\n",
    "add_time = []\n",
    "add_room = []\n",
    "add_loc = []\n",
    "add_prom = []\n",
    "# iterate over links\n",
    "for url in url_by_add[:2]:\n",
    "    print(url)\n",
    "    # get url on driver\n",
    "    driver.get(url)\n",
    "    # sleep 10 seconds just in case\n",
    "    time.sleep(5)\n",
    "    \n",
    "    \n",
    "    # get add and append\n",
    "    # adds = driver.find_element(By.XPATH, \"//div/a/div[@itemprop='name']\") # list of all adds\n",
    "    # for i in adds:\n",
    "    #     add_title.append(i.text)\n",
    "        \n",
    "#     # get price and append\n",
    "#     prices_1 = driver.find_elements(By.XPATH, \"//span[@class='ann-price']\")\n",
    "#     for i in prices_1:\n",
    "#         if i.text:\n",
    "#             add_price.append(i.text)\n",
    "#     prices_2 = driver.find_elements(By.XPATH, \"//div/span[@itemprop='offers']/div[@itemprop='price']\")\n",
    "#     for i in prices_2:\n",
    "#         if i.text:\n",
    "#             add_price.append(i.text)\n",
    "            \n",
    "#     # get area and append\n",
    "#     area = driver.find_elements(By.XPATH, \"//div/ul/li/span[@class='value']\")\n",
    "#     for i in area:\n",
    "#         if i.text[-2:] == \"m2\":\n",
    "#             add_area.append(i.text)\n",
    "            \n",
    "#         # get time while looping\n",
    "#         elif i.text[-3:] == \"ago\":\n",
    "#             add_time.append(i.text)\n",
    "        \n",
    "#         elif len(i.text) > 3:\n",
    "#             add_time.append(\"NaN\")\n",
    "#         # get rooms while looping:\n",
    "#         else:\n",
    "#             add_room.append(i.text)\n",
    "            \n",
    "#     # get location and appen\n",
    "#     location = driver.find_elements(By.XPATH, \"//div/span[@class='ann-info-item']\")\n",
    "#     for i in location:\n",
    "#         add_loc.append(i.text)\n",
    "    \n",
    "#     # get promotor and append\n",
    "#     promotor = driver.find_elements(By.XPATH, \"//div/span[@class='company-name']\")\n",
    "#     for i in promotor:\n",
    "#         if i:\n",
    "#             add_prom.append(i.text)\n",
    "#         else:\n",
    "#             add_prom.append(\"NaN\")\n",
    "    "
   ]
  },
  {
   "cell_type": "code",
   "execution_count": 53,
   "id": "c286ec32-b95a-4fe0-b7f8-1b9eeda74229",
   "metadata": {},
   "outputs": [],
   "source": [
    "# driver.get(url_by_add[0])\n"
   ]
  },
  {
   "cell_type": "markdown",
   "id": "d9cc9865-fc97-4b82-aa2b-250d06588edf",
   "metadata": {},
   "source": [
    "# Add missing values"
   ]
  },
  {
   "cell_type": "code",
   "execution_count": 31,
   "id": "57b1f211-384d-42dc-8eca-78bf2ee2aa97",
   "metadata": {},
   "outputs": [],
   "source": [
    "while len(add_title) != len(add_price):\n",
    "    add_price.append(\"NaN\")"
   ]
  },
  {
   "cell_type": "code",
   "execution_count": 32,
   "id": "3c24512f-3595-4bfe-a464-2420dffe64d9",
   "metadata": {},
   "outputs": [],
   "source": [
    "while len(add_title) != len(add_area):\n",
    "    add_area.append(\"NaN\")\n",
    "    \n",
    "while len(add_title) != len(add_time):\n",
    "    add_time.append(\"NaN\")\n",
    "    \n",
    "while len(add_title) != len(add_room):\n",
    "    add_room.append(\"NaN\")\n",
    "    \n",
    "while len(add_title) != len(add_prom):\n",
    "    add_prom.append(\"NaN\")"
   ]
  },
  {
   "cell_type": "code",
   "execution_count": 33,
   "id": "0d2287e3-fcc9-462a-9a50-8b7b1f7500fa",
   "metadata": {},
   "outputs": [],
   "source": [
    "df = pd.DataFrame({\"add_title\":add_title, \"add_price\": add_price, \"add_area\": add_area, \"add_time\": add_time, \"add_room\": add_room, \"add_loc\": add_loc, \"add_prom\": add_prom})"
   ]
  },
  {
   "cell_type": "code",
   "execution_count": 34,
   "id": "6f58dd33-0dc0-402a-a55d-3676f4808ad9",
   "metadata": {
    "tags": []
   },
   "outputs": [],
   "source": [
    "df.to_csv(\"data_panama_only.csv\")"
   ]
  },
  {
   "cell_type": "code",
   "execution_count": null,
   "id": "02e2403f-2b3f-4145-8ec3-6e954c2ff5ce",
   "metadata": {},
   "outputs": [],
   "source": []
  }
 ],
 "metadata": {
  "kernelspec": {
   "display_name": "Python 3 (ipykernel)",
   "language": "python",
   "name": "python3"
  },
  "language_info": {
   "codemirror_mode": {
    "name": "ipython",
    "version": 3
   },
   "file_extension": ".py",
   "mimetype": "text/x-python",
   "name": "python",
   "nbconvert_exporter": "python",
   "pygments_lexer": "ipython3",
   "version": "3.7.9"
  }
 },
 "nbformat": 4,
 "nbformat_minor": 5
}
